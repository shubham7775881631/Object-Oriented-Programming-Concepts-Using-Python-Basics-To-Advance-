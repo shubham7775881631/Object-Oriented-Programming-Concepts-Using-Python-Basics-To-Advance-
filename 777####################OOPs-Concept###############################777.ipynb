{
 "cells": [
  {
   "cell_type": "markdown",
   "metadata": {},
   "source": [
    "# OOps - Object Oriented Programming Concepts "
   ]
  },
  {
   "cell_type": "raw",
   "metadata": {},
   "source": [
    "In OOPs the importnce is given to the data rahter than the function \n",
    "\n",
    "it is collection of the object \n",
    "\n",
    "it follows the bottom up approach \n",
    "\n",
    "they have the accese specifer\n",
    "\n",
    "Building Blocks are the objects\n",
    "\n",
    "\n",
    "#In oops the memory allocation is done by the objects only (only objects takes memory)\n",
    "\n",
    "#the main purpose of the oops is create one time code and use again and again by the creating the multiple objects\n",
    "\n",
    "\n",
    "Always remember the structure of the class will be the class name , constructor , instance method"
   ]
  },
  {
   "cell_type": "code",
   "execution_count": 10,
   "metadata": {},
   "outputs": [
    {
     "name": "stdout",
     "output_type": "stream",
     "text": [
      "Hello, Python Jarvis\n",
      "it is Jarvis computer operating system in the IRON MAN Movie\n",
      "it is Jarvis Automated operating system \n",
      "Hello, Python Alexa\n",
      "it is Alexa computer operating system in the IRON MAN Movie\n",
      "it is Alexa Automated operating system \n",
      "Hello, Python Lora\n",
      "it is Lora computer operating system in the IRON MAN Movie\n",
      "it is Lora Automated operating system \n",
      "Hello, Python Gymmy\n",
      "it is Gymmy computer operating system in the IRON MAN Movie\n",
      "it is Gymmy Automated operating system \n"
     ]
    }
   ],
   "source": [
    "class MyFirstClass:\n",
    "    def __init__(self,msg):  # constructor in the python\n",
    "        self.msg=msg\n",
    "        \n",
    "    def display(self):\n",
    "        \n",
    "        print (\"Hello, Python\",self.msg)\n",
    "        \n",
    "    def count(self):\n",
    "        \n",
    "        print(\"it is\", self.msg, \"computer operating system in the IRON MAN Movie\")\n",
    "    def nature(self):\n",
    "        \n",
    "        print(\"it is\",self.msg,\"Automated operating system \")\n",
    "        \n",
    "        \n",
    "obj1 = MyFirstClass(\"Jarvis\")  # creating the objects\n",
    "obj1.display()\n",
    "obj1.count()\n",
    "obj1.nature()\n",
    "        \n",
    "obj2 = MyFirstClass(\"Alexa\")  # creating the objects\n",
    "obj2.display()\n",
    "obj2.count()\n",
    "obj2.nature()\n",
    "        \n",
    "obj3 = MyFirstClass(\"Lora\")  # creating the objects\n",
    "obj3.display()\n",
    "obj3.count()\n",
    "obj3.nature()\n",
    "       \n",
    "obj4 = MyFirstClass(\"Gymmy\")  # creating the objects\n",
    "obj4.display()\n",
    "obj4.count()\n",
    "obj4.nature()"
   ]
  },
  {
   "cell_type": "code",
   "execution_count": 15,
   "metadata": {},
   "outputs": [
    {
     "ename": "TypeError",
     "evalue": "__init__() missing 1 required positional argument: 'msg'",
     "output_type": "error",
     "traceback": [
      "\u001b[1;31m---------------------------------------------------------------------------\u001b[0m",
      "\u001b[1;31mTypeError\u001b[0m                                 Traceback (most recent call last)",
      "\u001b[1;32m<ipython-input-15-3b3b5eab69f0>\u001b[0m in \u001b[0;36m<module>\u001b[1;34m\u001b[0m\n\u001b[0;32m      1\u001b[0m \u001b[1;31m# waht happen when we will pass without arg\u001b[0m\u001b[1;33m\u001b[0m\u001b[1;33m\u001b[0m\u001b[1;33m\u001b[0m\u001b[0m\n\u001b[1;32m----> 2\u001b[1;33m \u001b[0mMyFirstClass\u001b[0m\u001b[1;33m(\u001b[0m\u001b[1;33m)\u001b[0m\u001b[1;33m\u001b[0m\u001b[1;33m\u001b[0m\u001b[0m\n\u001b[0m",
      "\u001b[1;31mTypeError\u001b[0m: __init__() missing 1 required positional argument: 'msg'"
     ]
    }
   ],
   "source": [
    "# waht happen when we will pass without arg\n",
    "MyFirstClass()\n"
   ]
  },
  {
   "cell_type": "code",
   "execution_count": null,
   "metadata": {},
   "outputs": [],
   "source": []
  },
  {
   "cell_type": "markdown",
   "metadata": {},
   "source": [
    "# Constructor:  represnted by __init__(self):\n",
    "\n",
    "\n",
    "##it is the special method.\n",
    "\n",
    "##whenever the objects are created the constructor will automtically run. \n",
    "\n",
    "##the main purpose of the contrutor is object declaration and the Initilization constructor should takes the at least one argument.\n",
    "\n",
    "\n",
    "#Lets see  the below two code we are creating the multiple constructor  in class but keep in mind only the last constrctor will be executed in class ,  so we can create the multiple constructor but the only last contructor will be executed and gets the priority.\n",
    "\n"
   ]
  },
  {
   "cell_type": "code",
   "execution_count": 2,
   "metadata": {},
   "outputs": [
    {
     "name": "stdout",
     "output_type": "stream",
     "text": [
      "with three argument the constructor is  executed jarvis 45 77\n"
     ]
    }
   ],
   "source": [
    "class Construct:\n",
    "    \n",
    "    def __init__(self):\n",
    "        print(\"without argument the constructor is  executed\")\n",
    "        \n",
    "    def __init__(self,x):\n",
    "        self.x=x\n",
    "        print(\"with one argument the constructor is  executed\",self.x)\n",
    "        \n",
    "    def __init__(self,x,y):\n",
    "        self.x=x\n",
    "        self.y=y\n",
    "        print(\"with two argument the constructor is  executed\",self.x,self.y) \n",
    "        \n",
    "    def __init__(self,x,y,z):\n",
    "        self.x=x\n",
    "        self.y=y\n",
    "        self.z=z\n",
    "        print(\"with three argument the constructor is  executed\",self.x,self.y,self.z)\n",
    "        \n",
    "#obj  = Construct()    \n",
    "#obj1 = Construct(\"jarvis\")   # it will not work throuh an error\n",
    "\n",
    "#obj2 = Construct(\"jarvis\",45)   # same here also\n",
    "\n",
    "obj3 = Construct(\"jarvis\",45,77) # here the class containg the three argument and it wil be executed\n",
    "\n",
    "\n",
    "\n",
    "\n",
    "       \n",
    "   \n",
    "\n",
    "\n",
    "        \n",
    "        "
   ]
  },
  {
   "cell_type": "code",
   "execution_count": 24,
   "metadata": {},
   "outputs": [
    {
     "name": "stdout",
     "output_type": "stream",
     "text": [
      "with two argument the constructor is  executed jarvis 45\n"
     ]
    }
   ],
   "source": [
    "class Construct:\n",
    "    \n",
    "    def __init__(self,x,y,z):\n",
    "        self.x=x\n",
    "        self.y=y\n",
    "        self.z=z\n",
    "        print(\"with three argument the constructor is  executed\",self.x,self.y,self.z)\n",
    "    \n",
    "    def __init__(self):\n",
    "        print(\"without argument the constructor is  executed\")\n",
    "        \n",
    "    def __init__(self,x):\n",
    "        self.x=x\n",
    "        print(\"with one argument the constructor is  executed\",self.x)\n",
    "        \n",
    "    def __init__(self,x,y):\n",
    "        self.x=x\n",
    "        self.y=y\n",
    "        print(\"with two argument the constructor is  executed\",self.x,self.y) \n",
    "        \n",
    "\n",
    "#obj  = Construct()  \n",
    "\n",
    "#obj3 = Construct(\"jarvis\",45,77)\n",
    "\n",
    "#obj1 = Construct(\"jarvis\") \n",
    "\n",
    "\n",
    "obj2 = Construct(\"jarvis\",45)   # in python gives the priority to the last construcotor\n",
    "\n",
    "\n",
    "        "
   ]
  },
  {
   "cell_type": "code",
   "execution_count": null,
   "metadata": {},
   "outputs": [],
   "source": [
    "# From the above exapmle we conclude that we can create the multiples number of the constructor but only the last contrucot will be work \n",
    "\n",
    "\n",
    "# Python Does not suppoer method overloading "
   ]
  },
  {
   "cell_type": "markdown",
   "metadata": {},
   "source": [
    "# self: it is the python provided implicit default variables \n",
    "\n",
    "it is always pointed to the current object \n",
    "\n",
    "it is helps in the accesing the current object as well as acesseing the cuurent method too\n",
    " \n",
    "In the contructor self will be the first argument \n",
    "\n",
    "self is the first argument in the instance of the method "
   ]
  },
  {
   "cell_type": "code",
   "execution_count": 30,
   "metadata": {},
   "outputs": [
    {
     "name": "stdout",
     "output_type": "stream",
     "text": [
      "Employee ID: 101\n",
      "Employee name: Tom\n",
      "Employee age: 34\n",
      "Employee Working Houres: 9\n",
      "the salary of the employee is:  1800\n",
      "Employee ID: 102\n",
      "Employee name: Lucy\n",
      "Employee age: 36\n",
      "Employee Working Houres: 7\n",
      "the salary of the employee is:  1400\n",
      "Employee ID: 103\n",
      "Employee name: Jeery\n",
      "Employee age: 29\n",
      "Employee Working Houres: 10\n",
      "the salary of the employee is:  2000\n"
     ]
    }
   ],
   "source": [
    "class Employee:\n",
    "    # Declaring the constructors : we can say that constuctors takes the object values and perform initilization\n",
    "    def __init__(self,e_id,name,age,working_hours):\n",
    "        # Instance of the variblaes are self.e_id,  self_name  ,self.age,  self.working_hours\n",
    "        self.e_id = e_id\n",
    "        self.name=name\n",
    "        self.age=age\n",
    "        self.working_hours=working_hours\n",
    "        \n",
    "    def display(self):\n",
    "        \n",
    "        print(\"Employee ID:\",self.e_id)\n",
    "        print(\"Employee name:\",self.name)\n",
    "        print(\"Employee age:\",self.age)\n",
    "        print(\"Employee Working Houres:\",self.working_hours)\n",
    "        \n",
    "    def salary(self):\n",
    "        \n",
    "        print(\"the salary of the employee is: \",self.working_hours*200)\n",
    "        \n",
    "obj1 =  Employee(101,\"Tom\",34,9) \n",
    "obj1.display()\n",
    "obj1.salary()\n",
    "\n",
    "obj2 =  Employee(102,\"Lucy\",36,7) \n",
    "obj2.display()\n",
    "obj2.salary()\n",
    "\n",
    "obj3 =  Employee(103,\"Jeery\",29,10) \n",
    "obj3.display()\n",
    "obj3.salary()\n",
    "    "
   ]
  },
  {
   "cell_type": "code",
   "execution_count": 2,
   "metadata": {},
   "outputs": [
    {
     "name": "stdout",
     "output_type": "stream",
     "text": [
      "Employee ID: 101\n",
      "Employee name: Tom\n",
      "Employee age: 34\n",
      "Employee Working Houres: 9\n",
      "the salary of the employee is:  1800\n",
      "Employee ID: 102\n",
      "Employee name: Lucy\n",
      "Employee age: 36\n",
      "Employee Working Houres: 7\n",
      "the salary of the employee is:  1400\n",
      "Employee ID: 103\n",
      "Employee name: Jeery\n",
      "Employee age: 29\n",
      "Employee Working Houres: 10\n",
      "the salary of the employee is:  2000\n"
     ]
    }
   ],
   "source": [
    "class Employee:\n",
    "    # Declaring the constructors : we can say that constuctors takes the object values and perform initilization\n",
    "    def __init__(self,e_id,name,age,working_hours):\n",
    "        # Instance of the variblaes are self.e_id,  self.name  ,self.age,  self.working_hours\n",
    "        self.e_id = e_id\n",
    "        self.name=name\n",
    "        self.age=age\n",
    "        self.working_hours=working_hours\n",
    "        \n",
    "    def display(self):\n",
    "        \n",
    "        print(\"Employee ID:\",self.e_id)\n",
    "        print(\"Employee name:\",self.name)\n",
    "        print(\"Employee age:\",self.age)\n",
    "        print(\"Employee Working Houres:\",self.working_hours)\n",
    "        \n",
    "    def salary(self):\n",
    "        \n",
    "        print(\"the salary of the employee is: \",self.working_hours*200)\n",
    "        \n",
    "        \n",
    "obj =  [Employee(101,\"Tom\",34,9),Employee(102,\"Lucy\",36,7),Employee(103,\"Jeery\",29,10)]\n",
    "\n",
    "for i in obj:\n",
    "    \n",
    "    i.display()\n",
    "    i.salary()\n",
    "\n",
    "\n"
   ]
  },
  {
   "cell_type": "markdown",
   "metadata": {},
   "source": [
    "# Methods vs Constructors"
   ]
  },
  {
   "cell_type": "raw",
   "metadata": {},
   "source": [
    "  Method vs constructor\n",
    "    \n",
    "    \n",
    "    1) The name of the method can be anything but the name of the constructor should be like __init__(self):\n",
    "        \n",
    "    2) Methods are not run automatically but the constructor will be run automatically \n",
    "    \n",
    "    3) Methods can be created multiple times but the constructors will not be created at multiple times \n",
    "    \n",
    "    \n",
    "Note: The best programming practice will be go with contructors\n",
    "\n",
    "Keep in Mind whenever a object created the constructor automatically run \n",
    "        \n",
    "        \n",
    "        "
   ]
  },
  {
   "cell_type": "markdown",
   "metadata": {},
   "source": [
    "# Types of the Variables "
   ]
  },
  {
   "cell_type": "raw",
   "metadata": {},
   "source": [
    "#1 Instant variable (Object level variable)\n",
    "#2 static variable (class level variable)\n",
    "#3 Local variable (Method level variable)"
   ]
  },
  {
   "cell_type": "markdown",
   "metadata": {},
   "source": [
    "# 1. Instant Variable : if the variable is varying from the object to the object then it is nothing but a instant variable "
   ]
  },
  {
   "cell_type": "code",
   "execution_count": null,
   "metadata": {},
   "outputs": [],
   "source": [
    "## where we can declare the instant variable \n",
    "\n",
    "###1 Inside the constructor by using the self variable \n",
    "###2 Inside the instance Method by using the self variable \n",
    "###3 Outside the class by using the object reference "
   ]
  },
  {
   "cell_type": "markdown",
   "metadata": {},
   "source": [
    "###1 Inside the constructor by using the self variable "
   ]
  },
  {
   "cell_type": "code",
   "execution_count": 6,
   "metadata": {},
   "outputs": [
    {
     "name": "stdout",
     "output_type": "stream",
     "text": [
      "{'eno': 101, 'ename': 'Tom', 'sal': 12000}\n"
     ]
    }
   ],
   "source": [
    "class Employee:\n",
    "    \n",
    "    ''' The instance of the variable inside the constructor '''\n",
    "    \n",
    "    def __init__(self):\n",
    "        self.eno=101            # thsee are the instant variable inside the costrctor using the self\n",
    "        self.ename=\"Tom\"\n",
    "        self.sal=12000\n",
    "        \n",
    "obj1 = Employee()   \n",
    "print(obj1.__dict__)"
   ]
  },
  {
   "cell_type": "markdown",
   "metadata": {},
   "source": []
  },
  {
   "cell_type": "code",
   "execution_count": 8,
   "metadata": {},
   "outputs": [
    {
     "name": "stdout",
     "output_type": "stream",
     "text": [
      "{'eno': 101, 'ename': 'Tom', 'sal': 1200}\n"
     ]
    }
   ],
   "source": [
    "class Employee:\n",
    "    \n",
    "    ''' The instance of the variable inside the instance Method '''\n",
    "    \n",
    "    def __init__(self,eno,ename,sal):\n",
    "        self.eno=eno\n",
    "        self.ename=ename\n",
    "        self.sal=sal\n",
    "        \n",
    "obj2 = Employee(101,\"Tom\",1200)   \n",
    "print(obj2.__dict__)"
   ]
  },
  {
   "cell_type": "code",
   "execution_count": null,
   "metadata": {},
   "outputs": [],
   "source": [
    "###2 Inside the instance Method by using the self variable \n",
    "######3 Outside the class by using the object reference "
   ]
  },
  {
   "cell_type": "code",
   "execution_count": 14,
   "metadata": {},
   "outputs": [
    {
     "name": "stdout",
     "output_type": "stream",
     "text": [
      "{}\n",
      "{'b': 777}\n",
      "{'b': 777, 'c': 888}\n",
      "{'b': 777, 'c': 888, 'd': 999}\n",
      "{'b': 777, 'c': 888, 'd': 999, 'e': 98989}\n"
     ]
    }
   ],
   "source": [
    "class Employee:\n",
    "    \n",
    "    \n",
    "    def __init__(self): # Construcotor\n",
    "        pass\n",
    "    \n",
    "    def m1(self):\n",
    "        self.b=777  ## Inside the Instance Method\n",
    "        \n",
    "obj1 = Employee()   # crating the object obj1\n",
    "print(obj1.__dict__)  # crreating  the dictionary\n",
    "\n",
    "''' The instance of the variable outside the class by using the object refrence  '''\n",
    "\n",
    "obj1.m1()            # her calling the instance of the vaiable by using the object reference \n",
    "print(obj1.__dict__) \n",
    "\n",
    "# if we have too add the instant varibale then \n",
    "\n",
    "obj1.c=888\n",
    "print(obj1.__dict__)\n",
    "\n",
    "obj1.d=999\n",
    "\n",
    "print(obj1.__dict__)\n",
    "\n",
    "obj1.e=98989\n",
    "print(obj1.__dict__)\n"
   ]
  },
  {
   "cell_type": "code",
   "execution_count": 1,
   "metadata": {},
   "outputs": [
    {
     "name": "stdout",
     "output_type": "stream",
     "text": [
      "{'eno': 101, 'ename': 'Tom', 'sal': 12000}\n"
     ]
    }
   ],
   "source": [
    "class Employee:\n",
    "    \n",
    "    def __init__(self):\n",
    "        self.eno=101\n",
    "        self.ename=\"Tom\"\n",
    "        self.sal=12000\n",
    "        \n",
    "obj1 = Employee()   \n",
    "print(obj1.__dict__)"
   ]
  },
  {
   "cell_type": "code",
   "execution_count": 30,
   "metadata": {},
   "outputs": [
    {
     "name": "stdout",
     "output_type": "stream",
     "text": [
      "10\n",
      "20\n",
      "30\n",
      "30\n",
      "20\n",
      "10\n"
     ]
    }
   ],
   "source": [
    "## How we can accesees the instant variable \n",
    "\n",
    "\n",
    "##1 Access the variable within the class by using the self\n",
    "\n",
    "class Test:\n",
    "    \n",
    "    def __init__(self):\n",
    "        \n",
    "        self.a=10\n",
    "        self.b=20\n",
    "        self.c=30\n",
    "        \n",
    "    def display(self):\n",
    "        \n",
    "        print( self.a)   #Access the variable \n",
    "        print( self.b)\n",
    "        print( self.c)\n",
    "        \n",
    "t = Test()\n",
    "t.display()\n",
    "\n",
    "##2 outside the class by using the object reference\n",
    "\n",
    "print(t.c)\n",
    "print(t.b)\n",
    "print(t.a)\n",
    "\n",
    "\n",
    "\n",
    "\n"
   ]
  },
  {
   "cell_type": "code",
   "execution_count": 31,
   "metadata": {},
   "outputs": [
    {
     "name": "stdout",
     "output_type": "stream",
     "text": [
      "{'b': 20, 'c': 30}\n",
      "{'b': 20}\n",
      "{'b': 20, 'a': 10000, 'c': 20000}\n"
     ]
    }
   ],
   "source": [
    "##3 deleting the instance variable \n",
    "\n",
    "del t.a\n",
    "\n",
    "print(t.__dict__)\n",
    "\n",
    "del t.c\n",
    "\n",
    "print(t.__dict__)\n",
    "\n",
    "\n",
    "# adding the instant variables \n",
    "\n",
    "t.a=10000\n",
    "t.c=20000\n",
    "print(t.__dict__)"
   ]
  },
  {
   "cell_type": "code",
   "execution_count": 38,
   "metadata": {},
   "outputs": [
    {
     "name": "stdout",
     "output_type": "stream",
     "text": [
      "{'b': 2}\n",
      "{'b': 2, 'a': 888}\n",
      "{'b': 777, 'a': 888}\n",
      "888 777\n",
      "100 2\n"
     ]
    }
   ],
   "source": [
    "class Test :\n",
    "    \n",
    "    a=100 # static variable\n",
    "    \n",
    "    def __init__(self):\n",
    "        self.b=2 # Instant Variable \n",
    "        \n",
    "        \n",
    "t = Test()          # Let's trace this program   firstly the object is created \"t \"\n",
    "print(t.__dict__)   # whenever the object is created the contructor automatically run the object is created \n",
    "                    # so contrcutor executed and print  the instant variable output:{'b': 2} and control goes to next\n",
    "    \n",
    "\n",
    "t.a=888             # here we declare the instant variable a outside the class  and if we print  the class \n",
    "print(t.__dict__)  # it gives  output: {'b': 2, 'a': 888}\n",
    "\n",
    "t.b=777            ## here we UPDATING the instant variable b outside the class  and if we print  the class \n",
    "print(t.__dict__) ### it gives  output:{'b': 777, 'a': 888}\n",
    "\n",
    "\n",
    "print(t.a,t.b)\n",
    "\n",
    "t2 = Test()\n",
    "\n",
    "print(t2.a,t2.b)\n"
   ]
  },
  {
   "cell_type": "markdown",
   "metadata": {},
   "source": [
    "# Static Variable :  one copy of the static variable declared at  the class level"
   ]
  },
  {
   "cell_type": "raw",
   "metadata": {},
   "source": [
    "For the static Variable there is no requirement of the seperate copy of the variable  "
   ]
  },
  {
   "cell_type": "markdown",
   "metadata": {},
   "source": [
    "## Declaration of the static Variable:\n",
    "Always remember the static variable is occurs with class name  \n",
    "\n",
    "\n",
    "1. Inside the class\n",
    "\n",
    "2. Inside the Contrucotor by Using the Class Name\n",
    "\n",
    "3. Inside the Instance Method By Using The Class Name\n",
    "\n",
    "4. Inside the ClassMethod by using the cls Variable or the class Name  \n",
    "\n",
    "5. Inside the staticMethod by Using Class Name \n",
    "\n",
    "6. Declare OutSide the Class\n",
    "\n",
    "\n",
    "## Static Variable : Only one Copy Created at the Class Level\n",
    "\n",
    "## Instance Variable: For the Every Object  We Create the Seprate Copy of the Variable \n",
    "\n",
    "\n",
    "## Point To be Noted The First Priority is always goes to the Inastance variable then the Static Variable comes\n",
    "\n",
    "##if the instance varibale is not present in the class the the priority goes to the static variable \n"
   ]
  },
  {
   "cell_type": "code",
   "execution_count": null,
   "metadata": {},
   "outputs": [],
   "source": []
  },
  {
   "cell_type": "code",
   "execution_count": 28,
   "metadata": {},
   "outputs": [
    {
     "name": "stdout",
     "output_type": "stream",
     "text": [
      "{'__module__': '__main__', 'a': 100, '__init__': <function Test.__init__ at 0x000001DDF1DE0678>, 'm1': <function Test.m1 at 0x000001DDF1DE0708>, 'm2': <classmethod object at 0x000001DDF1DE7BC8>, 'm3': <staticmethod object at 0x000001DDF1DE7EC8>, '__dict__': <attribute '__dict__' of 'Test' objects>, '__weakref__': <attribute '__weakref__' of 'Test' objects>, '__doc__': None}\n",
      "{'__module__': '__main__', 'a': 100, '__init__': <function Test.__init__ at 0x000001DDF1DE0678>, 'm1': <function Test.m1 at 0x000001DDF1DE0708>, 'm2': <classmethod object at 0x000001DDF1DE7BC8>, 'm3': <staticmethod object at 0x000001DDF1DE7EC8>, '__dict__': <attribute '__dict__' of 'Test' objects>, '__weakref__': <attribute '__weakref__' of 'Test' objects>, '__doc__': None, 'www': 20000}\n"
     ]
    }
   ],
   "source": [
    "class Test: # Declare the class class name= Test\n",
    "    \n",
    "    a=100     ###1. Inside the class\n",
    "    \n",
    "    def __init__(self):#Declaring the constructor\n",
    "        \n",
    "        Test.b=200  ###2.Inside the Contrucotor by Using the Class Name\n",
    "        \n",
    "    def m1(self): # Declaring the instance Method\n",
    "        \n",
    "        Test.c=300  ###3.Static variable Inside the Instance Method By Using The Class Name\n",
    "        \n",
    "    @classmethod  \n",
    "    def m2(cls):\n",
    "        \n",
    "        cls.d=400    ###4. Inside the ClassMethod by using the cls Variable \n",
    "\n",
    "        Test.e=500  ###4. Inside the ClassMethod by using the class Name  \n",
    "\n",
    "        \n",
    "    @staticmethod\n",
    "    def m3():\n",
    "        \n",
    "        Test.f=600  ###5. Inside the staticMethod by Using Class Name\n",
    "        \n",
    "# Let's printing the static varables inside the  class by using  the class name \n",
    "\n",
    "print(Test.__dict__)  # output: {'__module__': '__main__', 'a': 100....\n",
    "\n",
    "\n",
    "Test.www=20000         # Declaring the static Variable outside the Class\n",
    "print(Test.__dict__)\n",
    "\n",
    "\n",
    "\n",
    "\n",
    "               \n",
    "\n"
   ]
  },
  {
   "cell_type": "code",
   "execution_count": 21,
   "metadata": {},
   "outputs": [
    {
     "name": "stdout",
     "output_type": "stream",
     "text": [
      "{'__module__': '__main__', 'a': 100, '__init__': <function Test.__init__ at 0x000001DDF1D47E58>, 'm1': <function Test.m1 at 0x000001DDF1D47B88>, 'm2': <classmethod object at 0x000001DDF1D04A48>, 'm3': <staticmethod object at 0x000001DDF1D0AF48>, '__dict__': <attribute '__dict__' of 'Test' objects>, '__weakref__': <attribute '__weakref__' of 'Test' objects>, '__doc__': None, 'b': 200}\n"
     ]
    }
   ],
   "source": [
    " #Creating the object  we know whenever the object is created contrucotot will automatically executed\n",
    "t =  Test()\n",
    "print(Test.__dict__) # ouput getting the  {'__module__': '__main__', 'a': 100, 'b': 200}because yet now we didnt call the method\n",
    "        "
   ]
  },
  {
   "cell_type": "code",
   "execution_count": 9,
   "metadata": {},
   "outputs": [
    {
     "name": "stdout",
     "output_type": "stream",
     "text": [
      "{'__module__': '__main__', 'a': 100, '__init__': <function Test.__init__ at 0x000001DDF1D4E828>, 'm1': <function Test.m1 at 0x000001DDF1D4E8B8>, 'm2': <classmethod object at 0x000001DDF1D0A248>, 'm3': <staticmethod object at 0x000001DDF1D0D448>, '__dict__': <attribute '__dict__' of 'Test' objects>, '__weakref__': <attribute '__weakref__' of 'Test' objects>, '__doc__': None, 'b': 200, 'c': 300}\n"
     ]
    }
   ],
   "source": [
    "\n",
    "# Calling the m1\n",
    "t.m1()                  # keep in mind instace method only run when we call by the object and execute the only the contructor will be executed automatically\n",
    "print(Test.__dict__)    # output : {'a': 100,'b': 200, 'c': 300}\n",
    "    "
   ]
  },
  {
   "cell_type": "code",
   "execution_count": 15,
   "metadata": {},
   "outputs": [
    {
     "name": "stdout",
     "output_type": "stream",
     "text": [
      "{'__module__': '__main__', 'a': 100, '__init__': <function Test.__init__ at 0x000001DDF1DCB798>, 'm1': <function Test.m1 at 0x000001DDF1DCB828>, 'm2': <classmethod object at 0x000001DDF1DD7048>, 'm3': <staticmethod object at 0x000001DDF1DD71C8>, '__dict__': <attribute '__dict__' of 'Test' objects>, '__weakref__': <attribute '__weakref__' of 'Test' objects>, '__doc__': None, 'e': 500, 'b': 200, 'd': 400}\n"
     ]
    }
   ],
   "source": [
    "\n",
    "# calling m2\n",
    "\n",
    "t.m2()            #calling the instance method \n",
    "print(Test.__dict__)  #output:{'__module__': '__main__', 'a': 100,...., 'b': 200,'d': 400,'e': 500}\n",
    "    "
   ]
  },
  {
   "cell_type": "code",
   "execution_count": 23,
   "metadata": {},
   "outputs": [
    {
     "name": "stdout",
     "output_type": "stream",
     "text": [
      "{'__module__': '__main__', 'a': 100, '__init__': <function Test.__init__ at 0x000001DDF1D47E58>, 'm1': <function Test.m1 at 0x000001DDF1D47B88>, 'm2': <classmethod object at 0x000001DDF1D04A48>, 'm3': <staticmethod object at 0x000001DDF1D0AF48>, '__dict__': <attribute '__dict__' of 'Test' objects>, '__weakref__': <attribute '__weakref__' of 'Test' objects>, '__doc__': None, 'b': 200, 'f': 600}\n"
     ]
    }
   ],
   "source": [
    " #calling m3\n",
    "\n",
    "t.m3()            #calling the instance method \n",
    "print(Test.__dict__)  #output:{'__module__': '__main__', 'a': 100,...., 'b': 200,'f': 600}}\n",
    "    "
   ]
  },
  {
   "cell_type": "code",
   "execution_count": null,
   "metadata": {},
   "outputs": [],
   "source": [
    "# Examples: "
   ]
  },
  {
   "cell_type": "code",
   "execution_count": 24,
   "metadata": {},
   "outputs": [
    {
     "name": "stdout",
     "output_type": "stream",
     "text": [
      "888\n",
      "777\n"
     ]
    }
   ],
   "source": [
    "class Test:\n",
    "    a=777  # static variable\n",
    "    def __init__(self):\n",
    "        \n",
    "        self.a=888  # Instance Variable\n",
    "t= Test() \n",
    "print(t.a) # printing instance variable by using object name\n",
    "print(Test.a)  # Printing the Static Variable By using the Class Name "
   ]
  },
  {
   "cell_type": "code",
   "execution_count": 25,
   "metadata": {},
   "outputs": [
    {
     "name": "stdout",
     "output_type": "stream",
     "text": [
      "888\n",
      "10\n"
     ]
    }
   ],
   "source": [
    "class Test:\n",
    "    a=777  # static variable\n",
    "    def __init__(self):\n",
    "        Test.a=10\n",
    "        self.a=888  # Instance Variable\n",
    "t= Test() \n",
    "print(t.a)\n",
    "print(Test.a)  # the updated static Varable will be printed"
   ]
  },
  {
   "cell_type": "markdown",
   "metadata": {},
   "source": [
    "## Acsessing the Static Variable:\n",
    "\n",
    "#1. Inside the constrctor  by using the-----> Either Self or the class name\n",
    "\n",
    "#2. Inside the instance MEthod by using----->Either Self or  the Class Name \n",
    "\n",
    "#3. Inside the class MEthod by using-------->Either cls or  the Class Name\n",
    "\n",
    "#4. Inside the Static Metod By using--------> The class name\n",
    "\n",
    "#5. Outside the class by using the ---------> object reference or the class name\n",
    " "
   ]
  },
  {
   "cell_type": "raw",
   "metadata": {},
   "source": []
  },
  {
   "cell_type": "code",
   "execution_count": 50,
   "metadata": {},
   "outputs": [
    {
     "name": "stdout",
     "output_type": "stream",
     "text": [
      "100\n",
      "100\n",
      "100\n",
      "100\n",
      "100\n",
      "100\n",
      "100\n"
     ]
    },
    {
     "data": {
      "text/plain": [
       "100"
      ]
     },
     "execution_count": 50,
     "metadata": {},
     "output_type": "execute_result"
    }
   ],
   "source": [
    "\n",
    "\n",
    "\n",
    "class Test:\n",
    "    \n",
    "    a=100\n",
    "    \n",
    "    def __init__(self):  ##1. Inside the constrctor  by using the-----> Either Self or the class name\n",
    "        #self.a=100\n",
    "        print(self.a)  #Keep in mind this is not the instance variable. this is the static variable because we are accessing the static varible declared as a=100\n",
    "        print(Test.a)  # this knwoen with class name \n",
    "        \n",
    "        \n",
    "    def m1(self):\n",
    "        print(self.a) ##2. Inside the instance MEthod by using-----> Self \n",
    "        print(Test.a) ###2. Inside the instance MEthod by using----->  the Class Name \n",
    "        \n",
    "        \n",
    "    @classmethod\n",
    "    def m2(cls):\n",
    "        print(cls.a)   ##3. Inside the class MEthod by using-------->cls\n",
    "        print(Test.a)####3. Inside the class MEthod by using-------->the Class Name\n",
    "\n",
    "        \n",
    "        \n",
    "    @staticmethod\n",
    "    def m3():\n",
    "        \n",
    "        print(Test.a)  ##4. Inside the Static Metod By using--------> The class name  \n",
    "        \n",
    "        \n",
    "        \n",
    "        \n",
    "        \n",
    "\n",
    "t= Test()  # output: 100 100\n",
    "\n",
    "\n",
    "t.m1()     ## output: 100 100 100 100\n",
    "\n",
    "t.m2()     #  output: 100 100 100 100 100 100\n",
    "\n",
    "t.m3()      #  output: 100 100 100 100 100 100 100\n",
    "\n",
    "\n",
    "t.a   # here the instance variable s not present the priorty goes the statica variable  and prints the static value =100\n",
    "        \n",
    "     "
   ]
  },
  {
   "cell_type": "markdown",
   "metadata": {},
   "source": [
    "## Modification of the Static Variable:\n",
    "\n",
    "#1. By using the class name (Inside or the outside the class)\n",
    "\n",
    "#2. Inside the class method by using the cls variable\n",
    "\n",
    "#3. Inside the static method using class name \n",
    "\n"
   ]
  },
  {
   "cell_type": "code",
   "execution_count": null,
   "metadata": {},
   "outputs": [],
   "source": []
  },
  {
   "cell_type": "code",
   "execution_count": 61,
   "metadata": {},
   "outputs": [
    {
     "name": "stdout",
     "output_type": "stream",
     "text": [
      "{'__module__': '__main__', 'a': 777, '__init__': <function Test.__init__ at 0x000001DDF1DF9828>, 'm1': <function Test.m1 at 0x000001DDF1DF98B8>, 'm2': <classmethod object at 0x000001DDF1E0E888>, 'm3': <staticmethod object at 0x000001DDF1E0E848>, '__dict__': <attribute '__dict__' of 'Test' objects>, '__weakref__': <attribute '__weakref__' of 'Test' objects>, '__doc__': None}\n",
      "{'__module__': '__main__', 'a': 888, '__init__': <function Test.__init__ at 0x000001DDF1DF9828>, 'm1': <function Test.m1 at 0x000001DDF1DF98B8>, 'm2': <classmethod object at 0x000001DDF1E0E888>, 'm3': <staticmethod object at 0x000001DDF1E0E848>, '__dict__': <attribute '__dict__' of 'Test' objects>, '__weakref__': <attribute '__weakref__' of 'Test' objects>, '__doc__': None}\n",
      "{'__module__': '__main__', 'a': 1000, '__init__': <function Test.__init__ at 0x000001DDF1DF9828>, 'm1': <function Test.m1 at 0x000001DDF1DF98B8>, 'm2': <classmethod object at 0x000001DDF1E0E888>, 'm3': <staticmethod object at 0x000001DDF1E0E848>, '__dict__': <attribute '__dict__' of 'Test' objects>, '__weakref__': <attribute '__weakref__' of 'Test' objects>, '__doc__': None}\n",
      "{'__module__': '__main__', 'a': 878539, '__init__': <function Test.__init__ at 0x000001DDF1DF9828>, 'm1': <function Test.m1 at 0x000001DDF1DF98B8>, 'm2': <classmethod object at 0x000001DDF1E0E888>, 'm3': <staticmethod object at 0x000001DDF1E0E848>, '__dict__': <attribute '__dict__' of 'Test' objects>, '__weakref__': <attribute '__weakref__' of 'Test' objects>, '__doc__': None}\n",
      "{'__module__': '__main__', 'a': 100, '__init__': <function Test.__init__ at 0x000001DDF1DF9828>, 'm1': <function Test.m1 at 0x000001DDF1DF98B8>, 'm2': <classmethod object at 0x000001DDF1E0E888>, 'm3': <staticmethod object at 0x000001DDF1E0E848>, '__dict__': <attribute '__dict__' of 'Test' objects>, '__weakref__': <attribute '__weakref__' of 'Test' objects>, '__doc__': None}\n"
     ]
    }
   ],
   "source": [
    "class Test:\n",
    "    \n",
    "    a=10\n",
    "    \n",
    "    def __init__(self):\n",
    "        \n",
    "        Test.a=777 #1. By using the class name (Inside \n",
    "    def m1(self):\n",
    "        \n",
    "        Test.a=888\n",
    "        \n",
    "    @classmethod\n",
    "    def m2(cls):\n",
    "        cls.a=999 ##2. Inside the class method by using the cls variable\n",
    "        Test.a=1000 ##2. Inside the class method by using the class Name\n",
    "        \n",
    "    @staticmethod\n",
    "    def m3():\n",
    "        \n",
    "        Test.a=878539 #3. Inside the static method using class name\n",
    "        \n",
    "t= Test()\n",
    "print(Test.__dict__)  # ouput: , 'a': 777, \n",
    "\n",
    "t.m1()\n",
    "print(Test.__dict__)  # updated output : 'a': 888\n",
    "\n",
    "\n",
    "t.m2()\n",
    "print(Test.__dict__)  # updated output:'a': 1000\n",
    "\n",
    "t.m3()\n",
    "print(Test.__dict__)  # updated output 'a': 878539,\n",
    "\n",
    "\n",
    "Test.a=100    # updating Static variable by using the class name  Outside the class\n",
    "print(Test.__dict__)   #  'a': 100"
   ]
  },
  {
   "cell_type": "code",
   "execution_count": 67,
   "metadata": {},
   "outputs": [
    {
     "name": "stdout",
     "output_type": "stream",
     "text": [
      "777\n",
      "1000\n"
     ]
    }
   ],
   "source": [
    "class Test:\n",
    "    \n",
    "    a=10\n",
    "    \n",
    "    def __init__(self):\n",
    "        \n",
    "        Test.a=1000\n",
    "        a=123\n",
    "        self.a=777\n",
    "        \n",
    "t = Test()\n",
    "\n",
    "print(t.a)    # fissst of all check the instant variable is present or not ,yes self.a=777\n",
    "\n",
    "print(Test.a) # it gets the updated value f the static variable i.e a=1000\n",
    "\n",
    "#print(a)  # it throws an error\n",
    "\n",
    "\n",
    " \n",
    "        \n",
    "    "
   ]
  },
  {
   "cell_type": "code",
   "execution_count": 68,
   "metadata": {},
   "outputs": [
    {
     "data": {
      "text/plain": [
       "1000"
      ]
     },
     "execution_count": 68,
     "metadata": {},
     "output_type": "execute_result"
    }
   ],
   "source": [
    "class Test:\n",
    "    \n",
    "    a=10\n",
    "    \n",
    "    def __init__(self):\n",
    "        \n",
    "        Test.a=1000\n",
    "        a=123\n",
    "      \n",
    "        \n",
    "t = Test()\n",
    "\n",
    "Test.a   # here there is no instance variable the priorty goes to the static variable\n"
   ]
  },
  {
   "cell_type": "code",
   "execution_count": null,
   "metadata": {},
   "outputs": [],
   "source": [
    "#Local Variable: It doee not work outside the class it designed for the sepecfic method"
   ]
  },
  {
   "cell_type": "code",
   "execution_count": 70,
   "metadata": {},
   "outputs": [
    {
     "name": "stdout",
     "output_type": "stream",
     "text": [
      "123\n",
      "100 453\n"
     ]
    }
   ],
   "source": [
    "class Test:\n",
    "    \n",
    "    a=10\n",
    "    \n",
    "    def __init__(self):\n",
    "        \n",
    "        Test.a=1000\n",
    "        a=123        # Local Variable for the constructor only\n",
    "        print(a)\n",
    "        \n",
    "    def m1(self):\n",
    "        \n",
    "        a=100    # Local variable to is only for m1()\n",
    "        b=453      \n",
    "        print(a,b)\n",
    "      \n",
    "        \n",
    "t = Test()\n",
    "\n",
    "t.m1()\n"
   ]
  },
  {
   "cell_type": "code",
   "execution_count": null,
   "metadata": {},
   "outputs": [],
   "source": []
  },
  {
   "cell_type": "code",
   "execution_count": 74,
   "metadata": {},
   "outputs": [
    {
     "name": "stdout",
     "output_type": "stream",
     "text": [
      "777\n",
      "777\n",
      "777\n"
     ]
    }
   ],
   "source": [
    "class Test:\n",
    "    \n",
    "    x=100\n",
    "    \n",
    "    def __init__(self):\n",
    "        \n",
    "        self.x=777  # Instance Variable\n",
    "        \n",
    "        Test.x=777  # Static Varable\n",
    "        \n",
    "        x=777    # Local Variable\n",
    "        print(x)\n",
    "        \n",
    "t = Test()\n",
    "\n",
    "print(t.x)\n",
    "\n",
    "print(Test.x)\n"
   ]
  },
  {
   "cell_type": "code",
   "execution_count": 78,
   "metadata": {},
   "outputs": [
    {
     "name": "stdout",
     "output_type": "stream",
     "text": [
      "777 999\n",
      "777\n",
      "3434 7676\n"
     ]
    }
   ],
   "source": [
    "class Test:\n",
    "    \n",
    "    x=100\n",
    "    \n",
    "    def __init__(self):\n",
    "        self.y=999\n",
    "        self.x=777    # Instance Variable\n",
    "        Test.x=777    # Static Varable\n",
    "        x=777         # Local Variable\n",
    "       \n",
    "        \n",
    "t1 = Test()\n",
    "t2 = Test()\n",
    "\n",
    "\n",
    "print(t1.x,t2.y)\n",
    "\n",
    "print(Test.x)\n",
    "\n",
    "t1.x=3434 # it replaces the instance variable  self.x\n",
    "t2.y=7676 # it is also replaces the instance variable self.y\n",
    "print(t1.x,t2.y)\n",
    "\n"
   ]
  },
  {
   "cell_type": "code",
   "execution_count": 85,
   "metadata": {},
   "outputs": [
    {
     "name": "stdout",
     "output_type": "stream",
     "text": [
      "888 999\n",
      "10 20\n"
     ]
    }
   ],
   "source": [
    "class Test:\n",
    "    \n",
    "    a= 10 \n",
    "    \n",
    "    def __init__(self):\n",
    "        \n",
    "        self.b=20\n",
    "        \n",
    "    def m1(self):\n",
    "        \n",
    "        self.a=888\n",
    "        self.b=999\n",
    "t1= Test()\n",
    "t2= Test()\n",
    "t1.m1()\n",
    "\n",
    "\n",
    "\n",
    "print(t1.a,t1.b)\n",
    "print(t2.a,t2.b)  # heret t2 object does not call the m1(self) instance method so only the construcotor will be executed\n",
    "                   # here a will print because there is no instance variable is present her and for b ther is instance variable will ne executed\n",
    "        "
   ]
  },
  {
   "cell_type": "code",
   "execution_count": 96,
   "metadata": {},
   "outputs": [
    {
     "name": "stdout",
     "output_type": "stream",
     "text": [
      "2020 20\n",
      "2020 20\n",
      "2020 2929\n"
     ]
    }
   ],
   "source": [
    "class Test:\n",
    "    \n",
    "    a= 10 \n",
    "    \n",
    "    def __init__(self):\n",
    "        \n",
    "        self.b=20\n",
    "        \n",
    "    \n",
    "    @classmethod\n",
    "    def m2(cls):\n",
    "        cls.a=2020\n",
    "        cls.b=2929\n",
    "        \n",
    "t1= Test()\n",
    "t2= Test()\n",
    "\n",
    "t1.m2()\n",
    "\n",
    "\n",
    "print(t1.a,t1.b)  \n",
    "print(t2.a,t2.b) # because it takes the updated values\n",
    "print(Test.a,Test.b) # updated static variable from the class method all over the class\n"
   ]
  },
  {
   "cell_type": "code",
   "execution_count": 8,
   "metadata": {},
   "outputs": [
    {
     "name": "stdout",
     "output_type": "stream",
     "text": [
      "{'__module__': '__main__', 'a': 48, '__init__': <function Test.__init__ at 0x00000190D1311678>, 'm1': <function Test.m1 at 0x00000190D13115E8>, 'm2': <classmethod object at 0x00000190D1312308>, 'm3': <staticmethod object at 0x00000190D1312688>, '__dict__': <attribute '__dict__' of 'Test' objects>, '__weakref__': <attribute '__weakref__' of 'Test' objects>, '__doc__': None}\n",
      "{'a': 102}\n",
      "{'__module__': '__main__', 'a': 998, '__init__': <function Test.__init__ at 0x00000190D1311678>, 'm1': <function Test.m1 at 0x00000190D13115E8>, 'm2': <classmethod object at 0x00000190D1312308>, 'm3': <staticmethod object at 0x00000190D1312688>, '__dict__': <attribute '__dict__' of 'Test' objects>, '__weakref__': <attribute '__weakref__' of 'Test' objects>, '__doc__': None}\n",
      "3636 7474\n",
      "7676 4543\n",
      "3636 7474\n",
      "33333 4543\n"
     ]
    }
   ],
   "source": [
    "class Test:\n",
    "    a =48\n",
    "    def __init__(self):\n",
    "        self.a=102  # instance Variable\n",
    "        a=90 # Local Variable \n",
    "        Test.a=998  # static Variable \n",
    "        \n",
    "    def m1(self):\n",
    "        \n",
    "        Test.a=7676\n",
    "        Test.b=4543\n",
    "        self.a=3636\n",
    "        self.b=7474\n",
    "        \n",
    "    @classmethod\n",
    "    def m2(cls):\n",
    "        \n",
    "        cls.a=33333        \n",
    "       \n",
    "    @staticmethod\n",
    "    def m3():\n",
    "        Test.a=123\n",
    "        \n",
    "        \n",
    "\n",
    "print(Test.__dict__)\n",
    "\n",
    "t = Test()\n",
    "\n",
    "print(t.__dict__)\n",
    "print(Test.__dict__)\n",
    "\n",
    "t.m1()\n",
    "print(t.a,t.b)\n",
    "print(Test.a,Test.b)\n",
    "\n",
    "t.m2()\n",
    "print(t.a,t.b)\n",
    "print(Test.a,Test.b)\n",
    "        \n",
    "        \n",
    "        "
   ]
  },
  {
   "cell_type": "markdown",
   "metadata": {},
   "source": [
    "# Types Of the Method:\n",
    "\n",
    "1. Instance Method(Object related Method)\n",
    "\n",
    "2. Static Method\n",
    "\n",
    "3. Class Method"
   ]
  },
  {
   "cell_type": "markdown",
   "metadata": {},
   "source": [
    "## Instance Method: it is related to the object\n",
    "\n",
    "##Any method consist of the instance variable\n",
    "\n",
    "##Inside the instance method the self keyword is compulsary\n"
   ]
  },
  {
   "cell_type": "code",
   "execution_count": 26,
   "metadata": {},
   "outputs": [
    {
     "name": "stdout",
     "output_type": "stream",
     "text": [
      "Hey there, TOM , Your Marks:  97\n",
      "Congrates, Your Grade is A\n",
      "Hey there, LUCY , Your Marks:  89\n",
      "congrates Your Grade is B\n",
      "Hey there, SAMMMY , Your Marks:  33\n",
      "Better Your Luck Next Time\n",
      "Hey there, MAXIE , Your Marks:  65\n",
      "congrates Your Grade is B\n",
      "Hey there, JIMMY , Your Marks:  77\n",
      "congrates Your Grade is B\n"
     ]
    }
   ],
   "source": [
    "class Student:\n",
    "    \n",
    "    def __init__(self,name,marks):\n",
    "        \n",
    "        self.name=name\n",
    "        self.marks=marks\n",
    "        \n",
    "    def display(self):         # this is the instance method here it takes the self keyword\n",
    "        \n",
    "        print(\"Hey there,\",self.name,\", Your Marks: \",self.marks)  # IN the Istance method we are declaring the instance variable \n",
    "    \n",
    "    \n",
    "    def grade(self):\n",
    "        \n",
    "        if(self.marks >=90):\n",
    "            print(\"Congrates, Your Grade is A\")\n",
    "        elif(self.marks >=60):\n",
    "            print(\"congrates Your Grade is B\")\n",
    "        elif(self.marks >=35):\n",
    "            print(\"congrates, Your Grade is C\")\n",
    "        else:\n",
    "            print(\"Better Your Luck Next Time\")\n",
    "            \n",
    "s1 = Student(\"TOM\",97)\n",
    "s1.display()\n",
    "s1.grade()\n",
    "s2 = Student(\"LUCY\",89) \n",
    "s2.display()\n",
    "s2.grade()\n",
    "s3 = Student(\"SAMMMY\",33)\n",
    "s3.display()\n",
    "s3.grade()\n",
    "s4 = Student(\"MAXIE\",65) \n",
    "s4.display()\n",
    "s4.grade()\n",
    "s5 = Student(\"JIMMY\",77)\n",
    "s5.display()\n",
    "s5.grade()\n",
    "\n",
    "\n",
    "      "
   ]
  },
  {
   "cell_type": "code",
   "execution_count": null,
   "metadata": {},
   "outputs": [],
   "source": [
    "## Suppose i dont want to calll the instance method outsode the cass then how to excute\n",
    "\n",
    "## We can call the Instance Method within the Constructor "
   ]
  },
  {
   "cell_type": "code",
   "execution_count": 27,
   "metadata": {},
   "outputs": [
    {
     "name": "stdout",
     "output_type": "stream",
     "text": [
      "Hey there, TOM , Your Marks:  97\n",
      "Congrates, Your Grade is A\n",
      "Hey there, LUCY , Your Marks:  89\n",
      "congrates Your Grade is B\n",
      "Hey there, SAMMMY , Your Marks:  33\n",
      "Better Your Luck Next Time\n",
      "Hey there, MAXIE , Your Marks:  65\n",
      "congrates Your Grade is B\n",
      "Hey there, JIMMY , Your Marks:  77\n",
      "congrates Your Grade is B\n"
     ]
    }
   ],
   "source": [
    "class Student:\n",
    "    \n",
    "    def __init__(self,name,marks):\n",
    "        \n",
    "        self.name=name\n",
    "        self.marks=marks\n",
    "        self.display()  ### call the instance method within the constructor\n",
    "        self.grade()\n",
    "        \n",
    "    def display(self):         # this is the instance method here it takes the self keyword\n",
    "        \n",
    "        print(\"Hey there,\",self.name,\", Your Marks: \",self.marks)  # IN the Istance method we are declaring InstanceVariable \n",
    "    \n",
    "    \n",
    "    def grade(self):\n",
    "        \n",
    "        if(self.marks >=90):\n",
    "            print(\"Congrates, Your Grade is A\")\n",
    "        elif(self.marks >=60):\n",
    "            print(\"congrates Your Grade is B\")\n",
    "        elif(self.marks >=35):\n",
    "            print(\"congrates, Your Grade is C\")\n",
    "        else:\n",
    "            print(\"Better Your Luck Next Time\")\n",
    "            \n",
    "s1 = Student(\"TOM\",97)\n",
    "\n",
    "s2 = Student(\"LUCY\",89) \n",
    "\n",
    "s3 = Student(\"SAMMMY\",33)\n",
    "\n",
    "\n",
    "s4 = Student(\"MAXIE\",65) \n",
    "\n",
    "s5 = Student(\"JIMMY\",77)\n",
    "\n",
    "      "
   ]
  },
  {
   "cell_type": "code",
   "execution_count": null,
   "metadata": {},
   "outputs": [],
   "source": [
    "## We can call the instance method with the refrence of next instance method too"
   ]
  },
  {
   "cell_type": "code",
   "execution_count": 31,
   "metadata": {},
   "outputs": [
    {
     "name": "stdout",
     "output_type": "stream",
     "text": [
      "Hey there, TOM , Your Marks:  97\n",
      "Congrates, Your Grade is A\n",
      "Hey there, LUCY , Your Marks:  89\n",
      "congrates Your Grade is B\n",
      "Hey there, SAMMMY , Your Marks:  33\n",
      "Better Your Luck Next Time\n",
      "Hey there, MAXIE , Your Marks:  65\n",
      "congrates Your Grade is B\n",
      "Hey there, JIMMY , Your Marks:  77\n",
      "congrates Your Grade is B\n"
     ]
    }
   ],
   "source": [
    "class Student:\n",
    "    \n",
    "    def __init__(self,name,marks):\n",
    "        \n",
    "        self.name=name\n",
    "        self.marks=marks\n",
    "        self.display()\n",
    "        \n",
    "        \n",
    "    def display(self):         # this is the instance method here it takes the self keyword\n",
    "        \n",
    "        print(\"Hey there,\",self.name,\", Your Marks: \",self.marks)  # IN the Istance method we are declaring InstanceVariable \n",
    "        self.grade()  ###Call the instance method within the instance method\n",
    "    \n",
    "    def grade(self):\n",
    "        \n",
    "        if(self.marks >=90):\n",
    "            print(\"Congrates, Your Grade is A\")\n",
    "        elif(self.marks >=60):\n",
    "            print(\"congrates Your Grade is B\")\n",
    "        elif(self.marks >=35):\n",
    "            print(\"congrates, Your Grade is C\")\n",
    "        else:\n",
    "            print(\"Better Your Luck Next Time\")\n",
    "            \n",
    "s1 = Student(\"TOM\",97)\n",
    "\n",
    "s2 = Student(\"LUCY\",89) \n",
    "\n",
    "s3 = Student(\"SAMMMY\",33)\n",
    "\n",
    "s4 = Student(\"MAXIE\",65) \n",
    "\n",
    "s5 = Student(\"JIMMY\",77)\n",
    "\n",
    "      "
   ]
  },
  {
   "cell_type": "code",
   "execution_count": null,
   "metadata": {},
   "outputs": [],
   "source": []
  },
  {
   "cell_type": "markdown",
   "metadata": {},
   "source": [
    "## setter and getter Method:"
   ]
  },
  {
   "cell_type": "code",
   "execution_count": null,
   "metadata": {},
   "outputs": [],
   "source": [
    "##setter method(Mutator Method)  :  to set the value of the instance variable\n",
    "\n",
    "##getter method(Accessor Method) :   to put the value of the instance variable\n",
    "\n"
   ]
  },
  {
   "cell_type": "code",
   "execution_count": 3,
   "metadata": {},
   "outputs": [
    {
     "name": "stdout",
     "output_type": "stream",
     "text": [
      "Enter the number student you want to enterd: 3\n",
      "Enter the name of the student : Tom\n",
      "Enter the marks of the student : 99\n",
      "Enter the name of the student : Jack\n",
      "Enter the marks of the student : 88\n",
      "Enter the name of the student : Sammy\n",
      "Enter the marks of the student : 77\n",
      "Student Name: Tom Student Marks: 99\n",
      "Student Name: Jack Student Marks: 88\n",
      "Student Name: Sammy Student Marks: 77\n"
     ]
    }
   ],
   "source": [
    "class Student:\n",
    "    \n",
    "    def setName(self,name):  ## this is the setter method for the name\n",
    "        self.name=name\n",
    "    def getName(self):       # this is getter method for the name\n",
    "        return self.name\n",
    "    \n",
    "    def setMarks(self,marks):   #this is the setter method for the marks\n",
    "        self.marks=marks\n",
    "    def getMarks(self):          # this is the getter method for the marks\n",
    "        return self.marks\n",
    "    \n",
    "l=[] \n",
    "\n",
    "n= int(input(\"Enter the number student you want to enterd: \"))\n",
    "\n",
    "for i in range(n):\n",
    "    \n",
    "    s= Student()\n",
    "    \n",
    "    name=input(\"Enter the name of the student : \")\n",
    "    \n",
    "    marks= int(input(\"Enter the marks of the student : \"))\n",
    "    \n",
    "    s.setName(name)\n",
    "    s.setMarks(marks)\n",
    "    l.append(s)\n",
    "# Here iterating the object within the list to point out the method    \n",
    "for s in l:\n",
    "    print(\"Student Name:\",s.getName(),\"Student Marks:\",s.getMarks())\n",
    "    \n",
    "        \n",
    "    "
   ]
  },
  {
   "cell_type": "code",
   "execution_count": null,
   "metadata": {},
   "outputs": [],
   "source": []
  },
  {
   "cell_type": "markdown",
   "metadata": {},
   "source": [
    "# Class Method: A Method with the only static variable is nothing but the static Method\n",
    "\n",
    "\n",
    "## Only static variable required(WITHOUT INSTANCE VARIABLE)\n",
    "## the @claamethod decorator is required\n",
    "## cls variable is required within the class method\n",
    "\n",
    "\n",
    "\n",
    "we can call the class method by using the class name and obj reference\n",
    "\n",
    "\n",
    "\n",
    "\n",
    "\n",
    "\n",
    "## only Static Variable-----------------------> Class Method\n",
    "\n",
    "## Static + Instance Variable--------------> Instance Method\n",
    "\n",
    "## At least one Instance Variable-------> Instance Method"
   ]
  },
  {
   "cell_type": "code",
   "execution_count": 9,
   "metadata": {},
   "outputs": [
    {
     "name": "stdout",
     "output_type": "stream",
     "text": [
      "IONFOSYS has total number of employee 100\n"
     ]
    }
   ],
   "source": [
    "class Employee:\n",
    "    \n",
    "    tot_emp=100  # static Variable\n",
    "    \n",
    "    @classmethod   # Class method decorator\n",
    "    def totemp(cls,cname):\n",
    "        print(\"{} has total number of employee {}\".format(cname,cls.tot_emp)) # call the static variable cls.tot_emp\n",
    "        \n",
    "Employee.totemp(\"IONFOSYS\")       # call the class method class_name.Class_Method(input)"
   ]
  },
  {
   "cell_type": "code",
   "execution_count": null,
   "metadata": {},
   "outputs": [],
   "source": []
  },
  {
   "cell_type": "code",
   "execution_count": 11,
   "metadata": {},
   "outputs": [
    {
     "name": "stdout",
     "output_type": "stream",
     "text": [
      "The Total number of the object found to be are:  3\n"
     ]
    }
   ],
   "source": [
    "class Test:\n",
    "    \n",
    "    count=0  # Static variable \n",
    "    \n",
    "    def __init__(self):\n",
    "        \n",
    "        Test.count=Test.count+1\n",
    "    @classmethod    \n",
    "    def noofobj(cls):\n",
    "        \n",
    "        print(\"The Total number of the object found to be are: \",cls.count) # call the static variable cls.count\n",
    "        \n",
    "t1 = Test()\n",
    "t2 = Test()\n",
    "t3 = Test()\n",
    "\n",
    "Test.noofobj()  # call the class method class_name.Class_Method(input)\n",
    "        \n",
    "        \n",
    "    "
   ]
  },
  {
   "cell_type": "code",
   "execution_count": null,
   "metadata": {},
   "outputs": [],
   "source": [
    "## So let\"s check Our Knowledage \n",
    "\n"
   ]
  },
  {
   "cell_type": "code",
   "execution_count": null,
   "metadata": {},
   "outputs": [],
   "source": [
    "# noofobj is which method???"
   ]
  },
  {
   "cell_type": "code",
   "execution_count": 19,
   "metadata": {},
   "outputs": [
    {
     "name": "stdout",
     "output_type": "stream",
     "text": [
      "Hey, Your name is Jack\n",
      "Your age is  21\n",
      "you got the marks  Jack\n"
     ]
    }
   ],
   "source": [
    "class Test:\n",
    "    \n",
    "    def __init__(cls,name,age,marks):\n",
    "        \n",
    "        cls.name=name\n",
    "        cls.age=age\n",
    "        cls.marks=marks\n",
    "        \n",
    "    def noofobj(cls):\n",
    "        \n",
    "        print(\"Hey, Your name is\", cls.name)\n",
    "        print(\"Your age is \",cls.age)\n",
    "        print(\"you got the marks \",cls.name)\n",
    "t=Test(\"Jack\",21,77)        \n",
    "t.noofobj()        "
   ]
  },
  {
   "cell_type": "code",
   "execution_count": null,
   "metadata": {},
   "outputs": [],
   "source": [
    "# the above the method is instance method beacuse here we didn't use the decorator @ classmethod there is no static variable"
   ]
  },
  {
   "cell_type": "code",
   "execution_count": null,
   "metadata": {},
   "outputs": [],
   "source": []
  },
  {
   "cell_type": "code",
   "execution_count": 24,
   "metadata": {},
   "outputs": [
    {
     "name": "stdout",
     "output_type": "stream",
     "text": [
      "165\n"
     ]
    }
   ],
   "source": [
    "class Test:\n",
    "    count=0\n",
    "    def __init__(self):\n",
    "        Test.count=Test.count+1\n",
    "    @staticmethod    \n",
    "    def noofobj(x,y):\n",
    "        print(x+y)\n",
    "t=Test()        \n",
    "t.noofobj(77,88)   "
   ]
  },
  {
   "cell_type": "markdown",
   "metadata": {},
   "source": [
    "# Static Method: It is the genral utility Method\n",
    "\n",
    "#### If we are not using the the static and instance variable then it is the static method\n",
    "\n",
    "### WE CALL THE STATIC METHOD BY USING THE CLASS NAME AND OBJECT REFERENCE"
   ]
  },
  {
   "cell_type": "code",
   "execution_count": null,
   "metadata": {},
   "outputs": [],
   "source": []
  },
  {
   "cell_type": "code",
   "execution_count": 34,
   "metadata": {},
   "outputs": [
    {
     "name": "stdout",
     "output_type": "stream",
     "text": [
      "The sum of the two number 45\n",
      " the substraction of the two number is :  17\n",
      " the Multiplication of the two number is :  66\n",
      " the Division of the two number is :  7.333333333333333\n"
     ]
    }
   ],
   "source": [
    "class Calci:\n",
    "    \n",
    "    def add(x,y):\n",
    "        \n",
    "        print(\"The sum of the two number\",x+y)\n",
    "    @staticmethod   \n",
    "    def sub(x,y):\n",
    "        \n",
    "        print(\" the substraction of the two number is : \",x-y)\n",
    "    @staticmethod   \n",
    "    def mul(x,y):\n",
    "        \n",
    "        print(\" the Multiplication of the two number is : \",x*y)\n",
    "    @staticmethod   \n",
    "    def div(x,y):\n",
    "        \n",
    "        print(\" the Division of the two number is : \",x/y)\n",
    "        \n",
    "Calci.add(22,23)\n",
    "Calci.sub(22,5)  \n",
    "Calci.mul(22,3)  \n",
    "Calci.div(22,3) \n",
    "\n"
   ]
  },
  {
   "cell_type": "code",
   "execution_count": null,
   "metadata": {},
   "outputs": [],
   "source": [
    "IF we remove the the decorator @staticmethod"
   ]
  },
  {
   "cell_type": "code",
   "execution_count": 28,
   "metadata": {},
   "outputs": [
    {
     "name": "stdout",
     "output_type": "stream",
     "text": [
      "The sum of the two number 45\n",
      " the substraction of the two number is :  17\n",
      " the Multiplication of the two number is :  66\n",
      " the Division of the two number is :  7.333333333333333\n"
     ]
    }
   ],
   "source": [
    "class Calci:\n",
    "    \n",
    "    def add(x,y):\n",
    "        \n",
    "        print(\"The sum of the two number\",x+y)\n",
    "    \n",
    "    def sub(x,y):\n",
    "        \n",
    "        print(\" the substraction of the two number is : \",x-y)\n",
    "   \n",
    "    def mul(x,y):\n",
    "        \n",
    "        print(\" the Multiplication of the two number is : \",x*y)\n",
    " \n",
    "    def div(x,y):\n",
    "        \n",
    "        print(\" the Division of the two number is : \",x/y)\n",
    "        \n",
    "Calci.add(22,23)\n",
    "Calci.sub(22,5)  \n",
    "Calci.mul(22,3)  \n",
    "Calci.div(22,3)  \n",
    "    "
   ]
  },
  {
   "cell_type": "markdown",
   "metadata": {},
   "source": [
    "#it is perectly fine so what we understand\n",
    "\n",
    "### Instance Method:  No Decorator is required.\n",
    "\n",
    "### Class method:  The decorator is mandatory @classmethod.\n",
    "    \n",
    "### static method: the decorator is optional(@staticmethod).\n",
    "\n",
    "####  In the instance method Inplace of the self we can used any variable eg. cls"
   ]
  },
  {
   "cell_type": "markdown",
   "metadata": {},
   "source": [
    "### instance variable----------->INSTANCE METHOD\n",
    "### static variable----------------->CLASS METHOD\n",
    "### instance + static variable--->INSTANCE METHOD\n",
    "### instance +local variable-----> INSTANCE METHOD\n",
    "### static+local variable--------> CLASS METHOD\n",
    "### local variable----------------> STATIC METHOD\n",
    "\n",
    "\n",
    "THE PRIOROTY OF METHOD IS ALWAYS INSTANC>CLASS>STATIC\n",
    "\n",
    "NO DECORATOR---> INSTANCE/STATIC METHOD"
   ]
  },
  {
   "cell_type": "code",
   "execution_count": null,
   "metadata": {},
   "outputs": [],
   "source": []
  },
  {
   "cell_type": "markdown",
   "metadata": {},
   "source": [
    "## Passing the member from the one class to another class"
   ]
  },
  {
   "cell_type": "code",
   "execution_count": 3,
   "metadata": {},
   "outputs": [
    {
     "name": "stdout",
     "output_type": "stream",
     "text": [
      "The salary of the emlopyee is  9000\n",
      "The Updated Salary will be  79000\n"
     ]
    }
   ],
   "source": [
    "class Employee:\n",
    "    \n",
    "    def __init__(self,id,name,esal):\n",
    "        \n",
    "        self.id=id\n",
    "        self.name=name\n",
    "        self.esal=esal\n",
    "        \n",
    "    def display(self):\n",
    "        \n",
    "        print(\"The salary of the emlopyee is \",self.esal)\n",
    "        \n",
    "class Test:\n",
    "    \n",
    "    def update(salary): # static method\n",
    "        salary.esal=salary.esal+70000\n",
    "        print(\"The Updated Salary will be \",salary.esal)\n",
    "        \n",
    "        \n",
    "e = Employee(101,\"Lucy\",9000) # creating the object for the class emoloyee\n",
    "e.display() # calling the instance method\n",
    "\n",
    "Test.update(e)  ####note here we are calling the staticmethod by passing the object the goes----> e=Employee(e = Employee(101,\"Lucy\",9000)) an then display and then update the value and execute the static method"
   ]
  },
  {
   "cell_type": "code",
   "execution_count": 8,
   "metadata": {},
   "outputs": [
    {
     "name": "stdout",
     "output_type": "stream",
     "text": [
      "Good Morning\n",
      "Good Morning\n"
     ]
    }
   ],
   "source": [
    "class Test:\n",
    "    \n",
    "    def modify(emp):\n",
    "        print(\"Good Morning\")\n",
    "t=Test() \n",
    "t.modify() # This is nothing but the instance Method\n",
    "\n",
    "Test.modify(77) # This is nothing but the static Method\n",
    "## Alwayas note that the static method is call by the class method only."
   ]
  },
  {
   "cell_type": "code",
   "execution_count": null,
   "metadata": {},
   "outputs": [],
   "source": []
  },
  {
   "cell_type": "code",
   "execution_count": null,
   "metadata": {},
   "outputs": [],
   "source": [
    "## Inner class\n",
    "     ## class inside the class\n",
    "     ## without existing the outer class inner class will be the no use"
   ]
  },
  {
   "cell_type": "code",
   "execution_count": 22,
   "metadata": {},
   "outputs": [
    {
     "name": "stdout",
     "output_type": "stream",
     "text": [
      "Outer class is executed\n",
      "Inner class is executed\n",
      "outer class method om is executed\n",
      "outer class method om is executed\n",
      "Inner class m1 method is executed\n",
      "Inner class m1 method is executed\n",
      "Outer class is executed\n",
      "Inner class is executed\n",
      "Inner class m1 method is executed\n"
     ]
    }
   ],
   "source": [
    "class outer:\n",
    "    \n",
    "    def __init__(self):\n",
    "        \n",
    "        print(\"Outer class is executed\")\n",
    "        \n",
    "    def om(self): \n",
    "        print(\"outer class method om is executed\")\n",
    "        \n",
    "    class inner:\n",
    "        \n",
    "        def __init__(self):\n",
    "            \n",
    "            print(\"Inner class is executed\")\n",
    "        def m1(self):\n",
    "            \n",
    "            print(\"Inner class m1 method is executed\")\n",
    "            \n",
    "o = outer()\n",
    "i=o.inner()\n",
    "\n",
    "o.om()   # Instance method call by the object\n",
    "outer.om(3)# static method call by using the class name outer with taking the postional argument\n",
    "\n",
    "i.m1() # instance method\n",
    "o.inner.m1(777) # static method \n",
    "\n",
    "# how can i call m1 method\n",
    "\n",
    "m= outer().inner().m1()\n",
    "\n"
   ]
  },
  {
   "cell_type": "code",
   "execution_count": 23,
   "metadata": {},
   "outputs": [
    {
     "name": "stdout",
     "output_type": "stream",
     "text": [
      "Outer class is executed\n",
      "Inner class is executed\n",
      "The InnerInner class is executed\n",
      "m2 method is executed\n"
     ]
    }
   ],
   "source": [
    "class outer:\n",
    "    \n",
    "    def __init__(self):\n",
    "        \n",
    "        print(\"Outer class is executed\")\n",
    "        \n",
    "    def om(self): \n",
    "        print(\"outer class method om is executed\")\n",
    "        \n",
    "    class inner:\n",
    "        \n",
    "        def __init__(self):\n",
    "            \n",
    "            print(\"Inner class is executed\")\n",
    "        def m1(self):\n",
    "            \n",
    "            print(\"Inner class m1 method is executed\")\n",
    "        class InnerInner:\n",
    "            \n",
    "            def __init__(self):\n",
    "                \n",
    "                print(\"The InnerInner class is executed\")\n",
    "                \n",
    "            def m2(self):\n",
    "                \n",
    "                print(\"m2 method is executed\")\n",
    "                \n",
    "                \n",
    "# i hve to call the mehthod m2 how lets see\n",
    "\n",
    "o = outer().inner().InnerInner().m2()"
   ]
  },
  {
   "cell_type": "code",
   "execution_count": null,
   "metadata": {},
   "outputs": [],
   "source": [
    "## if we dont want to write the method then we can write class in side the class using the self "
   ]
  },
  {
   "cell_type": "code",
   "execution_count": 30,
   "metadata": {},
   "outputs": [
    {
     "name": "stdout",
     "output_type": "stream",
     "text": [
      "Brain Class is executed\n",
      "brain method is executed\n",
      " the Small brain class is executed\n",
      " the functionating small brain is working\n"
     ]
    }
   ],
   "source": [
    "class Human:\n",
    "    \n",
    "    def __init__(self):\n",
    "        self.name = \"Jack Sparrow\"\n",
    "        \n",
    "        self.brain = self.Brain().SmallBrain().m2()  # we can call like this\n",
    "        \n",
    "    class Brain:\n",
    "        def __init__(self):\n",
    "            print(\"Brain Class is executed\")\n",
    "            self.m1=self.m1()\n",
    "           \n",
    "            \n",
    "        def m1(self):\n",
    "            \n",
    "            print(\"brain method is executed\")\n",
    "        class SmallBrain:\n",
    "            \n",
    "            def __init__(self):\n",
    "                \n",
    "                print(\" the Small brain class is executed\")\n",
    "                \n",
    "             \n",
    "                \n",
    "            def m2(self):\n",
    "                \n",
    "                print( \" the functionating small brain is working\")\n",
    "                \n",
    "t =Human()                "
   ]
  },
  {
   "cell_type": "code",
   "execution_count": 31,
   "metadata": {},
   "outputs": [
    {
     "name": "stdout",
     "output_type": "stream",
     "text": [
      "Brain Class is executed\n",
      "brain method is executed\n",
      " the Small brain class is executed\n",
      " the functionating small brain is working\n",
      " the Small brain class is executed\n",
      " the functionating small brain is working\n"
     ]
    }
   ],
   "source": [
    "class Human:\n",
    "    \n",
    "    def __init__(self):\n",
    "        self.name = \"Jack Sparrow\"\n",
    "        \n",
    "        self.brain = self.Brain().SmallBrain().m2()  # we can call like this\n",
    "        \n",
    "    class Brain:\n",
    "        def __init__(self):\n",
    "            print(\"Brain Class is executed\")\n",
    "            self.m1=self.m1()\n",
    "            self.small=self.SmallBrain().m2()  # we can call like this too so that  in the output the small brain class running the 2 times \n",
    "            \n",
    "        def m1(self):\n",
    "            \n",
    "            print(\"brain method is executed\")\n",
    "        class SmallBrain:\n",
    "            \n",
    "            def __init__(self):\n",
    "                \n",
    "                print(\" the Small brain class is executed\")\n",
    "                \n",
    "             \n",
    "                \n",
    "            def m2(self):\n",
    "                \n",
    "                print( \" the functionating small brain is working\")\n",
    "                \n",
    "t =Human()                "
   ]
  },
  {
   "cell_type": "code",
   "execution_count": 9,
   "metadata": {},
   "outputs": [
    {
     "name": "stdout",
     "output_type": "stream",
     "text": [
      "customer Date of Birth : 11/5/2020\n",
      "Customer Name:  Garry\n",
      "customer Date of Birth : 11/5/2020\n"
     ]
    }
   ],
   "source": [
    "class Customer:\n",
    "    \n",
    "    def __init__(self,name,dd,mm,yyyy):\n",
    "        \n",
    "        self.name=name\n",
    "        \n",
    "        self.dob=self.DOB(dd,mm,yyyy)  # calling and passing the argument to the next class\n",
    "        self.dob.displays()  # calling the the display method\n",
    "   \n",
    "    def display(self):\n",
    "        \n",
    "        print(\"Customer Name: \",self.name)\n",
    "        self.dob.displays()  #  i can call here also the the display method\n",
    "         \n",
    "        \n",
    "    class DOB:\n",
    "        \n",
    "        def __init__(self,dd,mm,yyyy):\n",
    "            self.dd=dd\n",
    "            self.mm=mm\n",
    "            self.yyyy=yyyy\n",
    "        def displays(self):\n",
    "            \n",
    "            print(\"customer Date of Birth : {}/{}/{}\".format(self.dd,self.mm,self.yyyy))\n",
    "            \n",
    "            \n",
    "c  = Customer(\"Garry\",11,5,2020) \n",
    "\n",
    "c.display()"
   ]
  },
  {
   "cell_type": "code",
   "execution_count": null,
   "metadata": {},
   "outputs": [],
   "source": [
    "# from above we can conclude that the nested class calling after letus look into the nested method: lets loop if nested method is not used "
   ]
  },
  {
   "cell_type": "code",
   "execution_count": 13,
   "metadata": {},
   "outputs": [
    {
     "name": "stdout",
     "output_type": "stream",
     "text": [
      "the sum is : 3\n",
      "the diff is : -1\n",
      "the mul is : 2\n",
      "the div is : 0.5\n",
      "\n",
      "the sum is : 30\n",
      "the diff is : -10\n",
      "the mul is : 200\n",
      "the div is : 0.5\n",
      "\n",
      "the sum is : 300\n",
      "the diff is : 100\n",
      "the mul is : 20000\n",
      "the div is : 2.0\n",
      "\n",
      "the sum is : 3000\n",
      "the diff is : 1000\n",
      "the mul is : 2000000\n",
      "the div is : 2.0\n",
      "\n"
     ]
    }
   ],
   "source": [
    "class Testing:\n",
    "    \n",
    "    def calci(self):\n",
    "        a,b=1,2\n",
    "        print(\"the sum is :\",a+b)\n",
    "        print(\"the diff is :\",a-b)\n",
    "        print(\"the mul is :\",a*b)\n",
    "        print(\"the div is :\",a/b)\n",
    "        print()\n",
    "        a,b=10,20\n",
    "        print(\"the sum is :\",a+b)\n",
    "        print(\"the diff is :\",a-b)\n",
    "        print(\"the mul is :\",a*b)\n",
    "        print(\"the div is :\",a/b)\n",
    "        print()\n",
    "        a,b=200,100\n",
    "        print(\"the sum is :\",a+b)\n",
    "        print(\"the diff is :\",a-b)\n",
    "        print(\"the mul is :\",a*b)\n",
    "        print(\"the div is :\",a/b)\n",
    "        print()\n",
    "        a,b=2000,1000\n",
    "        print(\"the sum is :\",a+b)\n",
    "        print(\"the diff is :\",a-b)\n",
    "        print(\"the mul is :\",a*b)\n",
    "        print(\"the div is :\",a/b)\n",
    "        print()\n",
    "        \n",
    "t=Testing()\n",
    "t.calci()"
   ]
  },
  {
   "cell_type": "code",
   "execution_count": 16,
   "metadata": {},
   "outputs": [
    {
     "name": "stdout",
     "output_type": "stream",
     "text": [
      "the sum is : 3\n",
      "the diff is : -1\n",
      "the mul is : 2\n",
      "the div is : 0.5\n",
      "\n",
      "the sum is : 30\n",
      "the diff is : -10\n",
      "the mul is : 200\n",
      "the div is : 0.5\n",
      "\n",
      "the sum is : 300\n",
      "the diff is : -100\n",
      "the mul is : 20000\n",
      "the div is : 0.5\n",
      "\n",
      "the sum is : 3000\n",
      "the diff is : -1000\n",
      "the mul is : 2000000\n",
      "the div is : 0.5\n",
      "\n"
     ]
    }
   ],
   "source": [
    "class Testing:\n",
    "    def math(self):\n",
    "        def calci(a,b):\n",
    "            print(\"the sum is :\",a+b)\n",
    "            print(\"the diff is :\",a-b)\n",
    "            print(\"the mul is :\",a*b)\n",
    "            print(\"the div is :\",a/b)\n",
    "            print()\n",
    "        calci(1,2)\n",
    "        calci(10,20)\n",
    "        calci(100,200)\n",
    "        calci(1000,2000)\n",
    "t=Testing()\n",
    "t.math()"
   ]
  },
  {
   "cell_type": "code",
   "execution_count": null,
   "metadata": {},
   "outputs": [],
   "source": []
  },
  {
   "cell_type": "markdown",
   "metadata": {},
   "source": [
    "## Garbage Collector:\n",
    "\n",
    "     # In C++ ---> The programmer will be reponsible for the (Creation as Well as Destroy)\n",
    "     #In java and Python - The programmer will be created object but the distoration of obj as the garbage collector\n",
    "     # GC(Garbage collector is the part of the Virtual Machine)   \n",
    "     # when there is no reference variable to another object then the object is considred as the GC Garbage Collector\n",
    "        \n",
    "#### Note: by default the garbage collector is Enable if we want tp disable we can do it also   lets see     "
   ]
  },
  {
   "cell_type": "code",
   "execution_count": 2,
   "metadata": {},
   "outputs": [
    {
     "name": "stdout",
     "output_type": "stream",
     "text": [
      "True\n",
      "False\n",
      "True\n"
     ]
    }
   ],
   "source": [
    "import gc\n",
    "\n",
    "print(gc.isenabled())  # check the gc is enabled or not and it returns True hence the GC is Enable(By default)\n",
    "\n",
    "gc.disable()    # lets make the disable\n",
    "print(gc.isenabled()) # check\n",
    "\n",
    "\n",
    "gc.enable() # Lets make the enable\n",
    "print(gc.isenabled())  # check\n",
    "\n"
   ]
  },
  {
   "cell_type": "markdown",
   "metadata": {},
   "source": [
    "## Destructor:\n",
    "     \n",
    "           ## the GC asked object the last wish what he want to clen up\n",
    "             ## it requird the one database, Network connection release that(clen up activities)\n",
    "             ## and then call the destructor\n",
    "             \n",
    "### Interveiw Que:\n",
    "\n",
    "        ## who is calling the destructor?------> GC-Garbage Collector\n",
    "        ## when the GC call the destructor?=====>Just Before the Destroying the Object\n",
    "        ##For which puprpose GC Call the Destructor===> to clean up the activities\n",
    "        \n",
    "        \n",
    "#### Job of the destructor: To Clean Up the activities\n",
    "#### Job of the GC(Garbage Collector ) : Destroying the object\n",
    " \n",
    " \n",
    "    "
   ]
  },
  {
   "cell_type": "code",
   "execution_count": null,
   "metadata": {},
   "outputs": [],
   "source": [
    "# Constructor Syantx:\n",
    "\n",
    "def __init__(self):\n",
    "    \n",
    "# Destructor Syantax:\n",
    "\n",
    "def __del__(self):\n",
    "\n",
    "    "
   ]
  },
  {
   "cell_type": "code",
   "execution_count": 3,
   "metadata": {},
   "outputs": [
    {
     "name": "stdout",
     "output_type": "stream",
     "text": [
      "Constructor Executed: Object Initialization \n",
      "Object getting the outside the class\n",
      "End of the program\n"
     ]
    }
   ],
   "source": [
    "\n",
    "import time\n",
    "\n",
    "class Test:\n",
    "    \n",
    "    def __init__(self):\n",
    "        print(\"Constructor Executed: Object Initialization \")\n",
    "     \n",
    "    \n",
    "    def __del__(self):\n",
    "        \n",
    "        print(\"Destructor Execited:To Clean Up the Activites\")\n",
    "        \n",
    "t=Test()\n",
    "print(\"Object getting the outside the class\")\n",
    "time.sleep(5)\n",
    "print(\"End of the program\")\n",
    "\n",
    "\n",
    "##output:  Constructor Executed: Object Initialization \n",
    "#          Object getting the outside the class\n",
    "#          End of the program \n",
    "#          Destructor Execited:To Clean Up the Activites\n",
    "\n",
    "\n",
    "## so here the python is smart to execute all of the program and then clean up all the activities related to the object t"
   ]
  },
  {
   "cell_type": "code",
   "execution_count": null,
   "metadata": {},
   "outputs": [],
   "source": [
    "\n",
    "import time\n",
    "\n",
    "class Test:\n",
    "    \n",
    "    def __init__(self):\n",
    "        print(\"Constructor Executed: Object Initialization \")\n",
    "     \n",
    "    \n",
    "    def __del__(self):\n",
    "        \n",
    "        print(\"Destructor Execited:To Clean Up the Activites\")\n",
    "        \n",
    "t=Test()\n",
    "print(\"Object getting the outside the class\")\n",
    "time.sleep(5)\n",
    "\n",
    "t=None\n",
    "print(\"End of the program\")\n",
    "\n",
    "\n",
    "##output:  Constructor Executed: Object Initialization \n",
    "#          Object getting the outside the class\n",
    "#           Destructor Execited:To Clean Up the Activites\n",
    "#          End of the program \n",
    "          \n",
    "\n",
    "# but it specfic to the object when anoter object comes it didn't work \n"
   ]
  },
  {
   "cell_type": "code",
   "execution_count": null,
   "metadata": {},
   "outputs": [],
   "source": []
  },
  {
   "cell_type": "code",
   "execution_count": 6,
   "metadata": {},
   "outputs": [
    {
     "name": "stdout",
     "output_type": "stream",
     "text": [
      "Constructor Executed: Object Initialization \n",
      "The object t1 is deleted but destroyer is not ready\n",
      "The object t2 is deleted but destroyer is not ready\n",
      "Destructor Execited:To Clean Up the Activites\n",
      "All the object is deleted \n",
      "\n",
      "End of the Program\n"
     ]
    }
   ],
   "source": [
    "import time\n",
    "\n",
    "class Test:\n",
    "    \n",
    "    def __init__(self):\n",
    "        print(\"Constructor Executed: Object Initialization \")\n",
    "     \n",
    "    \n",
    "    def __del__(self):\n",
    "        \n",
    "        print(\"Destructor Execited:To Clean Up the Activites\")\n",
    "        \n",
    "t1=Test()\n",
    "t2=t1\n",
    "t3=t2\n",
    "\n",
    "del t1\n",
    "time.sleep(5)\n",
    "print(\"The object t1 is deleted but destroyer is not ready\")\n",
    "\n",
    "del t2\n",
    "time.sleep(5)\n",
    "print(\"The object t2 is deleted but destroyer is not ready\")\n",
    "\n",
    "del t3  ##here all NO one object is left reference to the class the constructor automatically call\n",
    "time.sleep(5)\n",
    "print(\"All the object is deleted \")\n",
    "\n",
    "print()\n",
    "print(\"End of the Program\")\n",
    "\n",
    "## here you can see that the in the output the beofe deleting the every object t1,t2,t3 \n",
    "##the before all the method and statement executed executed and then the destructor claen up all the activities\n",
    "\n",
    "\n",
    "## destructor is call when the refrence of all the object(t1,t2,t3)get deleted  from the class Test() \n",
    "#then after deleting the object t3 none one reference oject is releted to tht class Test()\n",
    "##hence destructor is called and then rest of the statement executed"
   ]
  },
  {
   "cell_type": "code",
   "execution_count": 14,
   "metadata": {},
   "outputs": [
    {
     "name": "stdout",
     "output_type": "stream",
     "text": [
      "Constructor Executed: Object Initialization \n",
      "Constructor Executed: Object Initialization \n",
      "Constructor Executed: Object Initialization \n",
      "Destructor Execited:To Clean Up the Activites\n",
      "Destructor Execited:To Clean Up the Activites\n",
      "Destructor Execited:To Clean Up the Activites\n",
      "End OF the Program\n"
     ]
    }
   ],
   "source": [
    "#In this idle output goes wrong i mentioned the output below:\n",
    "import time\n",
    "\n",
    "class Test:\n",
    "    \n",
    "    def __init__(self):\n",
    "        print(\"Constructor Executed: Object Initialization \")\n",
    "     \n",
    "    \n",
    "    def __del__(self):\n",
    "        \n",
    "        print(\"Destructor Execited:To Clean Up the Activites\")\n",
    "\n",
    "        \n",
    "list = [Test(),Test(),Test()]\n",
    "print(\"End OF the Program\")\n",
    "\n",
    "#output:\n",
    "\n",
    "#Constructor Executed: Object Initialization \n",
    "#Constructor Executed: Object Initialization \n",
    "#Constructor Executed: Object Initialization\n",
    "\n",
    "#    End OF the Program\n",
    "\n",
    "#Destructor Execited:To Clean Up the Activites\n",
    "#Destructor Execited:To Clean Up the Activites\n",
    "#Destructor Execited:To Clean Up the Activites\n"
   ]
  },
  {
   "cell_type": "code",
   "execution_count": 16,
   "metadata": {},
   "outputs": [
    {
     "name": "stdout",
     "output_type": "stream",
     "text": [
      "Constructor Executed: Object Initialization \n",
      "Constructor Executed: Object Initialization \n",
      "Constructor Executed: Object Initialization \n",
      "Destructor Execited:To Clean Up the Activites\n",
      "Destructor Execited:To Clean Up the Activites\n",
      "Destructor Execited:To Clean Up the Activites\n",
      "End OF the Program\n"
     ]
    }
   ],
   "source": [
    "import time\n",
    "\n",
    "class Test:\n",
    "    \n",
    "    def __init__(self):\n",
    "        print(\"Constructor Executed: Object Initialization \")\n",
    "     \n",
    "    \n",
    "    def __del__(self):\n",
    "        \n",
    "        print(\"Destructor Execited:To Clean Up the Activites\")\n",
    "\n",
    "        \n",
    "list = [Test(),Test(),Test()]\n",
    "del list\n",
    "print(\"End OF the Program\")\n",
    "\n",
    "#OUTPUT\n",
    "#Constructor Executed: Object Initialization \n",
    "#Constructor Executed: Object Initialization \n",
    "#Constructor Executed: Object Initialization\n",
    "\n",
    "#Destructor Execited:To Clean Up the Activites\n",
    "#Destructor Execited:To Clean Up the Activites\n",
    "#Destructor Execited:To Clean Up the Activites\n",
    "\n",
    "#    End OF the Program"
   ]
  },
  {
   "cell_type": "code",
   "execution_count": null,
   "metadata": {},
   "outputs": [],
   "source": []
  },
  {
   "cell_type": "markdown",
   "metadata": {},
   "source": [
    "## INHERITENCE(ISa Relationship): Passing of the all the Properties of Parants To the Child\n",
    "\n",
    "\n",
    "### In the Inheritence our main focus on the child class the the child class can acesses the the methods of his parant class as well as his own method  but keep in mind parant acesses his own method only parant didn\"t access the child class Method\n",
    "\n",
    "\n",
    "note:\n",
    "\n",
    "\n",
    "#### Inherited Class(Child Class) == Access Own Method + Access The Parant Class Method\n",
    "\n",
    "#### Parant Class = Only Access its own Method Only\n",
    "\n",
    "  "
   ]
  },
  {
   "cell_type": "code",
   "execution_count": 36,
   "metadata": {},
   "outputs": [
    {
     "name": "stdout",
     "output_type": "stream",
     "text": [
      "The Child Class constructor is Executed!\n",
      "\n",
      "child Class c_m1 Method Executed!\n",
      "Employee Name: garry\n",
      "\n",
      "Child Class p_Bonus Method Executed!\n",
      "The Bonus is  700\n",
      "Your total Salary Will be 1700\n",
      "\n",
      "Parant Class p_m1 Method Executed\n",
      "Employee Name: garry\n",
      "Employee age: 22\n",
      "Employee Salary: 1000\n",
      " \n",
      "Parant Class p_Bonus Method Executed\n",
      "The Bonus is  2000\n",
      "Your total Salary Will be 3000\n",
      " \n",
      "Parant class Contructor is Executed\n",
      " \n",
      "Parant Class p_m1 Method Executed\n",
      "Employee Name: Jacy\n",
      "Employee age: 34\n",
      "Employee Salary: 35000\n",
      " \n",
      "Parant Class p_Bonus Method Executed\n",
      "The Bonus is  2000\n",
      "Your total Salary Will be 37000\n",
      " \n"
     ]
    }
   ],
   "source": [
    "class Parant:\n",
    "    \n",
    "    def __init__(self):\n",
    "        self.name=\"Jacy\"\n",
    "        self.age=34\n",
    "        self.sal=35000\n",
    "        print(\"Parant class Contructor is Executed\")\n",
    "        print(\" \")\n",
    "    def p_m1(self):\n",
    "        print(\"Parant Class p_m1 Method Executed\")\n",
    "        print(\"Employee Name:\",self.name)\n",
    "        print(\"Employee age:\",self.age)\n",
    "        print(\"Employee Salary:\",self.sal)\n",
    "        print(\" \")\n",
    "    def p_Bonus(self):\n",
    "        print(\"Parant Class p_Bonus Method Executed\")\n",
    "        print(\"The Bonus is \",2000)\n",
    "        print(\"Your total Salary Will be {}\".format(self.sal+2000))\n",
    "        print(\" \")\n",
    "        \n",
    "class Child(Parant):  # Here We are doing the inheritence i.e Inherited Class\n",
    "    \n",
    "    def __init__(self):\n",
    "        \n",
    "        self.name=\"garry\"\n",
    "        self.age=22\n",
    "\n",
    "        self.sal=1000\n",
    "        print(\"The Child Class constructor is Executed!\")\n",
    "        print()\n",
    "        \n",
    "    def c_m1(self):\n",
    "        print(\"child Class c_m1 Method Executed!\")\n",
    "        print(\"Employee Name:\",self.name)\n",
    "        print()\n",
    "        \n",
    "    def c_Bonus(self):\n",
    "        print(\"Child Class p_Bonus Method Executed!\")\n",
    "        print(\"The Bonus is \",700)\n",
    "        print(\"Your total Salary Will be {}\".format(self.sal+700))\n",
    "        print()\n",
    "        \n",
    "# Creating the Object For the cild Class        \n",
    "c = Child()\n",
    "\n",
    "# Inherited Class(Child Class) ====  Access Own Method + Access The Parant method\n",
    "\n",
    "# First Of all lets Call the it own method:\n",
    "c.c_m1()\n",
    "c.c_Bonus()\n",
    "\n",
    "#Child Class(InheritedClass) Accessing the Parant class Method \n",
    "\n",
    "c.p_m1()\n",
    "c.p_Bonus()\n",
    "\n",
    "\n",
    "## So what we understood form the above example \n",
    "\n",
    "# The child class uses the own method as well as the class method but use its own variable only not the parant class variable\n",
    "\n",
    "\n",
    "\n",
    "# Lets create the object for the class variable\n",
    "\n",
    "p =Parant()\n",
    "    \n",
    "# Call the parant class method\n",
    "\n",
    "p.p_m1()\n",
    "p.p_Bonus()\n",
    "\n",
    "# So parant class didnt access the child class method it throws error\n",
    "\n",
    "#p.c_m1()\n",
    "#p.c_Bonus"
   ]
  },
  {
   "cell_type": "code",
   "execution_count": null,
   "metadata": {},
   "outputs": [],
   "source": []
  },
  {
   "cell_type": "markdown",
   "metadata": {},
   "source": [
    "#### Member of the one class inside the another class:\n",
    "\n",
    "   1####By composition----> Has a Relationship\n",
    "   2####By Inheritence----> Is a Relationship\n"
   ]
  },
  {
   "cell_type": "markdown",
   "metadata": {},
   "source": [
    "### Composition( Has A Relationship): We can access the member of the one class into the another class by using                                                                    the Class name or the referncing the object"
   ]
  },
  {
   "cell_type": "code",
   "execution_count": null,
   "metadata": {},
   "outputs": [],
   "source": []
  },
  {
   "cell_type": "code",
   "execution_count": 43,
   "metadata": {},
   "outputs": [
    {
     "name": "stdout",
     "output_type": "stream",
     "text": [
      "Class Car constrctor is executed\n",
      "Class Engine Constructor is Executed!\n",
      "\n",
      "this is car functionality method\n",
      "Class Engine Functionality\n",
      "\n",
      "The value of the Car class staic varibale is: 40\n",
      "the value of the Car class instance variable is : 77\n",
      " \n",
      "The value of the engine class staic varibale is: 10\n",
      "the value of the engine class instance variable is : 20\n"
     ]
    }
   ],
   "source": [
    "class Engine:\n",
    "    a=10\n",
    "    def __init__(self):\n",
    "        \n",
    "        self.b=20\n",
    "        print(\"Class Engine Constructor is Executed!\")\n",
    "        print(\"\")\n",
    "        \n",
    "    def m1(self):\n",
    "        \n",
    "        print(\"Class Engine Functionality\")\n",
    "        print(\"\")\n",
    "        \n",
    "class Car:\n",
    "    \n",
    "    a=40\n",
    "    def __init__(self):\n",
    "        self.b=77\n",
    "        print(\"Class Car constrctor is executed\")\n",
    "        \n",
    "        self.eg = Engine()  ### Composition: the class Engine is excuted so from the self.eg we can the aceess the member as wellas tthe method of the class Enginr\n",
    "        \n",
    "    def m2(self):\n",
    "        print(\"this is car functionality method\")\n",
    "        self.eg.m1()     # Accessing the instance method\n",
    "    def m3(self):\n",
    "        print(\"The value of the Car class staic varibale is:\",self.a)\n",
    "        print(\"the value of the Car class instance variable is :\",self.b)\n",
    "        print(\" \")\n",
    "        print(\"The value of the engine class staic varibale is:\",self.eg.a)  # accessing the Engine Class Variable\n",
    "        print(\"the value of the engine class instance variable is :\",self.eg.b)\n",
    "        \n",
    "# Creating the object for the class Car\n",
    "\n",
    "c = Car()\n",
    "\n",
    "c.m2()\n",
    "\n",
    "c.m3()\n",
    "        \n",
    "## Interveiw Tip:\n",
    "\n",
    "## what is relationship between Engine and the Car?------->Car Class Has a Relationship (composition) reference"
   ]
  },
  {
   "cell_type": "code",
   "execution_count": null,
   "metadata": {},
   "outputs": [],
   "source": [
    "# Lets see how compostion acheived by using the object reference"
   ]
  },
  {
   "cell_type": "code",
   "execution_count": 54,
   "metadata": {},
   "outputs": [
    {
     "name": "stdout",
     "output_type": "stream",
     "text": [
      "Car Name:  Maruti 700\n",
      "Model No:  700\n",
      "Colour:  Grey\n",
      "Employee ID:  12231\n",
      "Employee Name:  Lucy\n",
      "Car Details:\n",
      "Car Name:  Maruti 700\n",
      "Model No:  700\n",
      "Colour:  Grey\n"
     ]
    }
   ],
   "source": [
    "class Car:\n",
    "    \n",
    "    def __init__(self,name,model,color):\n",
    "        \n",
    "        self.name=name\n",
    "        self.model=model\n",
    "        self.color=color\n",
    "        \n",
    "    def display(self):\n",
    "        \n",
    "        print(\"Car Name: \",self.name)\n",
    "        print(\"Model No: \",self.model)\n",
    "        print(\"Colour: \",self.color)\n",
    "        \n",
    "class Employee:\n",
    "    \n",
    "    def __init__(self,e_id,e_name,car_details):\n",
    "        self.e_id=e_id\n",
    "        self.e_name=e_name\n",
    "        self.car_details=car_details\n",
    "        \n",
    "    def m2(self):\n",
    "        \n",
    "        print(\"Employee ID: \",self.e_id)\n",
    "        print(\"Employee Name: \",self.e_name)\n",
    "        print(\"Car Details:\")\n",
    "        self.car_details.display()\n",
    "        \n",
    "c= Car(\"Maruti 700\",700,\"Grey\")\n",
    "c.display()\n",
    "\n",
    "e = Employee(12231,\"Lucy\",c)  # here we are giving the \"c\" object reference it can access Menbers of  the Class Car\n",
    "e.m2()\n",
    "\n",
    "       \n",
    "        \n",
    "        "
   ]
  },
  {
   "cell_type": "code",
   "execution_count": 59,
   "metadata": {},
   "outputs": [
    {
     "name": "stdout",
     "output_type": "stream",
     "text": [
      "Object Initilization\n",
      "the y_m2() class Y executed\n",
      " the static variable of class Y a= 232\n",
      " the instance variable of class Y b= 373\n",
      "the y_m2() class Y executed\n",
      " the static variable of class X  a= 111\n",
      " the instance variable of class X b= 222\n",
      "x_m1() maethod of class X is Executed!!\n"
     ]
    }
   ],
   "source": [
    "class X:\n",
    "    \n",
    "    a=111\n",
    "    def __init__(self):\n",
    "        \n",
    "        self.b=222\n",
    "    def x_m1(self):\n",
    "        \n",
    "        print(\"x_m1() maethod of class X is Executed!!\")\n",
    "        \n",
    "class Y:\n",
    "    \n",
    "    a=232\n",
    "    \n",
    "    def __init__(self):\n",
    "        self.b=373\n",
    "        print(\"Object Initilization\")\n",
    "        \n",
    "    def y_m2(self):\n",
    "        \n",
    "        print(\"the y_m2() class Y executed\")\n",
    "        print(\" the static variable of class Y a=\",self.a)\n",
    "        print(\" the instance variable of class Y b=\",self.b)\n",
    "        \n",
    "    def y_m3(self):\n",
    "        print(\"the y_m2() class Y executed\")\n",
    "        \n",
    "        xx = X()   # Inside Class Y we creating the object xx for the class X() so, from the object xx we can access the members\n",
    "        ## Acessing the varibles using the object xx\n",
    "        print(\" the static variable of class X  a=\",xx.a)\n",
    "        print(\" the instance variable of class X b=\",xx.b)\n",
    "        \n",
    "        ## Accessing the method using the object xx\n",
    "        \n",
    "        xx.x_m1()\n",
    "        \n",
    "# Creating the object for the Class Y\n",
    "\n",
    "yy= Y()\n",
    "\n",
    "yy.y_m2()\n",
    "\n",
    "yy.y_m3()\n",
    "        "
   ]
  },
  {
   "cell_type": "code",
   "execution_count": null,
   "metadata": {},
   "outputs": [],
   "source": []
  },
  {
   "cell_type": "code",
   "execution_count": 65,
   "metadata": {},
   "outputs": [
    {
     "name": "stdout",
     "output_type": "stream",
     "text": [
      "object Initlization\n",
      "THe class-P Instance Method Is Executed!\n",
      "THe class-P Class Method Is Executed!\n",
      "THe class-P Static Method Is Executed!\n",
      "object Initlization\n",
      "THe class-P Instance Method Is Executed!\n",
      "THe class-P Class Method Is Executed!\n",
      "THe class-P Static Method Is Executed!\n"
     ]
    }
   ],
   "source": [
    "## Inheritance (IS a Relationship):\n",
    "\n",
    "class P:\n",
    "    \n",
    "    def __init__(self):\n",
    "        \n",
    "        print(\"object Initlization\")\n",
    "    def m1(self):\n",
    "        \n",
    "        print(\"THe class-P Instance Method Is Executed!\")\n",
    "        \n",
    "    @classmethod\n",
    "    def m2(cls):\n",
    "        print(\"THe class-P Class Method Is Executed!\")\n",
    "        \n",
    "    @staticmethod\n",
    "    def m3():\n",
    "        print(\"THe class-P Static Method Is Executed!\") \n",
    "        \n",
    "class C(P):\n",
    "    pass\n",
    "\n",
    "p = P()\n",
    "p.m1()\n",
    "p.m2()\n",
    "p.m3()\n",
    "\n",
    "c=C()\n",
    "c.m1()\n",
    "c.m2()\n",
    "c.m3()\n",
    "\n",
    "        \n",
    "        "
   ]
  },
  {
   "cell_type": "code",
   "execution_count": 69,
   "metadata": {},
   "outputs": [
    {
     "name": "stdout",
     "output_type": "stream",
     "text": [
      "Child Class Method\n",
      "Parant Class MEthod\n"
     ]
    }
   ],
   "source": [
    "class P:\n",
    "    \n",
    "    def m2(self):\n",
    "        print(\"Parant Class MEthod\")\n",
    "        \n",
    "class C(P):\n",
    "    \n",
    "    def m1(self):\n",
    "        print(\"Child Class Method\")\n",
    "        \n",
    "cc = C()\n",
    "\n",
    "cc.m1()\n",
    "cc.m2()\n",
    "\n"
   ]
  },
  {
   "cell_type": "code",
   "execution_count": null,
   "metadata": {},
   "outputs": [],
   "source": [
    "## Interveiw Tips\n",
    "# IF we same method name for class P contain m1() method and the class C also contains m1( ) method \n",
    "#then the cc object will run the its own class method"
   ]
  },
  {
   "cell_type": "code",
   "execution_count": 70,
   "metadata": {},
   "outputs": [
    {
     "ename": "AttributeError",
     "evalue": "'C' object has no attribute 'b'",
     "output_type": "error",
     "traceback": [
      "\u001b[1;31m---------------------------------------------------------------------------\u001b[0m",
      "\u001b[1;31mAttributeError\u001b[0m                            Traceback (most recent call last)",
      "\u001b[1;32m<ipython-input-70-dfb10eb9c3c1>\u001b[0m in \u001b[0;36m<module>\u001b[1;34m\u001b[0m\n\u001b[0;32m     11\u001b[0m \u001b[0mcc\u001b[0m \u001b[1;33m=\u001b[0m \u001b[0mC\u001b[0m\u001b[1;33m(\u001b[0m\u001b[1;33m)\u001b[0m\u001b[1;33m\u001b[0m\u001b[1;33m\u001b[0m\u001b[0m\n\u001b[0;32m     12\u001b[0m \u001b[1;33m\u001b[0m\u001b[0m\n\u001b[1;32m---> 13\u001b[1;33m \u001b[0mprint\u001b[0m\u001b[1;33m(\u001b[0m\u001b[0mcc\u001b[0m\u001b[1;33m.\u001b[0m\u001b[0ma\u001b[0m\u001b[1;33m,\u001b[0m \u001b[0mcc\u001b[0m\u001b[1;33m.\u001b[0m\u001b[0mb\u001b[0m\u001b[1;33m,\u001b[0m \u001b[0mcc\u001b[0m\u001b[1;33m.\u001b[0m\u001b[0mc\u001b[0m\u001b[1;33m,\u001b[0m \u001b[0mcc\u001b[0m\u001b[1;33m.\u001b[0m\u001b[0md\u001b[0m\u001b[1;33m)\u001b[0m\u001b[1;33m\u001b[0m\u001b[1;33m\u001b[0m\u001b[0m\n\u001b[0m",
      "\u001b[1;31mAttributeError\u001b[0m: 'C' object has no attribute 'b'"
     ]
    }
   ],
   "source": [
    "class P:\n",
    "    a=10\n",
    "    def __init(self):\n",
    "        self.b=20\n",
    "        \n",
    "class C(P):\n",
    "    c=30\n",
    "    def __init__(self):\n",
    "        self.d=40\n",
    "        \n",
    "cc = C()\n",
    "\n",
    "#print(cc.a, cc.b, cc.c, cc.d) ## It throws an error keep in mind the\n",
    "#In the inheritence the the inherited Child class didn't access the parant class Constructor\n"
   ]
  },
  {
   "cell_type": "code",
   "execution_count": null,
   "metadata": {},
   "outputs": [],
   "source": [
    "#Interveiw Tip:\n",
    "\n",
    "#In the nheritence the the inherited Child class didn't access the parant class Constructor"
   ]
  },
  {
   "cell_type": "code",
   "execution_count": 80,
   "metadata": {},
   "outputs": [
    {
     "name": "stdout",
     "output_type": "stream",
     "text": [
      "10 30 40\n"
     ]
    },
    {
     "ename": "AttributeError",
     "evalue": "'C' object has no attribute 'b'",
     "output_type": "error",
     "traceback": [
      "\u001b[1;31m---------------------------------------------------------------------------\u001b[0m",
      "\u001b[1;31mAttributeError\u001b[0m                            Traceback (most recent call last)",
      "\u001b[1;32m<ipython-input-80-3328612f74c8>\u001b[0m in \u001b[0;36m<module>\u001b[1;34m\u001b[0m\n\u001b[0;32m     19\u001b[0m \u001b[1;33m\u001b[0m\u001b[0m\n\u001b[0;32m     20\u001b[0m \u001b[0mprint\u001b[0m\u001b[1;33m(\u001b[0m\u001b[0mcc\u001b[0m\u001b[1;33m.\u001b[0m\u001b[0ma\u001b[0m\u001b[1;33m,\u001b[0m \u001b[0mcc\u001b[0m\u001b[1;33m.\u001b[0m\u001b[0mc\u001b[0m\u001b[1;33m,\u001b[0m \u001b[0mcc\u001b[0m\u001b[1;33m.\u001b[0m\u001b[0md\u001b[0m\u001b[1;33m)\u001b[0m\u001b[1;33m\u001b[0m\u001b[1;33m\u001b[0m\u001b[0m\n\u001b[1;32m---> 21\u001b[1;33m \u001b[0mprint\u001b[0m\u001b[1;33m(\u001b[0m\u001b[0mcc\u001b[0m\u001b[1;33m.\u001b[0m\u001b[0ma\u001b[0m\u001b[1;33m,\u001b[0m\u001b[0mcc\u001b[0m\u001b[1;33m.\u001b[0m\u001b[0mb\u001b[0m\u001b[1;33m,\u001b[0m \u001b[0mcc\u001b[0m\u001b[1;33m.\u001b[0m\u001b[0mc\u001b[0m\u001b[1;33m,\u001b[0m \u001b[0mcc\u001b[0m\u001b[1;33m.\u001b[0m\u001b[0md\u001b[0m\u001b[1;33m)\u001b[0m\u001b[1;33m\u001b[0m\u001b[1;33m\u001b[0m\u001b[0m\n\u001b[0m",
      "\u001b[1;31mAttributeError\u001b[0m: 'C' object has no attribute 'b'"
     ]
    }
   ],
   "source": [
    "## But I want to givea access to  the inherited child class of the parant class constrctor \n",
    "\n",
    "# how i can access the parant class constrctuctor lets see\n",
    "\n",
    "\n",
    "class P:\n",
    "    a=10\n",
    "    def __init(self):\n",
    "        self.b=20\n",
    "        \n",
    "class C(P):\n",
    "    c=30\n",
    "    def __init__(self):\n",
    "        super().__init__() # here we have to add this comment to acces the parant class constructor\n",
    "        self.d=40\n",
    "        \n",
    "        \n",
    "cc = C()\n",
    "\n",
    "print(cc.a, cc.c, cc.d)\n",
    "print(cc.a,cc.b, cc.c, cc.d)\n"
   ]
  },
  {
   "cell_type": "code",
   "execution_count": null,
   "metadata": {},
   "outputs": [],
   "source": []
  },
  {
   "cell_type": "markdown",
   "metadata": {},
   "source": [
    "# Types of the inheriteance:\n",
    "\n",
    "1# Single Level Inheritence\n",
    "2# Multi Level Inheritence\n",
    "3# Multiple Level Inheritence\n",
    "4# Heirachical Inheritence\n",
    "5# Hybrid Inheritence\n",
    "6# Cyclic Inhertitence(Genrally not in Use) Not Allowed in Python A(B) B(A)"
   ]
  },
  {
   "cell_type": "markdown",
   "metadata": {},
   "source": [
    "### Single Level Inheritence:"
   ]
  },
  {
   "cell_type": "code",
   "execution_count": null,
   "metadata": {},
   "outputs": [],
   "source": [
    "1### Single Level Inheritence:\n",
    "\n",
    "\n",
    "class P:\n",
    "    \n",
    "    def m2(self):\n",
    "        print(\"Parant Class MEthod\")\n",
    "        \n",
    "class C(P):\n",
    "    \n",
    "    def m1(self):\n",
    "        print(\"Child Class Method\")\n",
    "        \n",
    "cc = C()\n",
    "\n",
    "cc.m1()\n",
    "cc.m2()\n",
    "\n"
   ]
  },
  {
   "cell_type": "markdown",
   "metadata": {},
   "source": [
    "### Multi Level Inheritance: it Code Reusability"
   ]
  },
  {
   "cell_type": "code",
   "execution_count": 88,
   "metadata": {},
   "outputs": [
    {
     "name": "stdout",
     "output_type": "stream",
     "text": [
      "Grand father Class MEthod\n",
      "Father Class Method\n",
      "Myself class is excuted\n",
      "My son class is executed\n",
      "My GrandSon Class Is executed\n",
      "Grand father Class MEthod\n",
      "Father Class Method\n",
      "Myself class is excuted\n",
      "My son class is executed\n",
      "Grand father Class MEthod\n",
      "Father Class Method\n",
      "Myself class is excuted\n",
      "Grand father Class MEthod\n",
      "Father Class Method\n",
      "Grand father Class MEthod\n"
     ]
    }
   ],
   "source": [
    "2### Multi Level Inheritance: it Code Reusability\n",
    "\n",
    "class G:\n",
    "    \n",
    "    def m1(self):\n",
    "        print(\"Grand father Class MEthod\")\n",
    "        \n",
    "class F(G):\n",
    "    \n",
    "    def m2(self):\n",
    "        print(\"Father Class Method\")\n",
    "        \n",
    "class Me(F):\n",
    "    \n",
    "    def m3(self):\n",
    "        print(\"Myself class is excuted\")\n",
    "        \n",
    "class Son(Me):\n",
    "    \n",
    "    def m4(self):\n",
    "        print(\"My son class is executed\")\n",
    "    \n",
    "class GrandSon(Son):\n",
    "    \n",
    "    def m5(self):\n",
    "        print(\"My GrandSon Class Is executed\")\n",
    "        \n",
    "gs = GrandSon()  # The Inherited Class GrandSon() can access the all the member of the class\n",
    "\n",
    "gs.m1()\n",
    "gs.m2()\n",
    "gs.m3()\n",
    "gs.m4()\n",
    "gs.m5()\n",
    "\n",
    "\n",
    "s =Son()  # The Inherited Class Son() can access member of the class G,F,ME,and itself Son  but not the GrandSon\n",
    "\n",
    "s.m1()\n",
    "s.m2()\n",
    "s.m3()\n",
    "s.m4()\n",
    "#gs.m5() # throws error\n",
    "\n",
    "m =Me()  # The Inherited Class Me() can access member of the class G,F and itself Me  but not the GrandSon,Son\n",
    "\n",
    "m.m1()\n",
    "m.m2()\n",
    "m.m3()\n",
    "#m.m4() # Error\n",
    "#m.m5() # throws error\n",
    "\n",
    "f =F()  # The Inherited Class F() can access member of the class G and itself F  but not the GrandSon,Son,F\n",
    "\n",
    "f.m1()\n",
    "f.m2()\n",
    "#f.m3() # Error\n",
    "#f.m4() # Error\n",
    "#f.m5() # throws error\n",
    "\n",
    "g = G()  #Class G() is not the  Inherited Class so it can access member its own class only \n",
    "\n",
    "g.m1()\n",
    "#g.m2() # Error\n",
    "#g.m3() # Error\n",
    "#g.m4() # Error\n",
    "#g.m5() # throws error\n",
    "\n"
   ]
  },
  {
   "cell_type": "code",
   "execution_count": null,
   "metadata": {},
   "outputs": [],
   "source": [
    "## INterveiw Tip:   By consiedering the best programmer we can go to at 6 inherited class level only"
   ]
  },
  {
   "cell_type": "code",
   "execution_count": null,
   "metadata": {},
   "outputs": [],
   "source": []
  },
  {
   "cell_type": "markdown",
   "metadata": {},
   "source": [
    "### Heirachical Inheritence: it is inheritence in which the parant class inherits his prperties to the its subclass"
   ]
  },
  {
   "cell_type": "code",
   "execution_count": 91,
   "metadata": {},
   "outputs": [
    {
     "name": "stdout",
     "output_type": "stream",
     "text": [
      "Main Class Method\n",
      "Sub class Method\n",
      "Main Class Method\n",
      "Sub class Method\n"
     ]
    }
   ],
   "source": [
    "        \n",
    "class Father():\n",
    "    \n",
    "    def m1(self):\n",
    "        print(\"Main Class Method\")\n",
    "class Son(Father):\n",
    "    \n",
    "    def m2(self):\n",
    "        print(\"Sub class Method\")\n",
    "        \n",
    "        \n",
    "class Daughter(Father):\n",
    "    \n",
    "    def m3(self):\n",
    "        print(\"Sub class Method\") \n",
    "        \n",
    "        \n",
    "s = Son()\n",
    "s.m1()\n",
    "s.m2()\n",
    "#s.m3() Error\n",
    "\n",
    "d=Daughter()\n",
    "d.m1()\n",
    "#d.m2()# Error\n",
    "d.m3()\n",
    "        "
   ]
  },
  {
   "cell_type": "markdown",
   "metadata": {},
   "source": [
    "### Multiple Inheritence:"
   ]
  },
  {
   "cell_type": "code",
   "execution_count": 93,
   "metadata": {},
   "outputs": [
    {
     "name": "stdout",
     "output_type": "stream",
     "text": [
      "super class method\n",
      "Main Class Method\n",
      "Sub class Method\n"
     ]
    }
   ],
   "source": [
    "class Mother():\n",
    "    def m1(self):\n",
    "        \n",
    "        print(\"super class method\")\n",
    "\n",
    "class Father():\n",
    "    \n",
    "    def m2(self):\n",
    "        print(\"Main Class Method\")\n",
    "        \n",
    "class Son(Father,Mother):\n",
    "    \n",
    "    def m3(self):\n",
    "        print(\"Sub class Method\")\n",
    "        \n",
    "s = Son()\n",
    "\n",
    "s.m1()\n",
    "s.m2()\n",
    "s.m3()"
   ]
  },
  {
   "cell_type": "code",
   "execution_count": null,
   "metadata": {},
   "outputs": [],
   "source": []
  },
  {
   "cell_type": "code",
   "execution_count": 98,
   "metadata": {},
   "outputs": [
    {
     "name": "stdout",
     "output_type": "stream",
     "text": [
      "Main Class Method\n",
      "super class method\n"
     ]
    }
   ],
   "source": [
    "# Interveiw Tip: what happen when the  Father Class And Mother Class contain the same method which one will first executed\n",
    "\n",
    "#let's see\n",
    "\n",
    "class Mother():\n",
    "    def m1(self):\n",
    "        \n",
    "        print(\"super class method\")\n",
    "\n",
    "class Father():\n",
    "    \n",
    "    def m1(self):\n",
    "        print(\"Main Class Method\")\n",
    "        \n",
    "class Son(Father,Mother):\n",
    "    \n",
    "    def m3(self):\n",
    "        print(\"Sub class Method\")\n",
    "        \n",
    "s = Son()\n",
    "\n",
    "s.m1()\n",
    "\n",
    "\n",
    "class Mother():\n",
    "    def m1(self):\n",
    "        \n",
    "        print(\"super class method\")\n",
    "\n",
    "class Father():\n",
    "    \n",
    "    def m1(self):\n",
    "        print(\"Main Class Method\")\n",
    "        \n",
    "class Son(Mother,Father):\n",
    "    \n",
    "    def m3(self):\n",
    "        print(\"Sub class Method\")\n",
    "        \n",
    "s = Son()\n",
    "\n",
    "s.m1()\n",
    "\n",
    "\n",
    "\n",
    "# Answer we say thart class Son(Father,Mother) the first reference will give the priority\n",
    "# Answer we say thart class Son(Mother,Father) the first reference will give the priority\n",
    "\n"
   ]
  },
  {
   "cell_type": "code",
   "execution_count": null,
   "metadata": {},
   "outputs": [],
   "source": []
  },
  {
   "cell_type": "code",
   "execution_count": 11,
   "metadata": {},
   "outputs": [
    {
     "ename": "NameError",
     "evalue": "name 'eage' is not defined",
     "output_type": "error",
     "traceback": [
      "\u001b[1;31m---------------------------------------------------------------------------\u001b[0m",
      "\u001b[1;31mNameError\u001b[0m                                 Traceback (most recent call last)",
      "\u001b[1;32m<ipython-input-11-7759b97df934>\u001b[0m in \u001b[0;36m<module>\u001b[1;34m\u001b[0m\n\u001b[0;32m     54\u001b[0m \u001b[0mc\u001b[0m \u001b[1;33m=\u001b[0m \u001b[0mCar\u001b[0m\u001b[1;33m(\u001b[0m\u001b[1;34m\"Invova\"\u001b[0m\u001b[1;33m,\u001b[0m\u001b[1;34m\"Classic\"\u001b[0m\u001b[1;33m,\u001b[0m\u001b[1;34m\"Silver\"\u001b[0m\u001b[1;33m)\u001b[0m\u001b[1;33m\u001b[0m\u001b[1;33m\u001b[0m\u001b[0m\n\u001b[0;32m     55\u001b[0m \u001b[1;33m\u001b[0m\u001b[0m\n\u001b[1;32m---> 56\u001b[1;33m \u001b[0me\u001b[0m \u001b[1;33m=\u001b[0m \u001b[0mEmployee\u001b[0m\u001b[1;33m(\u001b[0m\u001b[1;36m121\u001b[0m\u001b[1;33m,\u001b[0m\u001b[1;34m\"JACKY\"\u001b[0m\u001b[1;33m,\u001b[0m\u001b[0mc\u001b[0m\u001b[1;33m)\u001b[0m\u001b[1;31m# (composition by the object reference )\u001b[0m\u001b[1;33m\u001b[0m\u001b[1;33m\u001b[0m\u001b[0m\n\u001b[0m\u001b[0;32m     57\u001b[0m \u001b[0me\u001b[0m\u001b[1;33m.\u001b[0m\u001b[0mm2\u001b[0m\u001b[1;33m(\u001b[0m\u001b[1;33m)\u001b[0m\u001b[1;33m\u001b[0m\u001b[1;33m\u001b[0m\u001b[0m\n",
      "\u001b[1;32m<ipython-input-11-7759b97df934>\u001b[0m in \u001b[0;36m__init__\u001b[1;34m(self, e_id, e_name, car_details)\u001b[0m\n\u001b[0;32m     29\u001b[0m \u001b[1;33m\u001b[0m\u001b[0m\n\u001b[0;32m     30\u001b[0m     \u001b[1;32mdef\u001b[0m \u001b[0m__init__\u001b[0m\u001b[1;33m(\u001b[0m\u001b[0mself\u001b[0m\u001b[1;33m,\u001b[0m\u001b[0me_id\u001b[0m\u001b[1;33m,\u001b[0m\u001b[0me_name\u001b[0m\u001b[1;33m,\u001b[0m\u001b[0mcar_details\u001b[0m\u001b[1;33m)\u001b[0m\u001b[1;33m:\u001b[0m\u001b[1;33m\u001b[0m\u001b[1;33m\u001b[0m\u001b[0m\n\u001b[1;32m---> 31\u001b[1;33m         \u001b[0msuper\u001b[0m\u001b[1;33m(\u001b[0m\u001b[1;33m)\u001b[0m\u001b[1;33m.\u001b[0m\u001b[0m__init__\u001b[0m\u001b[1;33m(\u001b[0m\u001b[0meage\u001b[0m\u001b[1;33m,\u001b[0m\u001b[0mesal\u001b[0m\u001b[1;33m)\u001b[0m  \u001b[1;31m# this to acesses the constructor of the parant class\u001b[0m\u001b[1;33m\u001b[0m\u001b[1;33m\u001b[0m\u001b[0m\n\u001b[0m\u001b[0;32m     32\u001b[0m         \u001b[0mself\u001b[0m\u001b[1;33m.\u001b[0m\u001b[0me_id\u001b[0m\u001b[1;33m=\u001b[0m\u001b[0me_id\u001b[0m\u001b[1;33m\u001b[0m\u001b[1;33m\u001b[0m\u001b[0m\n\u001b[0;32m     33\u001b[0m         \u001b[0mself\u001b[0m\u001b[1;33m.\u001b[0m\u001b[0me_name\u001b[0m\u001b[1;33m=\u001b[0m\u001b[0me_name\u001b[0m\u001b[1;33m\u001b[0m\u001b[1;33m\u001b[0m\u001b[0m\n",
      "\u001b[1;31mNameError\u001b[0m: name 'eage' is not defined"
     ]
    }
   ],
   "source": [
    "class Car:\n",
    "    \n",
    "    def __init__(self,name,model,color):\n",
    "        \n",
    "        self.name=name\n",
    "        self.model=model\n",
    "        self.color=color\n",
    "        \n",
    "    def display(self):\n",
    "        \n",
    "        print(\"Car Name: \",self.name)\n",
    "        print(\"Model No: \",self.model)\n",
    "        print(\"Colour: \",self.color)\n",
    "        \n",
    "        \n",
    "class Einfo:\n",
    "    \n",
    "    def __init__(self):\n",
    "        self.eage=43\n",
    "        self.esal=54000\n",
    "        \n",
    "    def gift(self):\n",
    "        print(\"Your Gift is Pizza with Family\")\n",
    "        \n",
    "        \n",
    "        \n",
    "        \n",
    "class Employee(Einfo): # Inherited class It has an access of the all member of the Einfo(IT IS INHERTITENCE)\n",
    "    \n",
    "    def __init__(self,e_id,e_name,car_details):\n",
    "        super().__init__(eage,esal)  # this to acesses the constructor of the parant class\n",
    "        self.e_id=e_id\n",
    "        self.e_name=e_name\n",
    "        self.car_details=car_details # this is an instance variable\n",
    "        \n",
    "        \n",
    "        \n",
    "    def working(self):\n",
    "        \n",
    "        print(\" YOUR TODAYS WORL IS IN PYTHON\")\n",
    "        \n",
    "    def m2(self):\n",
    "        self.gift()\n",
    "        print(\"Employee ID: \",self.e_id)\n",
    "        print(\"Employee Name: \",self.e_name)\n",
    "        print(\"Employee Age:\",self.eage)\n",
    "        print(\"Employee Salary:\",self.esal)\n",
    "        print(\"Car Details:\")\n",
    "        self.car_details.display()  # this instance varible point to the Car class method BY THE onject reference c \n",
    "        #(it is COMPOSITION)       \n",
    "c = Car(\"Invova\",\"Classic\",\"Silver\") \n",
    "e = Employee(121,\"JACKY\",c)# (composition by the object reference )\n",
    "e.m2()"
   ]
  },
  {
   "cell_type": "code",
   "execution_count": null,
   "metadata": {},
   "outputs": [],
   "source": []
  },
  {
   "cell_type": "markdown",
   "metadata": {},
   "source": [
    "#### HAS Relationship -- it consist of two format\n",
    "\n",
    "   1## Composition-----> Strong Association\n",
    "   2## Aggrgation------> Weak Association\n",
    "   \n",
    "   \n",
    "For Example  There is college and in colleges many departments but if close the college then the deparments also no longer availbale ----->Composition  we say that Strong Relationship\n",
    "\n",
    "In the same expamle In serveral depraments consist of many proccessors so the proccessor can able to move into every depramnet it flexible----> Aggregation so this Weak Asscitaion \n",
    "Without existing the container of the object there is ma chance to contained the object ---> Weak Associataion (Aggregation)"
   ]
  },
  {
   "cell_type": "code",
   "execution_count": null,
   "metadata": {},
   "outputs": [],
   "source": [
    "class Student:\n",
    "     college name = \"JarvisAlexa\"  # Weak Associtaiton (Aggregation) \n",
    "        def __init__(self,name):\n",
    "            self.name=name   # Strong Association(Composition)"
   ]
  },
  {
   "cell_type": "code",
   "execution_count": null,
   "metadata": {},
   "outputs": [],
   "source": []
  },
  {
   "cell_type": "code",
   "execution_count": null,
   "metadata": {},
   "outputs": [],
   "source": []
  },
  {
   "cell_type": "code",
   "execution_count": null,
   "metadata": {},
   "outputs": [],
   "source": [
    "## Hybrid Inheritence: (Multi + Multiple) inheritence"
   ]
  },
  {
   "cell_type": "code",
   "execution_count": null,
   "metadata": {},
   "outputs": [],
   "source": [
    "### HYbrid Inheritence case 1"
   ]
  },
  {
   "cell_type": "code",
   "execution_count": 2,
   "metadata": {},
   "outputs": [
    {
     "name": "stdout",
     "output_type": "stream",
     "text": [
      "Class D method\n"
     ]
    }
   ],
   "source": [
    "class A:\n",
    "    def m1(self):\n",
    "        print(\"Class A method\")\n",
    "\n",
    "class B(A):\n",
    "    def m1(self):\n",
    "        print(\"Class B method\")\n",
    "\n",
    "class C(A):\n",
    "    def m1(self):\n",
    "        print(\"Class C method\")\n",
    "class D(B,C):\n",
    "    def m1(self):\n",
    "        print(\"Class D method\")\n",
    "d= D()   \n",
    "d.m1()    # we know the priority goes to itself first If we have something why we are go to other "
   ]
  },
  {
   "cell_type": "code",
   "execution_count": 9,
   "metadata": {},
   "outputs": [
    {
     "name": "stdout",
     "output_type": "stream",
     "text": [
      "Class B method\n"
     ]
    }
   ],
   "source": [
    "class A:\n",
    "    def m1(self):\n",
    "        print(\"Class A method\")\n",
    "\n",
    "class B(A):\n",
    "    def m1(self):\n",
    "        print(\"Class B method\")\n",
    "\n",
    "class C(A):\n",
    "    def m1(self):\n",
    "        print(\"Class C method\")\n",
    "class D(B,C):\n",
    "    pass\n",
    "   \n",
    "d= D()   \n",
    "d.m1() ## Pririty to B  because D Itself doesn;t contains any method it inherited the first in bracket of the D(B,C) "
   ]
  },
  {
   "cell_type": "code",
   "execution_count": 10,
   "metadata": {},
   "outputs": [
    {
     "name": "stdout",
     "output_type": "stream",
     "text": [
      "Class C method\n"
     ]
    }
   ],
   "source": [
    "class A:\n",
    "    def m1(self):\n",
    "        print(\"Class A method\")\n",
    "\n",
    "class B(A):\n",
    "      pass\n",
    "\n",
    "class C(A):\n",
    "    def m1(self):\n",
    "        print(\"Class C method\")\n",
    "class D(B,C):\n",
    "    pass\n",
    "   \n",
    "d= D()   \n",
    "d.m1() ##Now C will execute  because D , B doest contains the any method so the  inherited will be C in bracket of the D(B,C) "
   ]
  },
  {
   "cell_type": "code",
   "execution_count": 13,
   "metadata": {},
   "outputs": [
    {
     "name": "stdout",
     "output_type": "stream",
     "text": [
      "Class A method\n"
     ]
    }
   ],
   "source": [
    "class A:\n",
    "    def m1(self):\n",
    "        print(\"Class A method\")\n",
    "\n",
    "class B(A):\n",
    "      pass\n",
    "\n",
    "class C(A):\n",
    "    pass\n",
    "class D(B,C):\n",
    "    pass\n",
    "   \n",
    "d= D()   \n",
    "d.m1() ##Now A will execute  because D , B ,A doest contains the any method so the  inherited will be C in bracket of the D(B,C),B(A) "
   ]
  },
  {
   "cell_type": "code",
   "execution_count": 15,
   "metadata": {},
   "outputs": [
    {
     "name": "stdout",
     "output_type": "stream",
     "text": [
      "[<class '__main__.D'>, <class '__main__.B'>, <class '__main__.C'>, <class '__main__.A'>, <class 'object'>]\n"
     ]
    }
   ],
   "source": [
    "class A:\n",
    "      pass\n",
    "\n",
    "class B(A):\n",
    "      pass\n",
    "\n",
    "class C(A):\n",
    "    pass\n",
    "class D(B,C):\n",
    "    pass\n",
    "   \n",
    "d= D()   \n",
    "#d.m1() ##Error\n",
    "\n",
    "print(D.mro())##mro-Method Resolution Order  ### By using this cmd we can trace how my method would be executed"
   ]
  },
  {
   "cell_type": "code",
   "execution_count": null,
   "metadata": {},
   "outputs": [],
   "source": []
  },
  {
   "cell_type": "code",
   "execution_count": 8,
   "metadata": {},
   "outputs": [
    {
     "name": "stdout",
     "output_type": "stream",
     "text": [
      "Class A method\n",
      "Class B method\n",
      "Class C method\n",
      "Class D method\n"
     ]
    }
   ],
   "source": [
    "class A:\n",
    "    def m1(self):\n",
    "        print(\"Class A method\")\n",
    "\n",
    "class B(A):\n",
    "    def m2(self):\n",
    "        print(\"Class B method\")\n",
    "\n",
    "class C(A):\n",
    "    def m3(self):\n",
    "        print(\"Class C method\")\n",
    "class D(B,C):                         \n",
    "    def m4(self):\n",
    "        print(\"Class D method\")\n",
    "        \n",
    "        \n",
    "d = D()\n",
    "d.m1()\n",
    "d.m2()\n",
    "d.m3()\n",
    "d.m4()"
   ]
  },
  {
   "cell_type": "code",
   "execution_count": 10,
   "metadata": {},
   "outputs": [
    {
     "name": "stdout",
     "output_type": "stream",
     "text": [
      "[<class '__main__.P'>, <class '__main__.X'>, <class '__main__.A'>, <class '__main__.Y'>, <class '__main__.B'>, <class '__main__.C'>, <class 'object'>]\n",
      "\n",
      "[<class '__main__.A'>, <class 'object'>]\n",
      "\n",
      "[<class '__main__.B'>, <class 'object'>]\n",
      "\n",
      "[<class '__main__.C'>, <class 'object'>]\n",
      "\n",
      "[<class '__main__.X'>, <class '__main__.A'>, <class '__main__.B'>, <class 'object'>]\n",
      "\n",
      "[<class '__main__.Y'>, <class '__main__.B'>, <class '__main__.C'>, <class 'object'>]\n",
      "\n",
      "[<class '__main__.P'>, <class '__main__.X'>, <class '__main__.A'>, <class '__main__.Y'>, <class '__main__.B'>, <class '__main__.C'>, <class 'object'>]\n",
      "\n"
     ]
    }
   ],
   "source": [
    "class A: pass\n",
    "\n",
    "class B: pass\n",
    "\n",
    "class C: pass\n",
    "\n",
    "class X(A,B): pass\n",
    "\n",
    "class Y(B,C): pass\n",
    "\n",
    "class P(X,Y,C): pass\n",
    "\n",
    "# Int the above program our \n",
    "# Expected Output:  P X Y C B A B OBJ\n",
    "# Lets see what happen in the actual\n",
    "\n",
    "print(P.mro()) # MRO-METHOD RESOLUTIONN ORDER\n",
    "print()\n",
    "\n",
    "#Actual Flow: P X  A Y  B C OBJ\n",
    "\n",
    "# from the Expected and Actal floe we can say that \n",
    "#In the Hybrid Inheritance the python run internally its own algorithm for the mthod resolution order\n",
    "\n",
    "# Lets Check for the every class\n",
    "\n",
    "print(A.mro())\n",
    "print()\n",
    "print(B.mro())\n",
    "print()\n",
    "print(C.mro())\n",
    "print()\n",
    "print(X.mro())\n",
    "print()\n",
    "print(Y.mro())\n",
    "print()\n",
    "print(P.mro())\n",
    "print()\n",
    "\n"
   ]
  },
  {
   "cell_type": "markdown",
   "metadata": {},
   "source": [
    "So In Hybrid Inheritence How the python run internally algrithem how it was calculate its method order resolution ????? let'see\n",
    "\n",
    "print(A.mro())----> A OBJ  #HEAD ELEMNT- A  TAIL ELEMENT-OBJ\n",
    "print()XA\n",
    "print(B.mro())---->B OBJ   #HEAD ELEMNT- B  TAIL ELEMENT-OBJ\n",
    "print()\n",
    "print(C.mro())---->C OBJ    #HEAD ELEMNT- C TAIL ELEMENT-OBJ\n",
    "print()\n",
    "print(X.mro())---->X A B OBJ   #HEAD ELEMNT- X  TAIL ELEMENT-A B OBJ\n",
    "print()\n",
    "print(Y.mro())---->Y B C OBJ  #HEAD ELEMNT- Y  TAIL ELEMENT-B C OBJ\n",
    "print()\n",
    "print(P.mro())---->????? OUR PROBLEM IS HERE ACCO TO OUR THE FLOW:# Expected Output:  P X Y C B A OBJ\n",
    "print()                                                      BUT        #Actual Flow: P X A Y B C OBJ\n",
    "\n",
    "\n",
    "## C3 Linerization of the Algorithm (by Samuel Pedroni)\n",
    "    ### DLR DepthFirstl Left to Right\n",
    "    \n",
    "Equation:\n",
    "\n",
    "mro(X)= X + Merge (mro(p1),  mro(p2), .......prarnt list)  \n",
    "\n",
    "lets apply tot our situation \n",
    "\n",
    "mro(P)= P + Merge( mro(X), mro(Y), mro(C), XYC)\n",
    "  \n",
    "      = P + Merge(( X A B OBJ), (Y B C OBJ) , (C OBJ), XYC)\n",
    "      \n",
    "NOW, I AM CARRIED OUT HEAD ELEMENT X FROM MERGE BECAUSE THIS HEAD-ELEMNT X IS NOT PRESENT IN ANY OTHER TAIL ELEMENT\n",
    "WE GET,\n",
    "     \n",
    "      == P + X + Merge(( A B OBJ), (Y B C OBJ) , (C OBJ), YC)\n",
    "      \n",
    "NOW, I AM CARRIED OUT HEAD ELEMENT A FROM MERGE BECAUSE THIS HEAD-ELEMNT A IS NOT PRESENT IN ANY OTHER TAIL ELEMENT\n",
    "WE GET,\n",
    "           \n",
    "      ===== P + X + A + Merge(( B OBJ), (Y B C OBJ) , (C OBJ), YC)\n",
    "      \n",
    "HERE , THE B IS HEAD ELEMENT OF THE FIRST LIST BUT THE THIS B ELEMNT TAIL ELEMNT IN ANOTHER LIST(2) SO THE SO WE CANT TAKE WE HOLD IT TO B AND GO THE NEXT LIST OF SEARCHING\n",
    "\n",
    "     =======P + X + A + B ......HOLD  Merge(( B OBJ), (Y B C OBJ) , (C OBJ), YC)\n",
    "     \n",
    "NOW GET BACK TO THE NEXT LIST SERCHING OF THE HEAD ELEMENT\n",
    " SO IN THE NEXT ELEMENT IS Y HENCE IT IS VALID BEACUSE IT NOT TAIL ELEMNT TO OTHER ANY ELEMNT \n",
    " WE GET,\n",
    " \n",
    "    ======= P + X + A + Y + Merge(( B OBJ), ( B C OBJ) , (C OBJ),  C)\n",
    "    \n",
    "    \n",
    "NOW CHECK THE HOLD STATE IS IT VALID YES NOE HEAD ELEMNT B OF THE LIST IS NOT THE TAIL ELEMNT OF THE ANY OTHER LIST\n",
    "\n",
    "\n",
    "    ========= P + X + A + Y + B +  Merge(( OBJ), ( C OBJ) , (C OBJ),  C)\n",
    "    \n",
    "NOW, OBJ IS HEAD ELEMNT BUT IT IT TAIL ELEMNT IN ANOTHER LIST SO THIS IS INVALID NOW ONLY C IS HEAD ELEMNT IS LEFT  \n",
    "\n",
    "    =========== P + X + A + Y + B + C + O...HOLD  Merge(( OBJ), ( OBJ) , (OBJ),  )\n",
    "\n",
    "     =========== P + X + A + Y + B + C  Merge(( OBJ), ( OBJ) , (OBJ) )\n",
    "       \n",
    "FINALLLY THE OBJ HOLD RESUME AND CHECK FOR THE HEAD ELEMENT VALIDITY AND IT IS VALID NOW:\n",
    "\n",
    "\n",
    "     =========== P + X + A + Y + B + C + OBJ+  Merge()\n",
    "     \n",
    "WE GOT THE ACTUAL FLOW \n",
    "\n",
    "                    P-->X--->A--->Y--->B--->C--->OBJ\n",
    "                    \n",
    "                    "
   ]
  },
  {
   "cell_type": "markdown",
   "metadata": {},
   "source": [
    "#let's see the another example so that our concept will be clear let see"
   ]
  },
  {
   "cell_type": "markdown",
   "metadata": {},
   "source": [
    "class D: pass\n",
    "\n",
    "class E: pass\n",
    "\n",
    "class F: pass\n",
    "\n",
    "class B(D,E): pass\n",
    "\n",
    "class C(D,F): pass\n",
    "\n",
    "class A(B,C): pass\n",
    "\n",
    "####### SO WHAT WILL BE THE METHOD REOLUTION FLOW WILL BW LETS CALCULATE THE FLOW:\n",
    "#### C3 Linerization of the Algorithm (by Samuel Pedroni)\n",
    "    ### DLR DepthFirstl Left to Right\n",
    "    \n",
    "Equation:\n",
    "\n",
    "mro(X)= X + Merge (mro(p1),  mro(p2), .......prarnt list)\n",
    "\n",
    "####### apply the formula\n",
    "\n",
    "mro(A)== A + Merege( mro(B), mro(C), BC)\n",
    "\n",
    "    == A + Merege( (B D E OBJ), (C D F OBJ), BC)\n",
    "    \n",
    "    == A + B + Merege( ( D E OBJ), (C D F OBJ), C)\n",
    "     \n",
    "    == A + B + D..HOLD.. Merege( ( D E OBJ), (C D F OBJ), C)\n",
    "        \n",
    "        now got the next list\n",
    "    \n",
    "    == A + B + C + Merege( ( D E OBJ), ( D F OBJ))\n",
    "        \n",
    "        CHECK D it valid\n",
    "        \n",
    "    == A + B + C + D +  Merege( ( E OBJ), (  F OBJ))\n",
    "\n",
    "    == A + B + C + D + E +   Merege( ( OBJ), (  F OBJ))\n",
    "    \n",
    "    == A + B + C + D + E + F +  Merege( ( OBJ), (OBJ))\n",
    "    \n",
    "    == A + B + C + D + E + F + OBJ +  Merege( )\n",
    "    \n",
    "\n",
    "    \n",
    "    THE ACTAUL FLOW WILL BE    A  ---> B  ---> C  ---> D  ---> E  ---> F  ---> OBJ \n",
    "    \n",
    "    \n",
    "####### lET'S CHECK IT CORRECT OR NOT  "
   ]
  },
  {
   "cell_type": "code",
   "execution_count": 14,
   "metadata": {},
   "outputs": [
    {
     "name": "stdout",
     "output_type": "stream",
     "text": [
      "[<class '__main__.A'>, <class '__main__.B'>, <class '__main__.C'>, <class '__main__.D'>, <class '__main__.E'>, <class '__main__.F'>, <class 'object'>]\n"
     ]
    }
   ],
   "source": [
    "class D: pass\n",
    "\n",
    "class E: pass\n",
    "\n",
    "class F: pass\n",
    "\n",
    "class B(D,E): pass\n",
    "\n",
    "class C(D,F): pass\n",
    "\n",
    "class A(B,C): pass\n",
    "\n",
    "print(A.mro())\n",
    "\n",
    "# iT IS CORRECT "
   ]
  },
  {
   "cell_type": "code",
   "execution_count": null,
   "metadata": {},
   "outputs": [],
   "source": []
  },
  {
   "cell_type": "markdown",
   "metadata": {},
   "source": [
    "#### super():  it is used in the child class to access the parant class constructor , method , variables using the super()"
   ]
  },
  {
   "cell_type": "code",
   "execution_count": null,
   "metadata": {},
   "outputs": [],
   "source": [
    "## Always keep in mind the The use o"
   ]
  },
  {
   "cell_type": "code",
   "execution_count": 25,
   "metadata": {},
   "outputs": [
    {
     "name": "stdout",
     "output_type": "stream",
     "text": [
      " Student Name:  Tom\n",
      "Student Age:  16\n",
      "Student Salary: 10\n"
     ]
    },
    {
     "ename": "NameError",
     "evalue": "name 'a' is not defined",
     "output_type": "error",
     "traceback": [
      "\u001b[1;31m---------------------------------------------------------------------------\u001b[0m",
      "\u001b[1;31mNameError\u001b[0m                                 Traceback (most recent call last)",
      "\u001b[1;32m<ipython-input-25-6d48ea4d4315>\u001b[0m in \u001b[0;36m<module>\u001b[1;34m\u001b[0m\n\u001b[0;32m     43\u001b[0m \u001b[0mc\u001b[0m \u001b[1;33m=\u001b[0m \u001b[0mChild\u001b[0m\u001b[1;33m(\u001b[0m\u001b[1;34m\"Tom\"\u001b[0m\u001b[1;33m,\u001b[0m\u001b[1;36m16\u001b[0m\u001b[1;33m,\u001b[0m\u001b[1;36m10\u001b[0m\u001b[1;33m)\u001b[0m\u001b[1;33m\u001b[0m\u001b[1;33m\u001b[0m\u001b[0m\n\u001b[0;32m     44\u001b[0m \u001b[1;33m\u001b[0m\u001b[0m\n\u001b[1;32m---> 45\u001b[1;33m \u001b[0mc\u001b[0m\u001b[1;33m.\u001b[0m\u001b[0mm1\u001b[0m\u001b[1;33m(\u001b[0m\u001b[1;33m)\u001b[0m\u001b[1;33m\u001b[0m\u001b[1;33m\u001b[0m\u001b[0m\n\u001b[0m",
      "\u001b[1;32m<ipython-input-25-6d48ea4d4315>\u001b[0m in \u001b[0;36mm1\u001b[1;34m(self)\u001b[0m\n\u001b[0;32m     32\u001b[0m             \u001b[1;31m# Now i want to access the parant class variable so let see how to access\u001b[0m\u001b[1;33m\u001b[0m\u001b[1;33m\u001b[0m\u001b[1;33m\u001b[0m\u001b[0m\n\u001b[0;32m     33\u001b[0m \u001b[1;33m\u001b[0m\u001b[0m\n\u001b[1;32m---> 34\u001b[1;33m             \u001b[0msuper\u001b[0m\u001b[1;33m(\u001b[0m\u001b[1;33m)\u001b[0m\u001b[1;33m.\u001b[0m\u001b[0m__init__\u001b[0m\u001b[1;33m(\u001b[0m\u001b[0ma\u001b[0m\u001b[1;33m,\u001b[0m\u001b[0mb\u001b[0m\u001b[1;33m)\u001b[0m\u001b[1;33m\u001b[0m\u001b[1;33m\u001b[0m\u001b[0m\n\u001b[0m\u001b[0;32m     35\u001b[0m             \u001b[0mprint\u001b[0m\u001b[1;33m(\u001b[0m\u001b[1;34m\" The parant class variable are : \"\u001b[0m\u001b[1;33m,\u001b[0m\u001b[0mself\u001b[0m\u001b[1;33m.\u001b[0m\u001b[0ma\u001b[0m\u001b[1;33m,\u001b[0m\u001b[0mself\u001b[0m\u001b[1;33m.\u001b[0m\u001b[0mb\u001b[0m\u001b[1;33m)\u001b[0m\u001b[1;33m\u001b[0m\u001b[1;33m\u001b[0m\u001b[0m\n\u001b[0;32m     36\u001b[0m \u001b[1;33m\u001b[0m\u001b[0m\n",
      "\u001b[1;31mNameError\u001b[0m: name 'a' is not defined"
     ]
    }
   ],
   "source": [
    "class Parant:\n",
    "    a=12\n",
    "    def __init__(self):\n",
    "        \n",
    "        self.b=212\n",
    "        print(\"parant class construcotr is executed !!\")\n",
    "        \n",
    "        \n",
    "    def p1(self):\n",
    "        \n",
    "        print( \" The student Scholarship is \",self.a)\n",
    "        \n",
    "    def p2(self):\n",
    "        \n",
    "        print(\"Student ID \",self.b)  \n",
    "    \n",
    "    \n",
    "class Child:\n",
    "        \n",
    "        def __init__(self,name,age,std):\n",
    "            \n",
    "            self.name=name\n",
    "            self.age=age\n",
    "            self.std=std\n",
    "            \n",
    "        def m1(self):\n",
    "            \n",
    "            print(\" Student Name: \",self.name)\n",
    "            print(\"Student Age: \", self.age)\n",
    "            print(\"Student Salary:\",self.std)\n",
    "            \n",
    "            # Now i want to access the parant class variable so let see how to access\n",
    "            \n",
    "            super().__init__(a,b)\n",
    "            print(\" The parant class variable are : \",self.a,self.b)\n",
    "            \n",
    "            # Now lets access the parant class methods\n",
    "            \n",
    "            super().p1()\n",
    "            super().p2()\n",
    "            \n",
    "            \n",
    "c = Child(\"Tom\",16,10)\n",
    "\n",
    "c.m1()"
   ]
  },
  {
   "cell_type": "code",
   "execution_count": null,
   "metadata": {},
   "outputs": [],
   "source": []
  },
  {
   "cell_type": "code",
   "execution_count": 31,
   "metadata": {},
   "outputs": [
    {
     "ename": "NameError",
     "evalue": "name 'b' is not defined",
     "output_type": "error",
     "traceback": [
      "\u001b[1;31m---------------------------------------------------------------------------\u001b[0m",
      "\u001b[1;31mNameError\u001b[0m                                 Traceback (most recent call last)",
      "\u001b[1;32m<ipython-input-31-beb44715eaef>\u001b[0m in \u001b[0;36m<module>\u001b[1;34m\u001b[0m\n\u001b[0;32m     31\u001b[0m             \u001b[0msuper\u001b[0m\u001b[1;33m.\u001b[0m\u001b[0mm2\u001b[0m\u001b[1;33m(\u001b[0m\u001b[1;33m)\u001b[0m\u001b[1;33m\u001b[0m\u001b[1;33m\u001b[0m\u001b[0m\n\u001b[0;32m     32\u001b[0m             \u001b[0msuper\u001b[0m\u001b[1;33m.\u001b[0m\u001b[0mm3\u001b[0m\u001b[1;33m(\u001b[0m\u001b[1;33m)\u001b[0m\u001b[1;33m\u001b[0m\u001b[1;33m\u001b[0m\u001b[0m\n\u001b[1;32m---> 33\u001b[1;33m \u001b[0mc\u001b[0m\u001b[1;33m=\u001b[0m \u001b[0mC\u001b[0m\u001b[1;33m(\u001b[0m\u001b[1;33m)\u001b[0m\u001b[1;33m\u001b[0m\u001b[1;33m\u001b[0m\u001b[0m\n\u001b[0m\u001b[0;32m     34\u001b[0m \u001b[1;33m\u001b[0m\u001b[0m\n\u001b[0;32m     35\u001b[0m \u001b[1;33m\u001b[0m\u001b[0m\n",
      "\u001b[1;32m<ipython-input-31-beb44715eaef>\u001b[0m in \u001b[0;36m__init__\u001b[1;34m(self)\u001b[0m\n\u001b[0;32m     27\u001b[0m     \u001b[1;32mdef\u001b[0m \u001b[0m__init__\u001b[0m\u001b[1;33m(\u001b[0m\u001b[0mself\u001b[0m\u001b[1;33m)\u001b[0m\u001b[1;33m:\u001b[0m\u001b[1;33m\u001b[0m\u001b[1;33m\u001b[0m\u001b[0m\n\u001b[0;32m     28\u001b[0m             \u001b[0mself\u001b[0m\u001b[1;33m.\u001b[0m\u001b[0mb\u001b[0m\u001b[1;33m=\u001b[0m\u001b[1;36m422\u001b[0m\u001b[1;33m\u001b[0m\u001b[1;33m\u001b[0m\u001b[0m\n\u001b[1;32m---> 29\u001b[1;33m             \u001b[0msuper\u001b[0m\u001b[1;33m(\u001b[0m\u001b[1;33m)\u001b[0m\u001b[1;33m.\u001b[0m\u001b[0m__init__\u001b[0m\u001b[1;33m(\u001b[0m\u001b[0mb\u001b[0m\u001b[1;33m)\u001b[0m\u001b[1;33m\u001b[0m\u001b[1;33m\u001b[0m\u001b[0m\n\u001b[0m\u001b[0;32m     30\u001b[0m             \u001b[0msuper\u001b[0m\u001b[1;33m.\u001b[0m\u001b[0mm1\u001b[0m\u001b[1;33m(\u001b[0m\u001b[1;33m)\u001b[0m\u001b[1;33m\u001b[0m\u001b[1;33m\u001b[0m\u001b[0m\n\u001b[0;32m     31\u001b[0m             \u001b[0msuper\u001b[0m\u001b[1;33m.\u001b[0m\u001b[0mm2\u001b[0m\u001b[1;33m(\u001b[0m\u001b[1;33m)\u001b[0m\u001b[1;33m\u001b[0m\u001b[1;33m\u001b[0m\u001b[0m\n",
      "\u001b[1;31mNameError\u001b[0m: name 'b' is not defined"
     ]
    }
   ],
   "source": [
    "class P:\n",
    "    \n",
    "    a=121\n",
    "    def __init__(self):\n",
    "        \n",
    "        self.b=232\n",
    "        print(\"Parant class Constructor is executed\")\n",
    "        \n",
    "        \n",
    "    def m1(self):\n",
    "        \n",
    "        print(\"Parant class Instance Mthod is Executed!!\")\n",
    "              \n",
    "    @classmethod\n",
    "    def m2(cls):\n",
    "              \n",
    "        print(\"Parant Class MEthod is executed\")\n",
    "              \n",
    "                  \n",
    "    @staticmethod\n",
    "    def m3(cls):\n",
    "              \n",
    "        print(\"Parant static method is executed!!\")\n",
    "              \n",
    "              \n",
    "class C(p):\n",
    "    def __init__(self):\n",
    "            self.b=422\n",
    "            super().__init__()\n",
    "            super().__init__(b)\n",
    "            super.m1()\n",
    "            super.m2()\n",
    "            super.m3()             \n",
    "c= C()\n",
    "              \n",
    "              \n",
    "              \n",
    "              "
   ]
  },
  {
   "cell_type": "code",
   "execution_count": null,
   "metadata": {},
   "outputs": [],
   "source": []
  },
  {
   "cell_type": "code",
   "execution_count": 2,
   "metadata": {},
   "outputs": [
    {
     "name": "stdout",
     "output_type": "stream",
     "text": [
      "Class E Method executed!\n"
     ]
    }
   ],
   "source": [
    "class A: \n",
    "    \n",
    "    def m1(self):\n",
    "        print(\"Class A Method executed!\")\n",
    "        \n",
    "class B(A): \n",
    "    \n",
    "    def m1(self):\n",
    "        print(\"Class B Method executed!\")\n",
    "        \n",
    "class C(B): \n",
    "    \n",
    "    def m1(self):\n",
    "        print(\"Class C Method executed!\")\n",
    "        \n",
    "class D(C): \n",
    "    \n",
    "    def m1(self):\n",
    "        print(\"Class D Method executed!\")\n",
    "        \n",
    "class E(D): \n",
    "    \n",
    "    def m1(self):\n",
    "        print(\"Class E Method executed!\") \n",
    "        \n",
    "        \n",
    "e = E()\n",
    "e.m1()\n",
    "\n",
    "    "
   ]
  },
  {
   "cell_type": "code",
   "execution_count": 4,
   "metadata": {},
   "outputs": [
    {
     "name": "stdout",
     "output_type": "stream",
     "text": [
      "Class D Method executed!\n"
     ]
    }
   ],
   "source": [
    "# Now i want to run the  D Class method   \n",
    "class A: \n",
    "    \n",
    "    def m1(self):\n",
    "        print(\"Class A Method executed!\")\n",
    "        \n",
    "class B(A): \n",
    "    \n",
    "    def m1(self):\n",
    "        print(\"Class B Method executed!\")\n",
    "        \n",
    "class C(B): \n",
    "    \n",
    "    def m1(self):\n",
    "        print(\"Class C Method executed!\")\n",
    "        \n",
    "class D(C): \n",
    "    \n",
    "    def m1(self):\n",
    "        print(\"Class D Method executed!\")\n",
    "        \n",
    "class E(D): \n",
    "    \n",
    "    def m1(self):\n",
    "        \n",
    "        super().m1()  # here we are executing\n",
    "        \n",
    "        \n",
    "e = E()\n",
    "e.m1()\n",
    "\n",
    "\n",
    "      "
   ]
  },
  {
   "cell_type": "code",
   "execution_count": null,
   "metadata": {},
   "outputs": [],
   "source": [
    "# Now i want to run the B class\n",
    "  \n",
    "class A: \n",
    "    \n",
    "    def m1(self):\n",
    "        print(\"Class A Method executed!\")\n",
    "        \n",
    "class B(A): \n",
    "    \n",
    "    def m1(self):\n",
    "        print(\"Class B Method executed!\")\n",
    "        \n",
    "class C(B): \n",
    "    \n",
    "    def m1(self):\n",
    "        print(\"Class C Method executed!\")\n",
    "        \n",
    "class D(C): \n",
    "    \n",
    "    def m1(self):\n",
    "        print(\"Class D Method executed!\")\n",
    "        \n",
    "class E(D): \n",
    "    \n",
    "    def m1(self):\n",
    "        \n",
    "        super(C,self).m1()  # Now here using the super(C,self).m1() we say that C act as child class to itselfly and\n",
    "        #the parant  class of the  C will be B  so Now C--> Child Class ansd B----> Parant class   so definatly in the classs\n",
    "        # super() will exeute the parant class method of m1 hence we will get the out put:\"Class B Method executed!\"\n",
    "        \n",
    "        \n",
    "e = E()\n",
    "e.m1()\n"
   ]
  },
  {
   "cell_type": "code",
   "execution_count": 5,
   "metadata": {},
   "outputs": [
    {
     "ename": "AttributeError",
     "evalue": "'super' object has no attribute 'a'",
     "output_type": "error",
     "traceback": [
      "\u001b[1;31m---------------------------------------------------------------------------\u001b[0m",
      "\u001b[1;31mAttributeError\u001b[0m                            Traceback (most recent call last)",
      "\u001b[1;32m<ipython-input-5-f7baa47758bf>\u001b[0m in \u001b[0;36m<module>\u001b[1;34m\u001b[0m\n\u001b[0;32m     15\u001b[0m \u001b[1;33m\u001b[0m\u001b[0m\n\u001b[0;32m     16\u001b[0m \u001b[1;33m\u001b[0m\u001b[0m\n\u001b[1;32m---> 17\u001b[1;33m \u001b[0mc\u001b[0m \u001b[1;33m=\u001b[0m \u001b[0mC\u001b[0m\u001b[1;33m(\u001b[0m\u001b[1;33m)\u001b[0m\u001b[1;33m\u001b[0m\u001b[1;33m\u001b[0m\u001b[0m\n\u001b[0m\u001b[0;32m     18\u001b[0m \u001b[1;33m\u001b[0m\u001b[0m\n\u001b[0;32m     19\u001b[0m \u001b[0mc\u001b[0m\u001b[1;33m.\u001b[0m\u001b[0mm1\u001b[0m\u001b[1;33m(\u001b[0m\u001b[1;33m)\u001b[0m\u001b[1;33m\u001b[0m\u001b[1;33m\u001b[0m\u001b[0m\n",
      "\u001b[1;32m<ipython-input-5-f7baa47758bf>\u001b[0m in \u001b[0;36m__init__\u001b[1;34m(self)\u001b[0m\n\u001b[0;32m     10\u001b[0m     \u001b[1;32mdef\u001b[0m \u001b[0m__init__\u001b[0m\u001b[1;33m(\u001b[0m\u001b[0mself\u001b[0m\u001b[1;33m)\u001b[0m\u001b[1;33m:\u001b[0m\u001b[1;33m\u001b[0m\u001b[1;33m\u001b[0m\u001b[0m\n\u001b[0;32m     11\u001b[0m \u001b[1;33m\u001b[0m\u001b[0m\n\u001b[1;32m---> 12\u001b[1;33m         \u001b[0mprint\u001b[0m\u001b[1;33m(\u001b[0m\u001b[0msuper\u001b[0m\u001b[1;33m(\u001b[0m\u001b[1;33m)\u001b[0m\u001b[1;33m.\u001b[0m\u001b[0ma\u001b[0m\u001b[1;33m)\u001b[0m \u001b[1;31m# it is the static variable it work\u001b[0m\u001b[1;33m\u001b[0m\u001b[1;33m\u001b[0m\u001b[0m\n\u001b[0m\u001b[0;32m     13\u001b[0m \u001b[1;33m\u001b[0m\u001b[0m\n\u001b[0;32m     14\u001b[0m         \u001b[0mprint\u001b[0m\u001b[1;33m(\u001b[0m\u001b[0msuper\u001b[0m\u001b[1;33m(\u001b[0m\u001b[1;33m)\u001b[0m\u001b[1;33m.\u001b[0m\u001b[0mb\u001b[0m\u001b[1;33m)\u001b[0m\u001b[1;31m# but when we call the instance variable it will be not work\u001b[0m\u001b[1;33m\u001b[0m\u001b[1;33m\u001b[0m\u001b[0m\n",
      "\u001b[1;31mAttributeError\u001b[0m: 'super' object has no attribute 'a'"
     ]
    }
   ],
   "source": [
    "class P:\n",
    "    \n",
    "    a=10\n",
    "    def __init__(self):\n",
    "        \n",
    "        self.b=23\n",
    "        \n",
    "class C:\n",
    "    \n",
    "    def __init__(self):\n",
    "        \n",
    "        print(super().a) # it is the static variable it work \n",
    "        \n",
    "        #print(super().b)# but when we call the instance variable it will be not work  # ERROR\n",
    "        \n",
    "        print(self.b)  # Instance variable only call with the self \n",
    "        \n",
    "        \n",
    "c = C()\n",
    "\n",
    "c.m1()\n",
    "\n",
    "\n",
    "# What we understood when we got in the instance variable then we will not able to use the instance varibale we have to use self. instance variable _ name "
   ]
  },
  {
   "cell_type": "code",
   "execution_count": 7,
   "metadata": {},
   "outputs": [
    {
     "ename": "AttributeError",
     "evalue": "'super' object has no attribute 'a'",
     "output_type": "error",
     "traceback": [
      "\u001b[1;31m---------------------------------------------------------------------------\u001b[0m",
      "\u001b[1;31mAttributeError\u001b[0m                            Traceback (most recent call last)",
      "\u001b[1;32m<ipython-input-7-fd4b92f713cb>\u001b[0m in \u001b[0;36m<module>\u001b[1;34m\u001b[0m\n\u001b[0;32m     15\u001b[0m \u001b[1;33m\u001b[0m\u001b[0m\n\u001b[0;32m     16\u001b[0m \u001b[1;33m\u001b[0m\u001b[0m\n\u001b[1;32m---> 17\u001b[1;33m \u001b[0mc\u001b[0m \u001b[1;33m=\u001b[0m \u001b[0mC\u001b[0m\u001b[1;33m(\u001b[0m\u001b[1;33m)\u001b[0m\u001b[1;33m\u001b[0m\u001b[1;33m\u001b[0m\u001b[0m\n\u001b[0m\u001b[0;32m     18\u001b[0m \u001b[1;33m\u001b[0m\u001b[0m\n\u001b[0;32m     19\u001b[0m \u001b[0mc\u001b[0m\u001b[1;33m.\u001b[0m\u001b[0mm1\u001b[0m\u001b[1;33m(\u001b[0m\u001b[1;33m)\u001b[0m\u001b[1;33m\u001b[0m\u001b[1;33m\u001b[0m\u001b[0m\n",
      "\u001b[1;32m<ipython-input-7-fd4b92f713cb>\u001b[0m in \u001b[0;36m__init__\u001b[1;34m(self)\u001b[0m\n\u001b[0;32m     10\u001b[0m     \u001b[1;32mdef\u001b[0m \u001b[0m__init__\u001b[0m\u001b[1;33m(\u001b[0m\u001b[0mself\u001b[0m\u001b[1;33m)\u001b[0m\u001b[1;33m:\u001b[0m\u001b[1;33m\u001b[0m\u001b[1;33m\u001b[0m\u001b[0m\n\u001b[0;32m     11\u001b[0m         \u001b[0mself\u001b[0m\u001b[1;33m.\u001b[0m\u001b[0mb\u001b[0m\u001b[1;33m=\u001b[0m\u001b[1;36m43\u001b[0m\u001b[1;33m\u001b[0m\u001b[1;33m\u001b[0m\u001b[0m\n\u001b[1;32m---> 12\u001b[1;33m         \u001b[0mprint\u001b[0m\u001b[1;33m(\u001b[0m\u001b[0msuper\u001b[0m\u001b[1;33m(\u001b[0m\u001b[1;33m)\u001b[0m\u001b[1;33m.\u001b[0m\u001b[0ma\u001b[0m\u001b[1;33m)\u001b[0m\u001b[1;33m\u001b[0m\u001b[1;33m\u001b[0m\u001b[0m\n\u001b[0m\u001b[0;32m     13\u001b[0m         \u001b[0msuper\u001b[0m\u001b[1;33m(\u001b[0m\u001b[1;33m)\u001b[0m\u001b[1;33m.\u001b[0m\u001b[0m__init__\u001b[0m\u001b[1;33m(\u001b[0m\u001b[1;33m)\u001b[0m  \u001b[1;31m# before running this statement self.b=43 but after  we are running the statement the parant constructor executed and then value of the b is updated to the self.b=23\u001b[0m\u001b[1;33m\u001b[0m\u001b[1;33m\u001b[0m\u001b[0m\n\u001b[0;32m     14\u001b[0m         \u001b[0mprint\u001b[0m\u001b[1;33m(\u001b[0m\u001b[0mself\u001b[0m\u001b[1;33m.\u001b[0m\u001b[0mb\u001b[0m\u001b[1;33m)\u001b[0m\u001b[1;33m\u001b[0m\u001b[1;33m\u001b[0m\u001b[0m\n",
      "\u001b[1;31mAttributeError\u001b[0m: 'super' object has no attribute 'a'"
     ]
    }
   ],
   "source": [
    "class P:\n",
    "    \n",
    "    a=10\n",
    "    def __init__(self):\n",
    "        \n",
    "        self.b=23\n",
    "        \n",
    "class C:\n",
    "    \n",
    "    def __init__(self):\n",
    "        self.b=43\n",
    "        print(super().a)\n",
    "        super().__init__()  # before running this statement self.b=43  but after  we are running the statement\n",
    "        print(self.b)   # the parant constructor executed and then value of the b is updated to the self.b=23\n",
    "        \n",
    "        \n",
    "c = C()\n",
    "\n",
    "c.m1()"
   ]
  },
  {
   "cell_type": "markdown",
   "metadata": {},
   "source": [
    "## Polymorphism: MultipleForms\n",
    "\n",
    "poly - Multiple morphism - forms\n",
    "\n",
    "What we Study?\n",
    "\n",
    "### Duct Typing Philosophy in Python\n",
    "\n",
    "### Overoading:\n",
    "\n",
    "     ### Operator Overloading\n",
    "     ### Method overloading\n",
    "     ### Constructor Overloading\n",
    "     \n",
    "### Overiding\n",
    "\n",
    "    ### Method Overriding\n",
    "    ### Constructor Overiding"
   ]
  },
  {
   "cell_type": "markdown",
   "metadata": {},
   "source": [
    "## Duct Time Philosophy\n",
    "#### Determing of the class based on the Behaviour of the Objects"
   ]
  },
  {
   "cell_type": "code",
   "execution_count": 1,
   "metadata": {},
   "outputs": [
    {
     "name": "stdout",
     "output_type": "stream",
     "text": [
      "Bow Bow\n",
      "Miow Miow\n",
      "Cheww Cheww\n",
      "Mhaayaa  Mhaayaa\n"
     ]
    }
   ],
   "source": [
    "class Dog:\n",
    "    \n",
    "    def sound(self):\n",
    "        print(\"Bow Bow\")\n",
    "        \n",
    "class Cat:\n",
    "    \n",
    "    def sound(self):\n",
    "        print(\"Miow Miow\")\n",
    "        \n",
    "class Sparrow:\n",
    "    \n",
    "    def sound(self):\n",
    "        print(\"Cheww Cheww\")\n",
    "        \n",
    "class Goat:\n",
    "    \n",
    "    def sound(self):\n",
    "        print(\"Mhaayaa  Mhaayaa\")        \n",
    "        \n",
    "        \n",
    "def f1(obj):\n",
    "    obj.sound()\n",
    "    \n",
    "list = [Dog(),Cat(),Sparrow(),Goat()]  \n",
    "\n",
    "for obj in list:\n",
    "    f1(obj)\n",
    "###  Based on the behaviour of the object we can understand the object is belongs to whicj class is nothing but the Duct typing "
   ]
  },
  {
   "cell_type": "code",
   "execution_count": 4,
   "metadata": {},
   "outputs": [
    {
     "name": "stdout",
     "output_type": "stream",
     "text": [
      "BowBow\n",
      "Milk\n"
     ]
    }
   ],
   "source": [
    "class Dog:\n",
    "    \n",
    "    def talk(self):\n",
    "        print(\"BowBow\")\n",
    "        \n",
    "class Cat:\n",
    "    \n",
    "    def drink(self):\n",
    "        print(\"Milk\")\n",
    "        \n",
    "\n",
    "\n",
    "\n",
    "def f1(obj):\n",
    "    \n",
    "    if hasattr(obj,\"talk\"):  ## THe hasattr is an cmd which is used  to  fetch out the behaviour of the object in the class\n",
    "        obj.talk()\n",
    "        \n",
    "    elif  hasattr(obj,\"drink\"):\n",
    "        obj.drink()\n",
    "        \n",
    "d = Dog()\n",
    "f1(d)\n",
    "c= Cat()\n",
    "f1(c)\n",
    "        \n",
    "    "
   ]
  },
  {
   "cell_type": "markdown",
   "metadata": {},
   "source": [
    "### Overloding:\n",
    "\n",
    "1+2 = 3\n",
    "\n",
    "\"a\" + \"b\" = ab"
   ]
  },
  {
   "cell_type": "code",
   "execution_count": null,
   "metadata": {},
   "outputs": [],
   "source": [
    "#### Operator Overloding : MAgic Methods are Neccessory\n",
    "\n",
    "\n",
    "\n",
    "# From here take descussion about the object how we can perform the operation between the object s "
   ]
  },
  {
   "cell_type": "code",
   "execution_count": null,
   "metadata": {},
   "outputs": [],
   "source": [
    "class Book:\n",
    "    \n",
    "    def __init__(self,pages):\n",
    "        \n",
    "        self.pages=pages\n",
    "        \n",
    "        \n",
    "b1 = Book(100)\n",
    "b2 = Book(200)\n",
    "\n",
    "print(b1 + b2 )  # can this work ? Oviously no because the in the class we take only the values not adding the two value \n",
    "\n",
    " # And also beacuse we cant add the two objects directly but \n",
    "    \n",
    "    \n",
    "    # To apply the operator overloding we have to apply the MAGIC METHOD so lets see wha they are\n",
    "    \n",
    "    \n",
    "    "
   ]
  },
  {
   "cell_type": "code",
   "execution_count": 6,
   "metadata": {},
   "outputs": [
    {
     "name": "stdout",
     "output_type": "stream",
     "text": [
      "300\n",
      "20000\n"
     ]
    }
   ],
   "source": [
    "class Book:\n",
    "    \n",
    "    def __init__(self,pages):\n",
    "        \n",
    "        self.pages=pages\n",
    "    def __add__(self,other):  ## cmd for the addition +overloding\n",
    "        \n",
    "        return self.pages + other.pages\n",
    "        \n",
    "    def __mul__(self,other):  # Multiplication Overloding\n",
    "        \n",
    "        return self.pages * other.pages  \n",
    "        \n",
    "        \n",
    "        \n",
    "b1 = Book(100)\n",
    "b2 = Book(200)\n",
    "\n",
    "print(b1 + b2 )\n",
    "print(b1 * b2 )"
   ]
  },
  {
   "cell_type": "markdown",
   "metadata": {},
   "source": [
    "#### Operator Overloadig :The Magic Methods Are Required\n",
    "\n",
    "\n",
    "\n",
    "+  ---------> __add__(self,other)\n",
    "\n",
    "-  ---------> __sub__(self,other)\n",
    "\n",
    "*  ---------> __mul__(self,other)\n",
    "\n",
    "/  ---------> __div__(self,other)\n",
    "\n",
    "//  ---------> __floordiv__(self,other)\n",
    "\n",
    "%  ---------> __mod__(self,other)\n",
    "\n",
    "** ---------> __pow__(self,other)\n",
    "\n",
    "\n",
    "\n",
    "+=  ---------> __iadd__(self,other)\n",
    "\n",
    "-=  ---------> __isub__(self,other)\n",
    "\n",
    "*=  ---------> __imul__(self,other)\n",
    "\n",
    "/=  ---------> __idiv__(self,other)\n",
    "\n",
    "//=  ---------> __ifloordiv__(self,other)\n",
    "\n",
    "%=  ---------> __imod__(self,other)\n",
    "\n",
    "**=  ---------> __ipow__(self,other)\n",
    "\n",
    "\n",
    "\n",
    "<  ---------> __lt__(self,other)\n",
    "\n",
    "<=  ---------> __le__(self,other)\n",
    "\n",
    ">  ---------> __gt__(self,other)\n",
    "\n",
    ">=  ---------> __ge__(self,other)\n",
    "\n",
    "==  ---------> __eq__(self,other)\n",
    "\n",
    "!=  ---------> __ne__(self,other)\n",
    "\n"
   ]
  },
  {
   "cell_type": "code",
   "execution_count": 13,
   "metadata": {},
   "outputs": [
    {
     "name": "stdout",
     "output_type": "stream",
     "text": [
      "False\n",
      "False\n",
      "True\n",
      "True\n"
     ]
    }
   ],
   "source": [
    "## Exaple of Operator Overloading:\n",
    "\n",
    "\n",
    "class Student:\n",
    "    def __init__(self,name,marks):\n",
    "        self.name=name\n",
    "        self.marks=marks\n",
    "        \n",
    "    def __gt__(self,other):\n",
    "        \n",
    "        return self.marks>other.marks\n",
    "           \n",
    "    def __ge__(self,other):\n",
    "        \n",
    "        return self.marks>=other.marks\n",
    "    \n",
    "    def __lt__(self,other):\n",
    "        \n",
    "        return self.marks<other.marks\n",
    "    \n",
    "    def __le__(self,other):\n",
    "        \n",
    "        return self.marks<=other.marks\n",
    "        \n",
    "        \n",
    "           \n",
    "s1 = Student(\"Tom\",232)\n",
    "s2 = Student(\"Jack\",422)\n",
    "\n",
    "print(s1>s2)\n",
    "\n",
    "print(s1>=s2)\n",
    "\n",
    "print(s1<s2)\n",
    "\n",
    "print(s1<=s2)\n",
    "\n"
   ]
  },
  {
   "cell_type": "code",
   "execution_count": 14,
   "metadata": {},
   "outputs": [
    {
     "name": "stdout",
     "output_type": "stream",
     "text": [
      " THe magic add method has been called!\n",
      " THe magic add method has been called!\n",
      "<__main__.Book object at 0x0000029E0D3C82C8>\n"
     ]
    }
   ],
   "source": [
    "# IF we have more than the two object then what will be the logic lets see\n",
    "\n",
    "class Book:\n",
    "    \n",
    "    \n",
    "    def __init__(self,pages):\n",
    "        \n",
    "        self.pages=pages\n",
    "        \n",
    "    def __add__(self,other):\n",
    "        print(\" THe magic add method has been called!\")\n",
    "        \n",
    "        total=self.pages + other.pages     # if we have mor than one object addition then we have to do this like coding \n",
    "        \n",
    "        return Book(total)   # after the proccessing Book(total) gives the ouput of the code \n",
    "    \n",
    "      \n",
    "    \n",
    "    \n",
    "    \n",
    "        \n",
    "b1 = Book(100)        \n",
    "b2 = Book(200)\n",
    "b3 = Book(300)\n",
    "\n",
    "print(b1 + b2 + b3 )\n",
    "\n",
    "   \n",
    "        \n",
    "        "
   ]
  },
  {
   "cell_type": "code",
   "execution_count": 15,
   "metadata": {},
   "outputs": [
    {
     "name": "stdout",
     "output_type": "stream",
     "text": [
      " THe magic add method has been called!\n",
      " THe magic add method has been called!\n",
      "600\n"
     ]
    }
   ],
   "source": [
    "# In the above program we didnt we get an output so for getting the ouput we use the method called __str__(self)  which is used\n",
    "# to display the output of the program \n",
    "class Book:\n",
    "    \n",
    "    \n",
    "    def __init__(self,pages):\n",
    "        \n",
    "        self.pages=pages\n",
    "        \n",
    "    def __add__(self,other):\n",
    "        print(\" THe magic add method has been called!\")\n",
    "        \n",
    "        total=self.pages + other.pages\n",
    "        \n",
    "        return Book(total)\n",
    "    \n",
    "    def __str__(self):\n",
    "            \n",
    "        return str(self.pages)   # this is method usful to display the information\n",
    "    \n",
    "    \n",
    "    \n",
    "        \n",
    "b1 = Book(100)        \n",
    "b2 = Book(200)\n",
    "b3 = Book(300)\n",
    "\n",
    "print(b1 + b2 + b3 )\n",
    "\n",
    "   \n",
    "        \n",
    "        "
   ]
  },
  {
   "cell_type": "code",
   "execution_count": 1,
   "metadata": {},
   "outputs": [
    {
     "name": "stdout",
     "output_type": "stream",
     "text": [
      " THe magic add method has been called!\n",
      " THe magic add method has been called!\n",
      " THe magic add method has been called!\n",
      " THe magic add method has been called!\n",
      " THe magic add method has been called!\n",
      " THe magic add method has been called!\n",
      " THe magic add method has been called!\n",
      "3600\n"
     ]
    }
   ],
   "source": [
    "# if we more then the 3 object then the same object will be applicable\n",
    "\n",
    "# In the above program we didnt we get an output so for getting the ouput we use the method called __str__(self)  which is used\n",
    "# to display the output of the program \n",
    "class Book:\n",
    "    \n",
    "    \n",
    "    def __init__(self,pages):\n",
    "        \n",
    "        self.pages=pages\n",
    "        \n",
    "    def __add__(self,other):\n",
    "        print(\" THe magic add method has been called!\")\n",
    "        \n",
    "        total=self.pages + other.pages\n",
    "        \n",
    "        return Book(total)\n",
    "    \n",
    "    def __str__(self):\n",
    "            \n",
    "        return str(self.pages)   # this is method usful to display the information\n",
    "    \n",
    "    \n",
    "    \n",
    "        \n",
    "b1 = Book(100)        \n",
    "b2 = Book(200)\n",
    "b3 = Book(300)\n",
    "b4 = Book(400)\n",
    "b5 = Book(500)\n",
    "b6 = Book(600)\n",
    "b7 = Book(700)\n",
    "b8 = Book(800)\n",
    "\n",
    "\n",
    "print(b1 + b2 + b3 + b4 +b5 + b6 + b7 + b8)\n",
    "\n",
    "   \n",
    "        \n",
    "        "
   ]
  },
  {
   "cell_type": "code",
   "execution_count": 16,
   "metadata": {},
   "outputs": [
    {
     "name": "stdout",
     "output_type": "stream",
     "text": [
      " THe magic add method has been called!\n",
      " THe magic add method has been called!\n",
      " THe magic add method has been called!\n",
      " THe magic add method has been called!\n",
      " THe magic add method has been called!\n",
      "2100\n"
     ]
    }
   ],
   "source": [
    "class Book:\n",
    "    \n",
    "    \n",
    "    def __init__(self,pages):\n",
    "        \n",
    "        self.pages=pages\n",
    "        \n",
    "    def __add__(self,other):\n",
    "        print(\" THe magic add method has been called!\")\n",
    "        \n",
    "        total=self.pages + other.pages\n",
    "        \n",
    "        return Book(total)\n",
    "    \n",
    "    def __str__(self):\n",
    "            \n",
    "        return str(self.pages)   # this is method useful to display the information  (gies the result of the addition of objects if the object are more than the 2 object)\n",
    "    \n",
    "    \n",
    "    \n",
    "        \n",
    "b1 = Book(100)        \n",
    "b2 = Book(200)\n",
    "b3 = Book(300)\n",
    "b4 = Book(400)\n",
    "\n",
    "b5 = Book(500)\n",
    "\n",
    "b6 = Book(600)\n",
    "\n",
    "\n",
    "print(b1 + b2 + b3 +b4 + b5 + b6 )"
   ]
  },
  {
   "cell_type": "code",
   "execution_count": 22,
   "metadata": {},
   "outputs": [
    {
     "name": "stdout",
     "output_type": "stream",
     "text": [
      " The Object contain the attributes name = Tom and the marks= 65\n",
      " The Object contain the attributes name = Jack and the marks= 75\n"
     ]
    }
   ],
   "source": [
    "# The another use of the __str__(self):  is to print the object let's see an example:\n",
    "\n",
    "\n",
    "class Student:\n",
    "    \n",
    "    def __init__(self,name,marks):\n",
    "        \n",
    "        self.name = name\n",
    "        self.marks = marks \n",
    "        \n",
    "        \n",
    "    def __str__(self):\n",
    "        \n",
    "        return f\" The Object contain the attributes name = {self.name} and the marks= {self.marks}\"\n",
    "        \n",
    "        \n",
    "s1  = Student(\"Tom\",65)\n",
    "print(s1)\n",
    "\n",
    "s2 = Student(\"Jack\",75)\n",
    "print(s2)\n",
    "        "
   ]
  },
  {
   "cell_type": "code",
   "execution_count": 26,
   "metadata": {},
   "outputs": [
    {
     "name": "stdout",
     "output_type": "stream",
     "text": [
      " THe magic __mul__ method  OF Class EMPLOYEE has been called!\n",
      " The month salary will be  28420\n",
      "\n",
      " THe magic __mul__ method  OF Class SHEET has been called!\n",
      " The month salary will be  28420\n"
     ]
    }
   ],
   "source": [
    "class Employee:\n",
    "    \n",
    "    \n",
    "    def __init__(self,name,salary):\n",
    "        \n",
    "        self.name = name\n",
    "        self.salary = salary\n",
    "        \n",
    "        \n",
    "    def __mul__(self,other):\n",
    "        print(\" THe magic __mul__ method  OF Class EMPLOYEE has been called!\")\n",
    "        \n",
    "        return self.salary * other.days  # keep in mingd the syntax of this method\n",
    "    \n",
    "    \n",
    "    \n",
    "class Sheet:\n",
    "    \n",
    "    \n",
    "    def __init__(self,name,days):\n",
    "        \n",
    "        self.name = name\n",
    "        self.days = days\n",
    "        \n",
    "        \n",
    "    def __mul__(self,other):\n",
    "        print(\" THe magic __mul__ method  OF Class SHEET has been called!\")\n",
    "        \n",
    "        return self.days * other.salary \n",
    "    \n",
    "    \n",
    "e = Employee(\"Tom\",2030) \n",
    "\n",
    "s = Sheet(\"Tom\",14)\n",
    "\n",
    "print(\" The month salary will be \", e*s) # for this Class Eployee had been called\n",
    "print()\n",
    "# if we want to run the s*e then we have to add the mul method in the Class Sheet to theen we can acheived  lets see how\n",
    "\n",
    "print(\" The month salary will be \", s*e) # for this class Sheet had been called\n"
   ]
  },
  {
   "cell_type": "markdown",
   "metadata": {},
   "source": [
    "## Method Overloading: \n",
    "\n",
    "\n",
    "#### KEEP IN MIND IF IN THE CLASS WITH SAME METHOD NAME BUT WITH DIFFERENT ARGUMENT THEN THE PRIORITY GOES TO THE LAST METHOD"
   ]
  },
  {
   "cell_type": "code",
   "execution_count": 24,
   "metadata": {},
   "outputs": [
    {
     "name": "stdout",
     "output_type": "stream",
     "text": [
      "m1 method with two argument\n"
     ]
    }
   ],
   "source": [
    "class MethodOverloading:\n",
    "    \n",
    "    def m1(self):\n",
    "        \n",
    "        print(\"m1 method with no argument\")\n",
    "        \n",
    "    def m1(self,price):\n",
    "        \n",
    "        print(\"m1 method with one argument\")\n",
    "    def m1(self,price,wt):\n",
    "        \n",
    "        print(\"m1 method with two argument\")\n",
    "        \n",
    "        \n",
    "        \n",
    "o = MethodOverloading()\n",
    "\n",
    "o.m1(40,10)   # so what we understood if the class contains the same method name but difffernt arg then the last argument will be executed"
   ]
  },
  {
   "cell_type": "code",
   "execution_count": 28,
   "metadata": {},
   "outputs": [
    {
     "name": "stdout",
     "output_type": "stream",
     "text": [
      "m1 method with one argument\n"
     ]
    }
   ],
   "source": [
    "# if we interchange the position of the methods then \n",
    "\n",
    "class MethodOverloading:\n",
    "    \n",
    "    def m1(self):\n",
    "        \n",
    "        print(\"m1 method with no argument\")\n",
    "        \n",
    "    def m1(self,price,wt):\n",
    "        \n",
    "        print(\"m1 method with two argument\")     \n",
    "        \n",
    "    def m1(self,price):\n",
    "        \n",
    "        print(\"m1 method with one argument\")\n",
    "\n",
    "        \n",
    "        \n",
    "        \n",
    "o = MethodOverloading() \n",
    "\n",
    "# o.m1(40,10) # It gives the error\n",
    "\n",
    "o.m1(40)  # here the last method works \n",
    "\n",
    "        \n",
    "\n"
   ]
  },
  {
   "cell_type": "code",
   "execution_count": 30,
   "metadata": {},
   "outputs": [
    {
     "name": "stdout",
     "output_type": "stream",
     "text": [
      "m1 method with no argument\n"
     ]
    }
   ],
   "source": [
    "# if we interchange the position of the methods then \n",
    "\n",
    "class MethodOverloading:\n",
    "        \n",
    "    def m1(self,price,wt):\n",
    "        \n",
    "        print(\"m1 method with two argument\")     \n",
    "        \n",
    "    def m1(self,price):\n",
    "        \n",
    "        print(\"m1 method with one argument\")\n",
    "\n",
    "    def m1(self):\n",
    "        \n",
    "        print(\"m1 method with no argument\")    \n",
    "        \n",
    "        \n",
    "o = MethodOverloading() \n",
    "\n",
    "# o.m1(40,10) # It gives the error\n",
    "\n",
    "#o.m1(40)  # here the last method works \n",
    "\n",
    "o.m1() # it will bw run because it executes its last method only       \n"
   ]
  },
  {
   "cell_type": "code",
   "execution_count": 57,
   "metadata": {},
   "outputs": [
    {
     "name": "stdout",
     "output_type": "stream",
     "text": [
      "Invalid! At least One argument is Required...\n",
      "\n",
      "The sum of the one number: 10\n",
      "\n",
      "The sum of the two number: 30\n",
      "\n",
      "The sum of the three number: 60\n"
     ]
    }
   ],
   "source": [
    "# Now how to solve the the problem \n",
    "\n",
    "# lets see solve the problem by using the logic\n",
    "\n",
    "\n",
    "class Test:\n",
    "    \n",
    "    def __init__(self, a=None, b=None, c=None):\n",
    "        \n",
    "        if a!=None and b!=None and c!= None:\n",
    "            print(\"The sum of the three number:\",(a+b+c))\n",
    "            \n",
    "        elif a!=None and b!=None:\n",
    "            print(\"The sum of the two number:\",(a+b))\n",
    "            \n",
    "        elif a!=None :\n",
    "            print(\"The sum of the one number:\",(a)) \n",
    "            \n",
    "        else:\n",
    "            print(\"Invalid! At least One argument is Required...\")\n",
    "            \n",
    "            \n",
    "t = Test()\n",
    "print()\n",
    "\n",
    "t= Test(10)\n",
    "print()\n",
    "\n",
    "t= Test(10,20)\n",
    "print()\n",
    "\n",
    "t= Test(10,20,30)\n",
    "\n",
    "#t= Test(10,20,30,40) Error so this error we will solve below:\n"
   ]
  },
  {
   "cell_type": "code",
   "execution_count": 42,
   "metadata": {},
   "outputs": [
    {
     "name": "stdout",
     "output_type": "stream",
     "text": [
      " The sum of the numbers are : 10\n",
      " The sum of the numbers are : 30\n",
      " The sum of the numbers are : 60\n",
      " The sum of the numbers are : 100\n",
      " The sum of the numbers are : 150\n"
     ]
    }
   ],
   "source": [
    "class Test:\n",
    "    \n",
    "    def sum(self, *a):# *a is an variable Argument \n",
    "        \n",
    "        total =0\n",
    "        \n",
    "        for x in a:\n",
    "            total = total + x\n",
    "            \n",
    "            \n",
    "        print(\" The sum of the numbers are :\",total)    \n",
    "t = Test() \n",
    "\n",
    "t.sum(10)\n",
    "\n",
    "t.sum(10,20)\n",
    "\n",
    "t.sum(10,20,30)\n",
    "\n",
    "t.sum(10,20,30,40)\n",
    "\n",
    "t.sum(10,20,30,40,50)"
   ]
  },
  {
   "cell_type": "markdown",
   "metadata": {},
   "source": [
    "### CONSTRUCTOR OVERLOADING:\n",
    "\n",
    "#### KEEP IN MIND IF IN THE CLASS WITH SAME CONSTRUCTOR BUT WITH DIFFERENT ARGUMENT THEN THE PRIORITY GOES TO THE CONSTRUCTOR"
   ]
  },
  {
   "cell_type": "code",
   "execution_count": 47,
   "metadata": {},
   "outputs": [
    {
     "name": "stdout",
     "output_type": "stream",
     "text": [
      "m1 method with two argument\n"
     ]
    }
   ],
   "source": [
    "class ConstructorOverloading:\n",
    "    \n",
    "    def __init__(self):\n",
    "        \n",
    "        print(\"m1 method with no argument\")\n",
    "        \n",
    "    def __init__(self,price):\n",
    "        \n",
    "        print(\"m1 method with one argument\")\n",
    "    def __init__(self,price,wt):\n",
    "        \n",
    "        print(\"m1 method with two argument\")\n",
    "        \n",
    "#o = ConstructorOverloading()  # Error      \n",
    "#o = ConstructorOverloading(40) # Error       \n",
    "o = ConstructorOverloading(40,10)\n",
    "\n"
   ]
  },
  {
   "cell_type": "code",
   "execution_count": 50,
   "metadata": {},
   "outputs": [
    {
     "name": "stdout",
     "output_type": "stream",
     "text": [
      "m1 method with one argument\n"
     ]
    }
   ],
   "source": [
    "class ConstructorOverloading:\n",
    "    \n",
    "    def __init__(self):\n",
    "        \n",
    "        print(\"m1 method with no argument\")\n",
    "   \n",
    "        \n",
    "    def __init__(self,price,wt):\n",
    "        \n",
    "        print(\"m1 method with two argument\")\n",
    "                \n",
    "        \n",
    "    def __init__(self,price):\n",
    "        \n",
    "        print(\"m1 method with one argument\")\n",
    "\n",
    "        \n",
    "#o = ConstructorOverloading()  # Error      \n",
    "o = ConstructorOverloading(40)      \n",
    "#o = ConstructorOverloading(40,10) # Error\n"
   ]
  },
  {
   "cell_type": "code",
   "execution_count": 52,
   "metadata": {},
   "outputs": [
    {
     "name": "stdout",
     "output_type": "stream",
     "text": [
      "m1 method with no argument\n"
     ]
    }
   ],
   "source": [
    "class ConstructorOverloading:\n",
    "\n",
    "        \n",
    "    def __init__(self,price,wt):\n",
    "        \n",
    "        print(\"m1 method with two argument\")\n",
    "                \n",
    "        \n",
    "    def __init__(self,price):\n",
    "        \n",
    "        print(\"m1 method with one argument\")\n",
    "        \n",
    "    def __init__(self):\n",
    "        \n",
    "        print(\"m1 method with no argument\")\n",
    "   \n",
    "        \n",
    "o = ConstructorOverloading()    \n",
    "#o = ConstructorOverloading(40)  # Error        \n",
    "#o = ConstructorOverloading(40,10) # Error\n"
   ]
  },
  {
   "cell_type": "code",
   "execution_count": 56,
   "metadata": {},
   "outputs": [
    {
     "name": "stdout",
     "output_type": "stream",
     "text": [
      "THe constructor with argument 0|1|2|3\n",
      "THe constructor with argument 0|1|2|3\n",
      "THe constructor with argument 0|1|2|3\n",
      "THe constructor with argument 0|1|2|3\n"
     ]
    }
   ],
   "source": [
    "class Test:\n",
    "    def __init__(self, a = None,b=None,c=None):\n",
    "        \n",
    "        print(\"THe constructor with argument 0|1|2|3\")\n",
    "        \n",
    "        \n",
    "t = Test()  \n",
    "t = Test(10) \n",
    "t = Test(10,20) \n",
    "t = Test(10,20,30) "
   ]
  },
  {
   "cell_type": "code",
   "execution_count": 55,
   "metadata": {},
   "outputs": [
    {
     "name": "stdout",
     "output_type": "stream",
     "text": [
      "THe constructor with argument 0|1|2|3\n",
      "THe constructor with argument 0|1|2|3\n",
      "THe constructor with argument 0|1|2|3\n",
      "THe constructor with argument 0|1|2|3\n"
     ]
    }
   ],
   "source": [
    "class Test:\n",
    "    def __init__(self, *a):\n",
    "        \n",
    "        print(\"THe constructor with argument 0|1|2|3\")\n",
    "        \n",
    "        \n",
    "t = Test()  \n",
    "t = Test(10) \n",
    "t = Test(10,20) \n",
    "t = Test(10,20,30)"
   ]
  },
  {
   "cell_type": "markdown",
   "metadata": {},
   "source": [
    "### Method Overriding:"
   ]
  },
  {
   "cell_type": "code",
   "execution_count": 60,
   "metadata": {},
   "outputs": [
    {
     "name": "stdout",
     "output_type": "stream",
     "text": [
      "cash + bike + cars + loan + companies\n",
      "A\n"
     ]
    }
   ],
   "source": [
    "class P:\n",
    "    \n",
    "    def property(self):\n",
    "        \n",
    "        print(\"cash + bike + cars + loan + companies\")\n",
    "        \n",
    "    def marriage(self):\n",
    "        \n",
    "        print(\"x|y|Z\")\n",
    "        \n",
    "class C(P):\n",
    "    \n",
    "    def marriage(self):#so here the method overriding happen because the child class override the parant class run its own method\n",
    "        print(\"A\")\n",
    "c = C()\n",
    "c.property()\n",
    "c.marriage()"
   ]
  },
  {
   "cell_type": "code",
   "execution_count": 1,
   "metadata": {},
   "outputs": [
    {
     "name": "stdout",
     "output_type": "stream",
     "text": [
      "cash + bike + cars + loan + companies\n",
      "A\n"
     ]
    }
   ],
   "source": [
    "class P:\n",
    "    \n",
    "    def property(self):\n",
    "        \n",
    "        print(\"cash + bike + cars + loan + companies\")\n",
    "        \n",
    "    def marriage(self):\n",
    "        \n",
    "        print(\"x|y|Z\")\n",
    "        \n",
    "class C(P):\n",
    "#    super().marriage() # it will run and get the parant class marriage method\n",
    "    def marriage(self):#so here the method overriding happen because the child class override the parant class run its own method\n",
    "        print(\"A\")\n",
    "c = C()\n",
    "c.property()\n",
    "c.marriage()"
   ]
  },
  {
   "cell_type": "markdown",
   "metadata": {},
   "source": [
    "### constructor overriding"
   ]
  },
  {
   "cell_type": "markdown",
   "metadata": {},
   "source": [
    "### super().method_name : this will helps to get the parant class constructor"
   ]
  },
  {
   "cell_type": "code",
   "execution_count": 64,
   "metadata": {},
   "outputs": [
    {
     "name": "stdout",
     "output_type": "stream",
     "text": [
      "child class Consructor is executed\n"
     ]
    }
   ],
   "source": [
    "class P:\n",
    "    def __init__(self):\n",
    "        print(\"Parant class Consructor is executed\")\n",
    "    \n",
    "    \n",
    "class C(P):\n",
    "    def __init__(self):\n",
    "        print(\"child class Consructor is executed\") \n",
    "        \n",
    "        \n",
    "c = C()        # here the child class constructor overrides the parant class constructor"
   ]
  },
  {
   "cell_type": "code",
   "execution_count": 67,
   "metadata": {},
   "outputs": [
    {
     "name": "stdout",
     "output_type": "stream",
     "text": [
      "Parant class Consructor is executed\n",
      "child class Consructor is executed\n"
     ]
    }
   ],
   "source": [
    "class P:\n",
    "    def __init__(self):\n",
    "        print(\"Parant class Consructor is executed\")\n",
    "    \n",
    "    \n",
    "class C(P):\n",
    "    def __init__(self):\n",
    "        super().__init__()  # the soltion is to fetch the parant class constructor using super()\n",
    "        print(\"child class Consructor is executed\") \n",
    "        \n",
    "        \n",
    "c = C()        "
   ]
  },
  {
   "cell_type": "code",
   "execution_count": null,
   "metadata": {},
   "outputs": [],
   "source": [
    "# Abstract Method\n",
    "# Abstract class\n",
    "# Interface\n",
    "# Public, Private, Protected Member\n",
    "\n"
   ]
  },
  {
   "cell_type": "code",
   "execution_count": 10,
   "metadata": {},
   "outputs": [],
   "source": [
    "from abc import *\n",
    "# Abstract is the base class\n",
    "# Abstract means hiding something or not complete\n",
    "\n",
    "class Vehicle:\n",
    "    @abstractmethod      # abstract method declaration\n",
    "    def getnoofwheel(self):\n",
    "        pass\n",
    "    \n",
    "    # as now we dont know the implementation \n",
    "class veg: \n",
    "    \n",
    "    @abstractmethod\n",
    "    def gettheprice(self):\n",
    "        pass"
   ]
  },
  {
   "cell_type": "code",
   "execution_count": 9,
   "metadata": {},
   "outputs": [
    {
     "ename": "TypeError",
     "evalue": "Can't instantiate abstract class Vehicle with abstract methods getnoofwheel",
     "output_type": "error",
     "traceback": [
      "\u001b[1;31m---------------------------------------------------------------------------\u001b[0m",
      "\u001b[1;31mTypeError\u001b[0m                                 Traceback (most recent call last)",
      "\u001b[1;32m<ipython-input-9-c08dbf9e5a07>\u001b[0m in \u001b[0;36m<module>\u001b[1;34m\u001b[0m\n\u001b[0;32m      7\u001b[0m     \u001b[1;32mdef\u001b[0m \u001b[0mgetnoofwheel\u001b[0m\u001b[1;33m(\u001b[0m\u001b[0mself\u001b[0m\u001b[1;33m)\u001b[0m\u001b[1;33m:\u001b[0m\u001b[1;33m\u001b[0m\u001b[1;33m\u001b[0m\u001b[0m\n\u001b[0;32m      8\u001b[0m         \u001b[1;32mpass\u001b[0m\u001b[1;33m\u001b[0m\u001b[1;33m\u001b[0m\u001b[0m\n\u001b[1;32m----> 9\u001b[1;33m \u001b[0mv\u001b[0m \u001b[1;33m=\u001b[0m \u001b[0mVehicle\u001b[0m\u001b[1;33m(\u001b[0m\u001b[1;33m)\u001b[0m\u001b[1;33m\u001b[0m\u001b[1;33m\u001b[0m\u001b[0m\n\u001b[0m",
      "\u001b[1;31mTypeError\u001b[0m: Can't instantiate abstract class Vehicle with abstract methods getnoofwheel"
     ]
    }
   ],
   "source": [
    "# Abstract class: Partial or incomplete  implementation of the class known as the Abstract Class\n",
    "\n",
    "from abc import*\n",
    "\n",
    "class Vehicle(ABC):  # the capital ABC  helps me understand that this is a Abstract class\n",
    "    @abstractmethod      # abstract method declaration\n",
    "    def getnoofwheel(self):\n",
    "        pass\n",
    "v = Vehicle()   # here we can not create the object beacuse we are iding method because yet now we does not require the method\n",
    "# but may be useful in the future"
   ]
  },
  {
   "cell_type": "code",
   "execution_count": 11,
   "metadata": {},
   "outputs": [],
   "source": [
    "# if we have only abstarct method without abstract class it working fine\n",
    "class Vehicle:\n",
    "    @abstractmethod      # abstract method declaration\n",
    "    def getnoofwheel(self):\n",
    "        pass\n",
    "    \n",
    "v = Vehicle()    "
   ]
  },
  {
   "cell_type": "code",
   "execution_count": 8,
   "metadata": {},
   "outputs": [
    {
     "data": {
      "text/plain": [
       "<__main__.Test at 0x24607e191c8>"
      ]
     },
     "execution_count": 8,
     "metadata": {},
     "output_type": "execute_result"
    }
   ],
   "source": [
    "class Test(ABC):\n",
    "    pass\n",
    "\n",
    "t = Test()\n",
    "t"
   ]
  },
  {
   "cell_type": "markdown",
   "metadata": {},
   "source": [
    "### Abstract Method: the Method having no proper implementation\n",
    "\n",
    "#declaration : @abstractmethod decorator\n",
    "#the @abstractmethod decorator present in the abc module \n",
    "#child class is reponsible for the implementing the parant class method \n",
    "\n",
    "\n",
    "### Abstract class: the partial implementation of the class or not complete class\n",
    "\n",
    "#Declaration of the abstract class: by extending the ABC class as below\n",
    "\n",
    "#class Test(ABC): pass  now the child class will be Test and Parant class will be the ABC class\n",
    "\n",
    "#so the test class extending the ABC parant class\n",
    "\n",
    "#ABC class presnt in the abc module\n",
    "\n",
    "#abstract class contain the may or may not contains the abstract method(may be 0 abstract method)\n",
    "\n",
    "\n",
    "### Abstract class  VS Abstract Method\n",
    "#abstract class contain the may or may not contains the abstract method(may be 0 abstract method)\n",
    "#abstract class contains the noramal methods as well\n",
    "\n",
    " #### When the object creation is not possible?\n",
    " \n",
    " #if class is a abstractclass\n",
    " #if a class is abtract class with the abstract class mehthod\n",
    " \n",
    " ### when the object creation is possible?\n",
    " \n",
    " #if the class is not abstract or\n",
    " #if the class is not abstract and the class may or may not acontaing the abstract method then the object creation is possible\n",
    " "
   ]
  },
  {
   "cell_type": "code",
   "execution_count": 5,
   "metadata": {},
   "outputs": [
    {
     "ename": "TypeError",
     "evalue": "Can't instantiate abstract class Bus with abstract methods getnoofwheel",
     "output_type": "error",
     "traceback": [
      "\u001b[1;31m---------------------------------------------------------------------------\u001b[0m",
      "\u001b[1;31mTypeError\u001b[0m                                 Traceback (most recent call last)",
      "\u001b[1;32m<ipython-input-5-e9b9774636c2>\u001b[0m in \u001b[0;36m<module>\u001b[1;34m\u001b[0m\n\u001b[0;32m      9\u001b[0m     \u001b[1;32mdef\u001b[0m \u001b[0mticket\u001b[0m\u001b[1;33m(\u001b[0m\u001b[0mself\u001b[0m\u001b[1;33m)\u001b[0m\u001b[1;33m:\u001b[0m\u001b[1;33m\u001b[0m\u001b[1;33m\u001b[0m\u001b[0m\n\u001b[0;32m     10\u001b[0m         \u001b[1;32mpass\u001b[0m\u001b[1;33m\u001b[0m\u001b[1;33m\u001b[0m\u001b[0m\n\u001b[1;32m---> 11\u001b[1;33m \u001b[0mb\u001b[0m \u001b[1;33m=\u001b[0m \u001b[0mBus\u001b[0m\u001b[1;33m(\u001b[0m\u001b[1;33m)\u001b[0m\u001b[1;33m\u001b[0m\u001b[1;33m\u001b[0m\u001b[0m\n\u001b[0m",
      "\u001b[1;31mTypeError\u001b[0m: Can't instantiate abstract class Bus with abstract methods getnoofwheel"
     ]
    }
   ],
   "source": [
    "from abc import *\n",
    "class Vehicle(ABC):\n",
    "    @abstractmethod\n",
    "    def getnoofwheel(self):\n",
    "        pass\n",
    "    \n",
    "    \n",
    "class Bus(Vehicle):\n",
    "    def ticket(self):\n",
    "        pass\n",
    "b = Bus()        "
   ]
  },
  {
   "cell_type": "code",
   "execution_count": 8,
   "metadata": {},
   "outputs": [
    {
     "data": {
      "text/plain": [
       "4"
      ]
     },
     "execution_count": 8,
     "metadata": {},
     "output_type": "execute_result"
    }
   ],
   "source": [
    "from abc import *\n",
    "class Vehicle(ABC):\n",
    "    @abstractmethod\n",
    "    def getnoofwheel(self):\n",
    "        pass\n",
    "    \n",
    "    \n",
    "class Bus(Vehicle):\n",
    "    def getnoofwheel(self):\n",
    "        return 10\n",
    "    \n",
    "    \n",
    "class Auto(Vehicle):\n",
    "     def getnoofwheel(self):\n",
    "        return 4\n",
    "b = Bus()\n",
    "\n",
    "b.getnoofwheel()\n",
    "\n",
    "a = Auto()\n",
    "\n",
    "a.getnoofwheel()\n",
    "\n",
    "# What is the advantage of the Abstract Method?\n",
    "\n",
    "# Compulsary child have to implement then only child will get the property of the parnat "
   ]
  },
  {
   "cell_type": "code",
   "execution_count": 12,
   "metadata": {},
   "outputs": [
    {
     "name": "stdout",
     "output_type": "stream",
     "text": [
      "Implementing the m1 method\n",
      "Implementing the m2 method\n"
     ]
    }
   ],
   "source": [
    "\n",
    "from abc import *\n",
    "\n",
    "class P(ABC):\n",
    "    @abstractmethod   \n",
    "    def m1(self):\n",
    "        pass\n",
    "    @abstractmethod   \n",
    "    def m2(self):\n",
    "        pass \n",
    "    \n",
    "class C(P):\n",
    "    \n",
    "    def m1(self):\n",
    "        \n",
    "        print(\"Implementing the m1 method\") # If one of the method in class C i skip then it throws the error \n",
    "     \n",
    "    def m2(self):                           # it madatory that each Abstract Method should have optional method in Class C \n",
    "        \n",
    "        print(\"Implementing the m2 method\")       \n",
    "c = C()\n",
    "\n",
    "c.m1()\n",
    "c.m2()"
   ]
  },
  {
   "cell_type": "code",
   "execution_count": 22,
   "metadata": {},
   "outputs": [
    {
     "name": "stdout",
     "output_type": "stream",
     "text": [
      " The m2 method of the class CC is working fine \n"
     ]
    }
   ],
   "source": [
    "from abc import *\n",
    "class P(ABC):\n",
    "    @abstractmethod   \n",
    "    def m1(self):\n",
    "        pass\n",
    "    @abstractmethod   \n",
    "    def m2(self):\n",
    "        pass \n",
    "    \n",
    "class C(P):\n",
    "     \n",
    "    def m1(self):                         \n",
    "        \n",
    "        print(\"Implementing the m1 method\")\n",
    "        \n",
    "class CC(C):\n",
    "    \n",
    "    def m2(self):\n",
    "        print(\" The m2 method of the class CC is working fine \")\n",
    "\n",
    "#c = C()  # it throws error beacuse it contains only m1 method for abstract method m1 \n",
    "               #but where is m2 m2 method is absent so it throws an error      \n",
    "cc=CC()  # but here CC is child class and the C parant class , so that it can acces the m1 method\n",
    "              #and it containd its own m2 method\n",
    "cc.m2()  # so it satifeis the condition that Each Abstract method there is optional method is mandatory in the another class\n",
    "             #so it is running perfectly fine "
   ]
  },
  {
   "cell_type": "code",
   "execution_count": 26,
   "metadata": {},
   "outputs": [
    {
     "name": "stdout",
     "output_type": "stream",
     "text": [
      "Implementing the m1 method\n",
      "Implementing the m2 method\n"
     ]
    }
   ],
   "source": [
    "from abc import *\n",
    "\n",
    "class P(ABC):\n",
    "    @abstractmethod   \n",
    "    def m1(self):\n",
    "        pass  \n",
    "    def m2(self):\n",
    "        print(\"Implementing the m2 method\")\n",
    "        pass \n",
    "    \n",
    "class C(P):\n",
    "     \n",
    "    def m1(self):                         \n",
    "        \n",
    "        print(\"Implementing the m1 method\")\n",
    "        \n",
    "c = C()   # so in this example the abstract class p contains the only one the abstract\n",
    "          #method m1 so the optional method is present in the class C so its valid and run perfectly fine\n",
    "c.m1()\n",
    "c.m2()"
   ]
  },
  {
   "cell_type": "markdown",
   "metadata": {},
   "source": [
    "### INTERACE: An Abstract Class Contain the only Abstract method then it is known as Interface"
   ]
  },
  {
   "cell_type": "code",
   "execution_count": 27,
   "metadata": {},
   "outputs": [],
   "source": [
    "from abc import *\n",
    "\n",
    "class P(ABC):   \n",
    "    @abstractmethod   \n",
    "    def m1(self):\n",
    "        pass \n",
    "    @abstractmethod\n",
    "    def m2(self):\n",
    "        print(\"Implementing the m2 method\")\n",
    "    @abstractmethod\n",
    "    def m3(self):\n",
    "        print(\"Implementing the m3 method\")\n",
    "        \n",
    "        \n",
    "    @abstractmethod\n",
    "    def m4(self):\n",
    "        print(\"Implementing the m4 method\")\n",
    "# it is an INTERFCE\n"
   ]
  },
  {
   "cell_type": "markdown",
   "metadata": {},
   "source": [
    "### When we go to the INTERFACE vs ABSTRACT CLASS vs CONCRETE CLASS\n",
    "\n",
    "\n",
    "    # when we do not know implementation and requirement is Specified ----> INTERFACE\n",
    "    \n",
    "    # if we have the implementation but not complete ------> ABSTRACT CLASS\n",
    "    \n",
    "    # if we are talking about the implentation completley and ready to provide the all the services --->Concrete Class\n",
    "    \n",
    "    "
   ]
  },
  {
   "cell_type": "markdown",
   "metadata": {},
   "source": [
    "### Types of the member: it therotical concept thsese are are not much useful in python\n",
    "\n",
    "##### Public\n",
    "##### Private\n",
    "##### Protectd"
   ]
  },
  {
   "cell_type": "code",
   "execution_count": 31,
   "metadata": {},
   "outputs": [
    {
     "name": "stdout",
     "output_type": "stream",
     "text": [
      "10\n",
      "20\n"
     ]
    }
   ],
   "source": [
    "class Test:\n",
    "    x=10  # public\n",
    "    def __init__(self):  \n",
    "        self.y=20         # public\n",
    "        \n",
    "        \n",
    "t = Test()\n",
    "\n",
    "print(t.x)\n",
    "print(t.y)"
   ]
  },
  {
   "cell_type": "code",
   "execution_count": 30,
   "metadata": {},
   "outputs": [
    {
     "name": "stdout",
     "output_type": "stream",
     "text": [
      "10\n",
      "20\n"
     ]
    }
   ],
   "source": [
    "class Test:\n",
    "    _x=10  # private\n",
    "    def __init__(self):\n",
    "        self._y=20  # Private\n",
    "        \n",
    "        \n",
    "t = Test()\n",
    "\n",
    "print(t._x)\n",
    "print(t._y)"
   ]
  },
  {
   "cell_type": "code",
   "execution_count": 39,
   "metadata": {},
   "outputs": [
    {
     "name": "stdout",
     "output_type": "stream",
     "text": [
      "{'_Test__y': 20}\n",
      "20\n",
      "10\n"
     ]
    }
   ],
   "source": [
    "class Test:\n",
    "    __x=10  # private\n",
    "    def __init__(self):\n",
    "        self.__y=20  # Private\n",
    "        \n",
    "        \n",
    "t = Test()\n",
    "\n",
    "#print(t.__x)  # ERROR\n",
    "#print(t.__y)# ERROR\n",
    "\n",
    "# but we can access the varibale lets see how\n",
    "\n",
    "print(t.__dict__)# Instance Varible\n",
    "#OR\n",
    "print(t._Test__y) # Instance Variable\n",
    "\n",
    "\n",
    "print(Test._Test__x) # Static Variable"
   ]
  },
  {
   "cell_type": "code",
   "execution_count": null,
   "metadata": {},
   "outputs": [],
   "source": []
  },
  {
   "cell_type": "markdown",
   "metadata": {},
   "source": [
    "### __str__ return   VS     repr"
   ]
  },
  {
   "cell_type": "code",
   "execution_count": null,
   "metadata": {},
   "outputs": [],
   "source": [
    "class Student:\n",
    "    \n",
    "    def __init__(self,name,roll):\n",
    "        self.name=name\n",
    "        self.roll=roll\n",
    "        \n",
    "s1 = Student(\"Tom\",202) \n",
    "print(s1)"
   ]
  },
  {
   "cell_type": "code",
   "execution_count": 45,
   "metadata": {},
   "outputs": [
    {
     "name": "stdout",
     "output_type": "stream",
     "text": [
      "The Student Name: Tom Student Roll Number: 202\n"
     ]
    }
   ],
   "source": [
    "class Student:\n",
    "    \n",
    "    def __init__(self,name,roll):\n",
    "        self.name=name\n",
    "        self.roll=roll\n",
    "        \n",
    "    def __str__(self):   # __str__ return method used to describe the class whatever the information in the class it prints \n",
    "        return f\"The Student Name: {self.name} Student Roll Number: {self.roll}\"\n",
    "        \n",
    "s1 = Student(\"Tom\",202)  \n",
    "print(s1)"
   ]
  },
  {
   "cell_type": "code",
   "execution_count": 49,
   "metadata": {},
   "outputs": [
    {
     "name": "stdout",
     "output_type": "stream",
     "text": [
      "2020-06-28 19:30:37.492831\n",
      "<class 'str'>\n"
     ]
    }
   ],
   "source": [
    "import datetime\n",
    "\n",
    "today = datetime.datetime.now()\n",
    "\n",
    "s = str(today)\n",
    "print(s)\n",
    "\n",
    "print(type(s))"
   ]
  },
  {
   "cell_type": "code",
   "execution_count": 51,
   "metadata": {},
   "outputs": [
    {
     "name": "stdout",
     "output_type": "stream",
     "text": [
      "datetime.datetime(2020, 6, 28, 19, 31, 37, 840454)\n",
      "<class 'str'>\n"
     ]
    }
   ],
   "source": [
    "import datetime\n",
    "\n",
    "today = datetime.datetime.now()\n",
    "\n",
    "#s = eval(today) ERROR\n",
    "s= repr(today)\n",
    "print(s)\n",
    "\n",
    "print(type(s))\n",
    "\n",
    "# So the differnce between teh __Str__ return ans repr is that in __str__ return we dont able to go to depth of the func \n",
    "#but i the case of the repr we are able to go in the depth of the function"
   ]
  },
  {
   "cell_type": "code",
   "execution_count": null,
   "metadata": {},
   "outputs": [],
   "source": []
  },
  {
   "cell_type": "markdown",
   "metadata": {},
   "source": [
    "## BANK APPLICATION:"
   ]
  },
  {
   "cell_type": "code",
   "execution_count": 34,
   "metadata": {},
   "outputs": [
    {
     "name": "stdout",
     "output_type": "stream",
     "text": [
      "The Customer Name: KArry Customer Balance: 12\n",
      " Your Balance is  300\n",
      " Your Balance is  120300\n"
     ]
    }
   ],
   "source": [
    "class Account:\n",
    "    \n",
    "    def __init__(self,name,balance,min_balance):\n",
    "        self.name=name\n",
    "        self.balance= balance\n",
    "        self.min_balance = min_balance\n",
    "        \n",
    "    def deposit(self,amount):\n",
    "        \n",
    "        self.balance = self.balance + amount\n",
    "        \n",
    "        \n",
    "    def withdraw(self,amount):\n",
    "        \n",
    "        if self.balance - amount>= self.min_balance:\n",
    "            \n",
    "            self.balance = self.balance = amount\n",
    "            \n",
    "        else:\n",
    "            print(\"Insufficient Fund!!!\")\n",
    "            \n",
    "    def printstatement(self):\n",
    "        \n",
    "        print(\" Your Balance is \",self.balance)\n",
    "        \n",
    "class SavingAccount(Account):\n",
    "    \n",
    "    def __init__(self,name,balance):\n",
    "        super().__init__(name,balance,min_balance=0)\n",
    "        \n",
    "    def __str__(self):\n",
    "        # __str__ return method used to describe the class whatever the information in the class it prints \n",
    "        return f\"The Customer Name: {self.name} Customer Balance: {self.balance}\"\n",
    "    \n",
    "        \n",
    "class CurrentAccount(Account):\n",
    "    \n",
    "    def __init__(self,name,balance):\n",
    "        super().__init__(name,balance,min_balance=-10000)\n",
    "                         \n",
    "    def __str__(self):   # __str__ return method used to describe the class whatever the information in the class it prints \n",
    "        return f\"The Customer Name: {self.name} Customer Balance: {self.balance}\"  \n",
    "                         \n",
    "c = CurrentAccount(\"KArry\",0)\n",
    "\n",
    "c.withdraw(12)\n",
    "print(c)\n",
    "\n",
    "s = SavingAccount(\"Lucy\",10000)\n",
    "s.withdraw(300)\n",
    "\n",
    "s.printstatement()\n",
    "\n",
    "s.deposit(120000)\n",
    "s.printstatement()"
   ]
  },
  {
   "cell_type": "code",
   "execution_count": null,
   "metadata": {},
   "outputs": [],
   "source": []
  },
  {
   "cell_type": "code",
   "execution_count": null,
   "metadata": {},
   "outputs": [],
   "source": []
  },
  {
   "cell_type": "code",
   "execution_count": null,
   "metadata": {},
   "outputs": [],
   "source": []
  },
  {
   "cell_type": "code",
   "execution_count": null,
   "metadata": {},
   "outputs": [],
   "source": []
  },
  {
   "cell_type": "code",
   "execution_count": null,
   "metadata": {},
   "outputs": [],
   "source": []
  },
  {
   "cell_type": "code",
   "execution_count": null,
   "metadata": {},
   "outputs": [],
   "source": []
  },
  {
   "cell_type": "code",
   "execution_count": null,
   "metadata": {},
   "outputs": [],
   "source": []
  },
  {
   "cell_type": "code",
   "execution_count": null,
   "metadata": {},
   "outputs": [],
   "source": []
  },
  {
   "cell_type": "code",
   "execution_count": null,
   "metadata": {},
   "outputs": [],
   "source": []
  },
  {
   "cell_type": "code",
   "execution_count": null,
   "metadata": {},
   "outputs": [],
   "source": []
  },
  {
   "cell_type": "code",
   "execution_count": null,
   "metadata": {},
   "outputs": [],
   "source": []
  },
  {
   "cell_type": "code",
   "execution_count": null,
   "metadata": {},
   "outputs": [],
   "source": []
  },
  {
   "cell_type": "code",
   "execution_count": null,
   "metadata": {},
   "outputs": [],
   "source": []
  },
  {
   "cell_type": "code",
   "execution_count": null,
   "metadata": {},
   "outputs": [],
   "source": []
  }
 ],
 "metadata": {
  "kernelspec": {
   "display_name": "Python 3",
   "language": "python",
   "name": "python3"
  },
  "language_info": {
   "codemirror_mode": {
    "name": "ipython",
    "version": 3
   },
   "file_extension": ".py",
   "mimetype": "text/x-python",
   "name": "python",
   "nbconvert_exporter": "python",
   "pygments_lexer": "ipython3",
   "version": "3.7.6"
  }
 },
 "nbformat": 4,
 "nbformat_minor": 4
}
